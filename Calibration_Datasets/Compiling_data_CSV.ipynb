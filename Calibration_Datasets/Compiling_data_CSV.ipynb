{
 "cells": [
  {
   "cell_type": "code",
   "execution_count": 1,
   "id": "d138848f-db5f-4a7a-9081-42503be81e8b",
   "metadata": {},
   "outputs": [],
   "source": [
    "import Thermobar as pt\n",
    "import pandas as pd\n",
    "import numpy as np\n",
    "import matplotlib.pyplot as plt\n",
    "from pickle import dump\n",
    "import pickle\n",
    "import PySulfSat as ss"
   ]
  },
  {
   "cell_type": "code",
   "execution_count": 2,
   "metadata": {},
   "outputs": [],
   "source": [
    "sup_models = ['S2017_SCSS', 'LiZhang2022_SCSS', 'Liu2021_SCSS', 'B2021_SCSS',  'F2015_SCSS',\n",
    "    'CD2019_SCAS', 'ZT2022_SCAS', 'MK_2015',\n",
    "    'O2022_CS6', 'BW2022_CS6']\n",
    "for model in sup_models:\n",
    "    df=ss.return_cali_dataset(model)\n",
    "\n",
    "   "
   ]
  },
  {
   "cell_type": "code",
   "execution_count": null,
   "id": "cf08ca43-f8af-4ae9-ab0a-17113ded234c",
   "metadata": {},
   "outputs": [],
   "source": [
    "cols_ideal=pd.DataFrame(columns=['Sample', 'P_kbar', 'T_K', 'SiO2_Liq', 'TiO2_Liq', 'Al2O3_Liq', 'FeOt_Liq', 'MgO_Liq',\n",
    "            'CaO_Liq', 'Na2O_Liq', 'K2O_Liq', 'P2O5_Liq', 'H2O_Liq', 'S_Liq_ppm',\n",
    "            'logfO2', 'Fe_sulf_wt%', 'Cu_sulf_wt%', 'Ni_sulf_wt%', 'S_sulf_wt'])\n"
   ]
  },
  {
   "cell_type": "code",
   "execution_count": null,
   "id": "03fb728d-68d8-48ac-b155-34d9e13ba1f3",
   "metadata": {},
   "outputs": [],
   "source": [
    "def rearrange_cali(df):\n",
    "    comps = df.reindex(\n",
    "        cols_ideal.columns, axis=1)\n",
    "    comps['Fe_FeNiCu_sulf']=ss.calculate_sulf_FeFeNiCu(\n",
    "        Ni_Sulf=comps['Ni_sulf_wt%'], Cu_Sulf=comps['Cu_sulf_wt%'],\n",
    "        Fe_Sulf=comps['Fe_sulf_wt%'])\n",
    "    comps['Cu_FeNiCu_sulf']=ss.calculate_sulf_CuFeNiCu(\n",
    "        Ni_Sulf=comps['Ni_sulf_wt%'], Cu_Sulf=comps['Cu_sulf_wt%'],\n",
    "        Fe_Sulf=comps['Fe_sulf_wt%'])\n",
    "    comps['Ni_FeNiCu_sulf']=ss.calculate_sulf_NiFeNiCu(\n",
    "        Ni_Sulf=comps['Ni_sulf_wt%'], Cu_Sulf=comps['Cu_sulf_wt%'],\n",
    "        Fe_Sulf=comps['Fe_sulf_wt%'])  \n",
    "    comps['T_C']=comps['T_K']-273.15\n",
    "    \n",
    "    return comps"
   ]
  },
  {
   "cell_type": "markdown",
   "id": "6983d654-91e2-49e0-ab06-01c8f3c357ae",
   "metadata": {},
   "source": [
    "## Smythe et al. (2017)"
   ]
  },
  {
   "cell_type": "code",
   "execution_count": null,
   "id": "bc685a0d-5d24-4f87-b86b-97a31b9725ac",
   "metadata": {},
   "outputs": [],
   "source": [
    "Sdf=pd.read_excel('Calibration_datasets.xlsx', \n",
    "                  sheet_name='Smythe17')\n",
    "\n",
    "combo=rearrange_cali(df=Sdf)\n",
    "\n",
    "combo.to_csv(\"Cali_Smythe17.csv\")\n",
    "combo.head()"
   ]
  },
  {
   "cell_type": "markdown",
   "id": "1cd1724f-94ac-49cb-bc38-a7c60a8b4711",
   "metadata": {},
   "source": [
    "## Li and Zhang 2022"
   ]
  },
  {
   "cell_type": "code",
   "execution_count": null,
   "id": "c9a61331-2fdc-424f-aec3-16e27d508bbb",
   "metadata": {},
   "outputs": [],
   "source": [
    "LZdf=pd.read_excel('Calibration_datasets.xlsx', \n",
    "                  sheet_name='Li_Zhang_22')\n",
    "\n",
    "combo=rearrange_cali(df=LZdf)\n",
    "\n",
    "combo.to_csv(\"Cali_LiZhang22.csv\")\n",
    "combo.head()"
   ]
  },
  {
   "cell_type": "markdown",
   "id": "2fb089ab-716e-4306-a4da-245ee6b2a48f",
   "metadata": {},
   "source": [
    "## Liu et al. 2021"
   ]
  },
  {
   "cell_type": "code",
   "execution_count": null,
   "id": "f17a44d8-cb6a-4e53-a77f-af3ed84aa75b",
   "metadata": {},
   "outputs": [],
   "source": [
    "Liudf=pd.read_excel('Calibration_datasets.xlsx', \n",
    "                  sheet_name='Liu_21')\n",
    "\n",
    "combo=rearrange_cali(df=Liudf)\n",
    "\n",
    "combo.to_csv(\"Cali_Liu2021.csv\")\n",
    "combo.head()"
   ]
  },
  {
   "cell_type": "markdown",
   "id": "efb298b0-9733-4c42-b566-2e3345d18bca",
   "metadata": {},
   "source": [
    "## Blanchard et al. 2021"
   ]
  },
  {
   "cell_type": "code",
   "execution_count": null,
   "id": "3072fe37-6662-4824-b0b6-0f92fc4bec86",
   "metadata": {},
   "outputs": [],
   "source": [
    "Bldf=pd.read_excel('Calibration_datasets.xlsx', \n",
    "                  sheet_name='Blanchard_etal_2021')\n",
    "\n",
    "combo=rearrange_cali(df=Bldf)\n",
    "\n",
    "combo.to_csv(\"Cali_Blanchard2021.csv\")\n",
    "combo.head()"
   ]
  },
  {
   "cell_type": "markdown",
   "id": "c925be82-bff4-41cc-b1f2-126d28f27d7c",
   "metadata": {},
   "source": [
    "## Fortin et al. (2015)"
   ]
  },
  {
   "cell_type": "code",
   "execution_count": null,
   "id": "e7c409d6-fe50-424c-b162-59e90acd6644",
   "metadata": {},
   "outputs": [],
   "source": [
    "Fodf=pd.read_excel('Calibration_datasets.xlsx', \n",
    "                  sheet_name='Fortin_et_al_2015')\n",
    "\n",
    "combo=rearrange_cali(df=Fodf)\n",
    "\n",
    "combo.to_csv(\"Cali_Fortin2015.csv\")\n",
    "combo.head()"
   ]
  },
  {
   "cell_type": "markdown",
   "id": "24374c94-a455-45ed-8347-a7cc2eeebfe3",
   "metadata": {},
   "source": [
    "## CS6 Boulling and Wood 2022"
   ]
  },
  {
   "cell_type": "code",
   "execution_count": null,
   "id": "be603a28-24f3-42c6-ad1c-b8bc219f7a60",
   "metadata": {},
   "outputs": [],
   "source": [
    "BWdf=pd.read_excel('Calibration_datasets.xlsx', \n",
    "                  sheet_name='BoulliungWood_22')\n",
    "\n",
    "combo=rearrange_cali(df=BWdf)\n",
    "\n",
    "combo.to_csv(\"Cali_BW2022.csv\")\n",
    "combo.head()"
   ]
  },
  {
   "cell_type": "markdown",
   "id": "d7cf7009-f493-4159-9198-226e7ecaba66",
   "metadata": {},
   "source": [
    "## ONeill 2022"
   ]
  },
  {
   "cell_type": "code",
   "execution_count": null,
   "id": "646f6f7b-b198-4be0-8f6a-34209fc4d326",
   "metadata": {},
   "outputs": [],
   "source": [
    "O22df=pd.read_excel('Calibration_datasets.xlsx', \n",
    "                  sheet_name='OneillMavrogenes_22')\n",
    "\n",
    "combo=rearrange_cali(df=O22df)\n",
    "\n",
    "combo.to_csv(\"Cali_OM2022.csv\")\n",
    "combo.head()"
   ]
  },
  {
   "cell_type": "markdown",
   "id": "3fb3c8f8-dd52-4f27-b45e-8e0f9956960f",
   "metadata": {},
   "source": [
    "## Chowdhury and Dasgupta 2022"
   ]
  },
  {
   "cell_type": "code",
   "execution_count": null,
   "id": "4da376a7-9ae2-4ea9-ac4f-af4274531cb5",
   "metadata": {},
   "outputs": [],
   "source": [
    "CDdf=pd.read_excel('Calibration_datasets.xlsx', \n",
    "                  sheet_name='Chowdhury_Dasgupta_2019')\n",
    "S_types=ss.convert_S_types(SO3_wt=CDdf['SO3'])\n",
    "S_ppm=S_types['S_ppm']\n",
    "CDdf.loc[~(CDdf['S_Liq_ppm']>0), 'S_Liq_ppm']=S_ppm\n",
    "combo=rearrange_cali(df=CDdf)\n",
    "\n",
    "combo.to_csv(\"Cali_ChowDas22.csv\")\n",
    "combo.head()"
   ]
  },
  {
   "cell_type": "markdown",
   "id": "0295dbaa-54fc-402a-8876-c32210ffcbac",
   "metadata": {},
   "source": [
    "## Zajacz and Tsay 2019"
   ]
  },
  {
   "cell_type": "code",
   "execution_count": null,
   "id": "80dc7033-ba43-41ec-8892-a7304d2fb92d",
   "metadata": {},
   "outputs": [],
   "source": [
    "ZTdf=pd.read_excel('Calibration_datasets.xlsx', \n",
    "                  sheet_name='Zajacz and Tsay, 2019')\n",
    "\n",
    "combo=rearrange_cali(df=ZTdf)\n",
    "\n",
    "combo.to_csv(\"Cali_ZT2019.csv\")\n",
    "combo.head()"
   ]
  },
  {
   "cell_type": "markdown",
   "id": "4207c3ed-5dd0-48a2-9c70-e545d1524bb0",
   "metadata": {},
   "source": [
    "## Masotta and Kepler 2015"
   ]
  },
  {
   "cell_type": "code",
   "execution_count": null,
   "id": "887981a5-dcda-4e05-a603-a0c1e32b2a9d",
   "metadata": {},
   "outputs": [],
   "source": [
    "MKdf=pd.read_excel('Calibration_datasets.xlsx', \n",
    "                  sheet_name='Masotta_Keppler_2015')\n",
    "\n",
    "combo=rearrange_cali(df=MKdf)\n",
    "\n",
    "combo.to_csv(\"Cali_MK2015.csv\")\n",
    "combo.head()"
   ]
  },
  {
   "cell_type": "code",
   "execution_count": null,
   "id": "b4dea458-6a76-4c2d-be3e-9483b1475744",
   "metadata": {},
   "outputs": [],
   "source": []
  }
 ],
 "metadata": {
  "kernelspec": {
   "display_name": "Python 3 (ipykernel)",
   "language": "python",
   "name": "python3"
  },
  "language_info": {
   "codemirror_mode": {
    "name": "ipython",
    "version": 3
   },
   "file_extension": ".py",
   "mimetype": "text/x-python",
   "name": "python",
   "nbconvert_exporter": "python",
   "pygments_lexer": "ipython3",
   "version": "3.11.5"
  }
 },
 "nbformat": 4,
 "nbformat_minor": 5
}
