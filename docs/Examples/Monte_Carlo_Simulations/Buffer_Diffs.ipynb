{
 "cells": [
  {
   "cell_type": "code",
   "execution_count": 1,
   "id": "8855f107-2b70-4ee8-b597-082ba6f82bef",
   "metadata": {},
   "outputs": [],
   "source": [
    "import numpy as np\n",
    "import pandas as pd\n",
    "import PySulfSat as ss\n",
    "import matplotlib.pyplot as plt"
   ]
  },
  {
   "cell_type": "code",
   "execution_count": 2,
   "id": "86944d1e-602c-46b1-a6fb-a2a8ea4db264",
   "metadata": {},
   "outputs": [
    {
     "data": {
      "text/html": [
       "<div>\n",
       "<style scoped>\n",
       "    .dataframe tbody tr th:only-of-type {\n",
       "        vertical-align: middle;\n",
       "    }\n",
       "\n",
       "    .dataframe tbody tr th {\n",
       "        vertical-align: top;\n",
       "    }\n",
       "\n",
       "    .dataframe thead th {\n",
       "        text-align: right;\n",
       "    }\n",
       "</style>\n",
       "<table border=\"1\" class=\"dataframe\">\n",
       "  <thead>\n",
       "    <tr style=\"text-align: right;\">\n",
       "      <th></th>\n",
       "      <th>logfo2_QFM_ONeill</th>\n",
       "      <th>logfo2_QFM_Frost</th>\n",
       "      <th>logfo2_QFM_Petrolog3</th>\n",
       "      <th>DeltaQFM_ONeill</th>\n",
       "      <th>DeltaQFM_Frost</th>\n",
       "      <th>DeltaQFM_Petrolog3</th>\n",
       "      <th>DeltaQFM_MeltsExcel</th>\n",
       "    </tr>\n",
       "  </thead>\n",
       "  <tbody>\n",
       "    <tr>\n",
       "      <th>0</th>\n",
       "      <td>-9.312857</td>\n",
       "      <td>-9.190929</td>\n",
       "      <td>-9.168571</td>\n",
       "      <td>0.312857</td>\n",
       "      <td>0.190929</td>\n",
       "      <td>0.168571</td>\n",
       "      <td>0.168571</td>\n",
       "    </tr>\n",
       "  </tbody>\n",
       "</table>\n",
       "</div>"
      ],
      "text/plain": [
       "   logfo2_QFM_ONeill  logfo2_QFM_Frost  logfo2_QFM_Petrolog3  DeltaQFM_ONeill  \\\n",
       "0          -9.312857         -9.190929             -9.168571         0.312857   \n",
       "\n",
       "   DeltaQFM_Frost  DeltaQFM_Petrolog3  DeltaQFM_MeltsExcel  \n",
       "0        0.190929            0.168571             0.168571  "
      ]
     },
     "execution_count": 2,
     "metadata": {},
     "output_type": "execute_result"
    }
   ],
   "source": [
    "ss.calculate_fo2_QFM_buffers(logfo2=-9, T_K=1400, P_kbar=1/1000)"
   ]
  },
  {
   "cell_type": "code",
   "execution_count": 3,
   "id": "1b37e91e-ce8f-4aea-8642-3b0eb2f9ad59",
   "metadata": {},
   "outputs": [
    {
     "data": {
      "text/html": [
       "<div>\n",
       "<style scoped>\n",
       "    .dataframe tbody tr th:only-of-type {\n",
       "        vertical-align: middle;\n",
       "    }\n",
       "\n",
       "    .dataframe tbody tr th {\n",
       "        vertical-align: top;\n",
       "    }\n",
       "\n",
       "    .dataframe thead th {\n",
       "        text-align: right;\n",
       "    }\n",
       "</style>\n",
       "<table border=\"1\" class=\"dataframe\">\n",
       "  <thead>\n",
       "    <tr style=\"text-align: right;\">\n",
       "      <th></th>\n",
       "      <th>logfo2_QFM_ONeill</th>\n",
       "      <th>logfo2_QFM_Frost</th>\n",
       "      <th>logfo2_QFM_Petrolog3</th>\n",
       "      <th>DeltaQFM_ONeill</th>\n",
       "      <th>DeltaQFM_Frost</th>\n",
       "      <th>DeltaQFM_Petrolog3</th>\n",
       "      <th>DeltaQFM_MeltsExcel</th>\n",
       "    </tr>\n",
       "  </thead>\n",
       "  <tbody>\n",
       "    <tr>\n",
       "      <th>0</th>\n",
       "      <td>-9.312857</td>\n",
       "      <td>-8.79815</td>\n",
       "      <td>-9.168571</td>\n",
       "      <td>0.312857</td>\n",
       "      <td>-0.20185</td>\n",
       "      <td>0.168571</td>\n",
       "      <td>-0.227778</td>\n",
       "    </tr>\n",
       "  </tbody>\n",
       "</table>\n",
       "</div>"
      ],
      "text/plain": [
       "   logfo2_QFM_ONeill  logfo2_QFM_Frost  logfo2_QFM_Petrolog3  DeltaQFM_ONeill  \\\n",
       "0          -9.312857          -8.79815             -9.168571         0.312857   \n",
       "\n",
       "   DeltaQFM_Frost  DeltaQFM_Petrolog3  DeltaQFM_MeltsExcel  \n",
       "0        -0.20185            0.168571            -0.227778  "
      ]
     },
     "execution_count": 3,
     "metadata": {},
     "output_type": "execute_result"
    }
   ],
   "source": [
    "ss.calculate_fo2_QFM_buffers(logfo2=-9, T_K=1400, P_kbar=5)"
   ]
  },
  {
   "cell_type": "code",
   "execution_count": 4,
   "id": "b118f440-b50b-4503-a8e7-2e27797497f1",
   "metadata": {},
   "outputs": [
    {
     "data": {
      "text/plain": [
       "0.030653430031715508"
      ]
     },
     "execution_count": 4,
     "metadata": {},
     "output_type": "execute_result"
    }
   ],
   "source": [
    "ss.calculate_S6St_Jugo2010_eq10(deltaQFM=0.3)\n"
   ]
  },
  {
   "cell_type": "code",
   "execution_count": 6,
   "id": "54c7f9a5-e83a-4f37-aa30-c341b7c02718",
   "metadata": {},
   "outputs": [
    {
     "data": {
      "text/plain": [
       "5060.728744939272"
      ]
     },
     "execution_count": 6,
     "metadata": {},
     "output_type": "execute_result"
    }
   ],
   "source": [
    "SCAS_Tot=ss.calculate_SCAS_Total(SCAS=5000,\n",
    "S6St_Liq=0.988)\n",
    "SCAS_Tot"
   ]
  },
  {
   "cell_type": "code",
   "execution_count": 7,
   "id": "1817c68d-0af0-450f-8ce0-4c0094c37b60",
   "metadata": {},
   "outputs": [
    {
     "data": {
      "text/plain": [
       "1785.7142857142856"
      ]
     },
     "execution_count": 7,
     "metadata": {},
     "output_type": "execute_result"
    }
   ],
   "source": [
    "ss.calculate_SCSS_Total(SCSS=1000,\n",
    "S6St_Liq=0.44)"
   ]
  },
  {
   "cell_type": "code",
   "execution_count": 11,
   "id": "c8801241-3d99-4393-ae67-6a9fe3ff81b1",
   "metadata": {},
   "outputs": [
    {
     "name": "stdout",
     "output_type": "stream",
     "text": [
      "7.942651440013084e-05\n"
     ]
    },
    {
     "data": {
      "text/plain": [
       "1000.0794328234725"
      ]
     },
     "execution_count": 11,
     "metadata": {},
     "output_type": "execute_result"
    }
   ],
   "source": [
    "S6=ss.calculate_S6St_Jugo2010_eq10(\n",
    "deltaQFM=-1)\n",
    "print(S6)\n",
    "ss.calculate_SCSS_Total(SCSS=1000,\n",
    "S6St_Liq=S6)\n"
   ]
  },
  {
   "cell_type": "code",
   "execution_count": 13,
   "id": "25d623d6-1f16-4cf8-a637-fa2846862a36",
   "metadata": {},
   "outputs": [
    {
     "name": "stdout",
     "output_type": "stream",
     "text": [
      "0.44268836623770724\n"
     ]
    },
    {
     "data": {
      "text/plain": [
       "1794.3282347242814"
      ]
     },
     "execution_count": 13,
     "metadata": {},
     "output_type": "execute_result"
    }
   ],
   "source": [
    "S6=ss.calculate_S6St_Jugo2010_eq10(\n",
    "deltaQFM=1)\n",
    "print(S6)\n",
    "ss.calculate_SCSS_Total(SCSS=1000,\n",
    "S6St_Liq=S6)\n"
   ]
  },
  {
   "cell_type": "code",
   "execution_count": 15,
   "id": "f1c23a01-6034-4137-bed3-f640bf493f78",
   "metadata": {},
   "outputs": [
    {
     "name": "stdout",
     "output_type": "stream",
     "text": [
      "0.8271780169631394\n"
     ]
    },
    {
     "data": {
      "text/plain": [
       "5786.300923226379"
      ]
     },
     "execution_count": 15,
     "metadata": {},
     "output_type": "execute_result"
    }
   ],
   "source": [
    "S6=ss.calculate_S6St_Jugo2010_eq10(\n",
    "deltaQFM=1.39)\n",
    "print(S6)\n",
    "ss.calculate_SCSS_Total(SCSS=1000,\n",
    "S6St_Liq=S6)"
   ]
  },
  {
   "cell_type": "code",
   "execution_count": 16,
   "id": "fae03908-7680-470e-a672-be487ae28f04",
   "metadata": {},
   "outputs": [
    {
     "name": "stdout",
     "output_type": "stream",
     "text": [
      "0.9875672647455576\n"
     ]
    },
    {
     "data": {
      "text/plain": [
       "80432.82347242792"
      ]
     },
     "execution_count": 16,
     "metadata": {},
     "output_type": "execute_result"
    }
   ],
   "source": [
    "S6=ss.calculate_S6St_Jugo2010_eq10(\n",
    "deltaQFM=2)\n",
    "print(S6)\n",
    "ss.calculate_SCSS_Total(SCSS=1000,\n",
    "S6St_Liq=S6)"
   ]
  },
  {
   "cell_type": "code",
   "execution_count": 17,
   "id": "32871c26-715c-47d1-a8c2-61dd676ad52e",
   "metadata": {},
   "outputs": [
    {
     "data": {
      "text/plain": [
       "5062.946270589709"
      ]
     },
     "execution_count": 17,
     "metadata": {},
     "output_type": "execute_result"
    }
   ],
   "source": [
    "ss.calculate_SCAS_Total(SCAS=5000,\n",
    "S6St_Liq=S6)"
   ]
  },
  {
   "cell_type": "code",
   "execution_count": 18,
   "id": "ffe89a43-b316-49a2-b6f7-a03a8307236b",
   "metadata": {},
   "outputs": [],
   "source": [
    "deltaQFM_lin=np.linspace(-1, 3, 10)\n",
    "df_S_Jugo=ss.calculate_S_Total_SCSS_SCAS(\n",
    "deltaQFM=deltaQFM_lin,\n",
    "SCSS=1000, SCAS=5000, model='Jugo')"
   ]
  },
  {
   "cell_type": "code",
   "execution_count": 19,
   "id": "a3ccb7c0-dddf-47d1-a7dd-0ed019eb4dbc",
   "metadata": {},
   "outputs": [
    {
     "data": {
      "text/html": [
       "<div>\n",
       "<style scoped>\n",
       "    .dataframe tbody tr th:only-of-type {\n",
       "        vertical-align: middle;\n",
       "    }\n",
       "\n",
       "    .dataframe tbody tr th {\n",
       "        vertical-align: top;\n",
       "    }\n",
       "\n",
       "    .dataframe thead th {\n",
       "        text-align: right;\n",
       "    }\n",
       "</style>\n",
       "<table border=\"1\" class=\"dataframe\">\n",
       "  <thead>\n",
       "    <tr style=\"text-align: right;\">\n",
       "      <th></th>\n",
       "      <th>Total_S_ppm</th>\n",
       "      <th>S2_Tot_ppm</th>\n",
       "      <th>S6_Tot_ppm</th>\n",
       "      <th>deltaQFM</th>\n",
       "      <th>S6St_Liq</th>\n",
       "      <th>SCSS_2_ppm</th>\n",
       "      <th>SCAS_6_ppm</th>\n",
       "      <th>SCSS_Tot</th>\n",
       "      <th>SCAS_Tot</th>\n",
       "      <th>S6 in SCSS_Tot</th>\n",
       "      <th>S2 in SCAS_Tot</th>\n",
       "    </tr>\n",
       "  </thead>\n",
       "  <tbody>\n",
       "    <tr>\n",
       "      <th>0</th>\n",
       "      <td>1000.079433</td>\n",
       "      <td>1000.000000</td>\n",
       "      <td>0.079433</td>\n",
       "      <td>-1.000000</td>\n",
       "      <td>0.000079</td>\n",
       "      <td>1000</td>\n",
       "      <td>5000</td>\n",
       "      <td>1.000079e+03</td>\n",
       "      <td>6.295127e+07</td>\n",
       "      <td>7.943282e-02</td>\n",
       "      <td>6.294627e+07</td>\n",
       "    </tr>\n",
       "    <tr>\n",
       "      <th>1</th>\n",
       "      <td>1000.615020</td>\n",
       "      <td>1000.000000</td>\n",
       "      <td>0.615020</td>\n",
       "      <td>-0.555556</td>\n",
       "      <td>0.000615</td>\n",
       "      <td>1000</td>\n",
       "      <td>5000</td>\n",
       "      <td>1.000615e+03</td>\n",
       "      <td>8.134823e+06</td>\n",
       "      <td>6.150195e-01</td>\n",
       "      <td>8.129823e+06</td>\n",
       "    </tr>\n",
       "    <tr>\n",
       "      <th>2</th>\n",
       "      <td>1004.761873</td>\n",
       "      <td>1000.000000</td>\n",
       "      <td>4.761873</td>\n",
       "      <td>-0.111111</td>\n",
       "      <td>0.004739</td>\n",
       "      <td>1000</td>\n",
       "      <td>5000</td>\n",
       "      <td>1.004762e+03</td>\n",
       "      <td>1.055007e+06</td>\n",
       "      <td>4.761873e+00</td>\n",
       "      <td>1.050007e+06</td>\n",
       "    </tr>\n",
       "    <tr>\n",
       "      <th>3</th>\n",
       "      <td>1036.869451</td>\n",
       "      <td>1000.000000</td>\n",
       "      <td>36.869451</td>\n",
       "      <td>0.333333</td>\n",
       "      <td>0.035558</td>\n",
       "      <td>1000</td>\n",
       "      <td>5000</td>\n",
       "      <td>1.036869e+03</td>\n",
       "      <td>1.406136e+05</td>\n",
       "      <td>3.686945e+01</td>\n",
       "      <td>1.356136e+05</td>\n",
       "    </tr>\n",
       "    <tr>\n",
       "      <th>4</th>\n",
       "      <td>1285.466766</td>\n",
       "      <td>1000.000000</td>\n",
       "      <td>285.466766</td>\n",
       "      <td>0.777778</td>\n",
       "      <td>0.222072</td>\n",
       "      <td>1000</td>\n",
       "      <td>5000</td>\n",
       "      <td>1.285467e+03</td>\n",
       "      <td>2.251517e+04</td>\n",
       "      <td>2.854668e+02</td>\n",
       "      <td>1.751517e+04</td>\n",
       "    </tr>\n",
       "    <tr>\n",
       "      <th>5</th>\n",
       "      <td>3210.265498</td>\n",
       "      <td>1000.000000</td>\n",
       "      <td>2210.265498</td>\n",
       "      <td>1.222222</td>\n",
       "      <td>0.688499</td>\n",
       "      <td>1000</td>\n",
       "      <td>5000</td>\n",
       "      <td>3.210265e+03</td>\n",
       "      <td>7.262172e+03</td>\n",
       "      <td>2.210265e+03</td>\n",
       "      <td>2.262172e+03</td>\n",
       "    </tr>\n",
       "    <tr>\n",
       "      <th>6</th>\n",
       "      <td>5292.170707</td>\n",
       "      <td>292.170707</td>\n",
       "      <td>5000.000000</td>\n",
       "      <td>1.666667</td>\n",
       "      <td>0.944792</td>\n",
       "      <td>1000</td>\n",
       "      <td>5000</td>\n",
       "      <td>1.811328e+04</td>\n",
       "      <td>5.292171e+03</td>\n",
       "      <td>1.711328e+04</td>\n",
       "      <td>2.921707e+02</td>\n",
       "    </tr>\n",
       "    <tr>\n",
       "      <th>7</th>\n",
       "      <td>5037.735298</td>\n",
       "      <td>37.735298</td>\n",
       "      <td>5000.000000</td>\n",
       "      <td>2.111111</td>\n",
       "      <td>0.992509</td>\n",
       "      <td>1000</td>\n",
       "      <td>5000</td>\n",
       "      <td>1.335019e+05</td>\n",
       "      <td>5.037735e+03</td>\n",
       "      <td>1.325019e+05</td>\n",
       "      <td>3.773530e+01</td>\n",
       "    </tr>\n",
       "    <tr>\n",
       "      <th>8</th>\n",
       "      <td>5004.873701</td>\n",
       "      <td>4.873701</td>\n",
       "      <td>5000.000000</td>\n",
       "      <td>2.555556</td>\n",
       "      <td>0.999026</td>\n",
       "      <td>1000</td>\n",
       "      <td>5000</td>\n",
       "      <td>1.026914e+06</td>\n",
       "      <td>5.004874e+03</td>\n",
       "      <td>1.025914e+06</td>\n",
       "      <td>4.873701e+00</td>\n",
       "    </tr>\n",
       "    <tr>\n",
       "      <th>9</th>\n",
       "      <td>5000.629463</td>\n",
       "      <td>0.629463</td>\n",
       "      <td>5000.000000</td>\n",
       "      <td>3.000000</td>\n",
       "      <td>0.999874</td>\n",
       "      <td>1000</td>\n",
       "      <td>5000</td>\n",
       "      <td>7.944282e+06</td>\n",
       "      <td>5.000629e+03</td>\n",
       "      <td>7.943282e+06</td>\n",
       "      <td>6.294627e-01</td>\n",
       "    </tr>\n",
       "  </tbody>\n",
       "</table>\n",
       "</div>"
      ],
      "text/plain": [
       "   Total_S_ppm   S2_Tot_ppm   S6_Tot_ppm  deltaQFM  S6St_Liq  SCSS_2_ppm  \\\n",
       "0  1000.079433  1000.000000     0.079433 -1.000000  0.000079        1000   \n",
       "1  1000.615020  1000.000000     0.615020 -0.555556  0.000615        1000   \n",
       "2  1004.761873  1000.000000     4.761873 -0.111111  0.004739        1000   \n",
       "3  1036.869451  1000.000000    36.869451  0.333333  0.035558        1000   \n",
       "4  1285.466766  1000.000000   285.466766  0.777778  0.222072        1000   \n",
       "5  3210.265498  1000.000000  2210.265498  1.222222  0.688499        1000   \n",
       "6  5292.170707   292.170707  5000.000000  1.666667  0.944792        1000   \n",
       "7  5037.735298    37.735298  5000.000000  2.111111  0.992509        1000   \n",
       "8  5004.873701     4.873701  5000.000000  2.555556  0.999026        1000   \n",
       "9  5000.629463     0.629463  5000.000000  3.000000  0.999874        1000   \n",
       "\n",
       "   SCAS_6_ppm      SCSS_Tot      SCAS_Tot  S6 in SCSS_Tot  S2 in SCAS_Tot  \n",
       "0        5000  1.000079e+03  6.295127e+07    7.943282e-02    6.294627e+07  \n",
       "1        5000  1.000615e+03  8.134823e+06    6.150195e-01    8.129823e+06  \n",
       "2        5000  1.004762e+03  1.055007e+06    4.761873e+00    1.050007e+06  \n",
       "3        5000  1.036869e+03  1.406136e+05    3.686945e+01    1.356136e+05  \n",
       "4        5000  1.285467e+03  2.251517e+04    2.854668e+02    1.751517e+04  \n",
       "5        5000  3.210265e+03  7.262172e+03    2.210265e+03    2.262172e+03  \n",
       "6        5000  1.811328e+04  5.292171e+03    1.711328e+04    2.921707e+02  \n",
       "7        5000  1.335019e+05  5.037735e+03    1.325019e+05    3.773530e+01  \n",
       "8        5000  1.026914e+06  5.004874e+03    1.025914e+06    4.873701e+00  \n",
       "9        5000  7.944282e+06  5.000629e+03    7.943282e+06    6.294627e-01  "
      ]
     },
     "execution_count": 19,
     "metadata": {},
     "output_type": "execute_result"
    }
   ],
   "source": [
    "df_S_Jugo"
   ]
  },
  {
   "cell_type": "code",
   "execution_count": null,
   "id": "d9b9ad61-8b75-4850-8f70-6b526b1104d9",
   "metadata": {},
   "outputs": [],
   "source": []
  }
 ],
 "metadata": {
  "kernelspec": {
   "display_name": "Python 3 (ipykernel)",
   "language": "python",
   "name": "python3"
  },
  "language_info": {
   "codemirror_mode": {
    "name": "ipython",
    "version": 3
   },
   "file_extension": ".py",
   "mimetype": "text/x-python",
   "name": "python",
   "nbconvert_exporter": "python",
   "pygments_lexer": "ipython3",
   "version": "3.9.13"
  }
 },
 "nbformat": 4,
 "nbformat_minor": 5
}
