{
 "cells": [
  {
   "cell_type": "markdown",
   "id": "4415c7c1-2939-47db-b93f-0870a07acce3",
   "metadata": {
    "tags": []
   },
   "source": [
    "# Integrating PySulfSat with PetThermoTools\n",
    "- This notebook can perform MELTS calculations, and then go onto calculate the SCSS and SCAS within a single notebook!\n",
    "- It relies on the python MELTS architecture developed by Paula Antoshechkin at Caltech, and fractional crystallization functions written by Matthew Gleeson at UC Berkeley\n",
    "- In addition to installing PySulfSat you will need to first download the MELTS python infrastructure from this website (https://magmasource.caltech.edu/gitlist/MELTS_Matlab.git/), and then the PetThermoTools code by uncommenting below\n",
    "- More information can be found here: https://github.com/gleesonm1/PetThermoTools\n",
    "You can download the excel spreadsheet with the compositions here:\n",
    "- https://github.com/PennyWieser/PySulfSat/blob/main/docs/Examples/Integrating_with_PyMELTS/Glass_input_example.xlsx"
   ]
  },
  {
   "cell_type": "markdown",
   "id": "c2cb28dc-6c70-4c2b-ac20-896475b1cb0f",
   "metadata": {},
   "source": [
    "## If you havent done so already, you need to pip install PySulfSat\n",
    "- Do this by removing the #. You only need to do this once per computer. After your initial installation, you will want to upgrade instead using the second command\n"
   ]
  },
  {
   "cell_type": "code",
   "execution_count": 1,
   "id": "5a409b70-70c7-4cbf-b4fb-1d3e15911ae1",
   "metadata": {},
   "outputs": [],
   "source": [
    "#!pip install PySulfSat\n",
    "#!pip install PySulfSat --upgrade"
   ]
  },
  {
   "cell_type": "markdown",
   "id": "96061177-bbfa-487b-a5d1-0de57b9e3f53",
   "metadata": {},
   "source": [
    "## Now you need to append the path to your local MELTS installation"
   ]
  },
  {
   "cell_type": "code",
   "execution_count": 2,
   "id": "158cf30d-8a3a-4d47-953f-d18d36c69484",
   "metadata": {},
   "outputs": [],
   "source": [
    "import sys\n",
    "sys.path.append(r'C:\\Users\\penny\\Box\\Berkeley_new\\MELTS_python_Paula\\melts_matlab_git_master\\package')"
   ]
  },
  {
   "cell_type": "markdown",
   "id": "d186d713-6500-4134-bcf6-3057bcde4b24",
   "metadata": {},
   "source": [
    "## And now you need to download the PetThermoTools code by uncommenting this line\n",
    "- you will need to be on at least 0.1.3 to get the logfo2 output needed here"
   ]
  },
  {
   "cell_type": "code",
   "execution_count": 3,
   "id": "971bbab3-362c-400d-a91f-d91872a56cc1",
   "metadata": {},
   "outputs": [],
   "source": [
    "#!pip install --upgrade PetThermoTools"
   ]
  },
  {
   "cell_type": "code",
   "execution_count": 4,
   "id": "ef1cef0c-cdd2-43a3-b4b8-6e1febecdade",
   "metadata": {},
   "outputs": [],
   "source": [
    "import numpy as np\n",
    "import pandas as pd\n",
    "import matplotlib.pyplot as plt\n",
    "import PySulfSat as ss\n",
    "import PetThermoTools as M"
   ]
  },
  {
   "cell_type": "code",
   "execution_count": 5,
   "id": "dc58e7ba-fcd0-4c8b-ad2e-a6b44596113f",
   "metadata": {},
   "outputs": [],
   "source": [
    "### Use these version numbers when communicating problems to Penny (ss) and Matt (M.)"
   ]
  },
  {
   "cell_type": "code",
   "execution_count": 6,
   "id": "175e078f-460b-4582-978e-0da465d5ca42",
   "metadata": {},
   "outputs": [
    {
     "data": {
      "text/plain": [
       "'1.0.4'"
      ]
     },
     "execution_count": 6,
     "metadata": {},
     "output_type": "execute_result"
    }
   ],
   "source": [
    "ss.__version__"
   ]
  },
  {
   "cell_type": "code",
   "execution_count": 7,
   "id": "4128d3bb-fede-463c-a6d3-dd44e0a38dfe",
   "metadata": {},
   "outputs": [
    {
     "data": {
      "text/plain": [
       "'0.2.3'"
      ]
     },
     "execution_count": 7,
     "metadata": {},
     "output_type": "execute_result"
    }
   ],
   "source": [
    "M.__version__"
   ]
  },
  {
   "cell_type": "markdown",
   "id": "fd12f034-fc88-4f5c-bf12-8fc84e0a487c",
   "metadata": {},
   "source": [
    "## Import data\n",
    "- Here, we load in some glass EPMA data, and then start a MELTS model from the first row in the loaded spreadsheet"
   ]
  },
  {
   "cell_type": "code",
   "execution_count": 8,
   "id": "2542acaf-7427-4220-8ff1-da7ac6b0aeec",
   "metadata": {},
   "outputs": [
    {
     "name": "stdout",
     "output_type": "stream",
     "text": [
      "We have replaced all missing liquid oxides and strings with zeros. \n"
     ]
    }
   ],
   "source": [
    "df_out2=ss.import_data('Glass_input_example.xlsx', sheet_name='Glass_input', \n",
    "                       suffix=\"_Liq\")\n",
    "df_out2.head()\n",
    "# Selecting a single composition to start the model from\n",
    "sample=df_out2.iloc[0]"
   ]
  },
  {
   "cell_type": "markdown",
   "id": "7520ed5c-150e-4aeb-a0ab-70cc8486948e",
   "metadata": {},
   "source": [
    "## Using PetThermoTools\n",
    "- Here we initiate a melts fractional crystallizatoin model, see the documentation for that package for more information"
   ]
  },
  {
   "cell_type": "code",
   "execution_count": 9,
   "id": "6a353cd4-137f-4c15-9a23-25cbd61f7968",
   "metadata": {},
   "outputs": [
    {
     "name": "stdout",
     "output_type": "stream",
     "text": [
      "Running MELTSv1.2.0 calculation... Complete (time taken = 12.27 seconds)"
     ]
    }
   ],
   "source": [
    "P=3000\n",
    "MELTS_FC=M.multi_path(Model = \"MELTSv1.2.0\", \n",
    "                        Fe3Fet_Liq=0.1,\n",
    "                          H2O_Liq=6,\n",
    "                        bulk = sample.to_dict(), \n",
    "                        Frac_solid = True, \n",
    "                        Frac_fluid = True, \n",
    "                        find_liquidus = True,\n",
    "                        T_end_C = 750, \n",
    "                        dt_C = 5, \n",
    "                        P_bar = P, \n",
    "                        )"
   ]
  },
  {
   "cell_type": "markdown",
   "id": "45b06228-ab78-4605-a4a5-3fb5c9b8b00e",
   "metadata": {},
   "source": [
    "### Inspecting the outputs from this function"
   ]
  },
  {
   "cell_type": "code",
   "execution_count": 10,
   "id": "10687e94-9ba5-4a7d-aec9-b128e9aa6828",
   "metadata": {},
   "outputs": [
    {
     "data": {
      "text/html": [
       "<div>\n",
       "<style scoped>\n",
       "    .dataframe tbody tr th:only-of-type {\n",
       "        vertical-align: middle;\n",
       "    }\n",
       "\n",
       "    .dataframe tbody tr th {\n",
       "        vertical-align: top;\n",
       "    }\n",
       "\n",
       "    .dataframe thead th {\n",
       "        text-align: right;\n",
       "    }\n",
       "</style>\n",
       "<table border=\"1\" class=\"dataframe\">\n",
       "  <thead>\n",
       "    <tr style=\"text-align: right;\">\n",
       "      <th></th>\n",
       "      <th>T_C</th>\n",
       "      <th>P_bar</th>\n",
       "      <th>h</th>\n",
       "      <th>s</th>\n",
       "      <th>v</th>\n",
       "      <th>dvdp</th>\n",
       "      <th>logfO2</th>\n",
       "      <th>SiO2_Liq</th>\n",
       "      <th>TiO2_Liq</th>\n",
       "      <th>Al2O3_Liq</th>\n",
       "      <th>...</th>\n",
       "      <th>Na2O_Rhm</th>\n",
       "      <th>K2O_Rhm</th>\n",
       "      <th>P2O5_Rhm</th>\n",
       "      <th>H2O_Rhm</th>\n",
       "      <th>CO2_Rhm</th>\n",
       "      <th>Fe3Fet_Rhm</th>\n",
       "      <th>h_Rhm</th>\n",
       "      <th>mass_Rhm</th>\n",
       "      <th>v_Rhm</th>\n",
       "      <th>rho_Rhm</th>\n",
       "    </tr>\n",
       "  </thead>\n",
       "  <tbody>\n",
       "    <tr>\n",
       "      <th>0</th>\n",
       "      <td>1115.800000</td>\n",
       "      <td>3000.0</td>\n",
       "      <td>-1.180423e+06</td>\n",
       "      <td>300.413262</td>\n",
       "      <td>41.231226</td>\n",
       "      <td>-0.000300</td>\n",
       "      <td>-10.085365</td>\n",
       "      <td>47.601910</td>\n",
       "      <td>1.925732</td>\n",
       "      <td>12.396428</td>\n",
       "      <td>...</td>\n",
       "      <td>NaN</td>\n",
       "      <td>NaN</td>\n",
       "      <td>NaN</td>\n",
       "      <td>NaN</td>\n",
       "      <td>NaN</td>\n",
       "      <td>NaN</td>\n",
       "      <td>0.0</td>\n",
       "      <td>0.0</td>\n",
       "      <td>0.0</td>\n",
       "      <td>0.0</td>\n",
       "    </tr>\n",
       "    <tr>\n",
       "      <th>1</th>\n",
       "      <td>1110.789041</td>\n",
       "      <td>3000.0</td>\n",
       "      <td>-1.181315e+06</td>\n",
       "      <td>299.769691</td>\n",
       "      <td>41.201340</td>\n",
       "      <td>-0.000297</td>\n",
       "      <td>-10.254367</td>\n",
       "      <td>47.747755</td>\n",
       "      <td>1.862039</td>\n",
       "      <td>12.415663</td>\n",
       "      <td>...</td>\n",
       "      <td>NaN</td>\n",
       "      <td>NaN</td>\n",
       "      <td>NaN</td>\n",
       "      <td>NaN</td>\n",
       "      <td>NaN</td>\n",
       "      <td>NaN</td>\n",
       "      <td>0.0</td>\n",
       "      <td>0.0</td>\n",
       "      <td>0.0</td>\n",
       "      <td>0.0</td>\n",
       "    </tr>\n",
       "    <tr>\n",
       "      <th>2</th>\n",
       "      <td>1105.778082</td>\n",
       "      <td>3000.0</td>\n",
       "      <td>-1.180174e+06</td>\n",
       "      <td>298.469985</td>\n",
       "      <td>41.103394</td>\n",
       "      <td>-0.000297</td>\n",
       "      <td>-10.428085</td>\n",
       "      <td>47.893104</td>\n",
       "      <td>1.798419</td>\n",
       "      <td>12.434711</td>\n",
       "      <td>...</td>\n",
       "      <td>NaN</td>\n",
       "      <td>NaN</td>\n",
       "      <td>NaN</td>\n",
       "      <td>NaN</td>\n",
       "      <td>NaN</td>\n",
       "      <td>NaN</td>\n",
       "      <td>0.0</td>\n",
       "      <td>0.0</td>\n",
       "      <td>0.0</td>\n",
       "      <td>0.0</td>\n",
       "    </tr>\n",
       "    <tr>\n",
       "      <th>3</th>\n",
       "      <td>1100.767123</td>\n",
       "      <td>3000.0</td>\n",
       "      <td>-1.179027e+06</td>\n",
       "      <td>297.177308</td>\n",
       "      <td>41.005868</td>\n",
       "      <td>-0.000297</td>\n",
       "      <td>-10.602652</td>\n",
       "      <td>48.032356</td>\n",
       "      <td>1.737319</td>\n",
       "      <td>12.452845</td>\n",
       "      <td>...</td>\n",
       "      <td>NaN</td>\n",
       "      <td>NaN</td>\n",
       "      <td>NaN</td>\n",
       "      <td>NaN</td>\n",
       "      <td>NaN</td>\n",
       "      <td>NaN</td>\n",
       "      <td>0.0</td>\n",
       "      <td>0.0</td>\n",
       "      <td>0.0</td>\n",
       "      <td>0.0</td>\n",
       "    </tr>\n",
       "    <tr>\n",
       "      <th>4</th>\n",
       "      <td>1095.756164</td>\n",
       "      <td>3000.0</td>\n",
       "      <td>-1.177967e+06</td>\n",
       "      <td>295.920560</td>\n",
       "      <td>40.911796</td>\n",
       "      <td>-0.000297</td>\n",
       "      <td>-10.778097</td>\n",
       "      <td>48.165861</td>\n",
       "      <td>1.678584</td>\n",
       "      <td>12.470120</td>\n",
       "      <td>...</td>\n",
       "      <td>NaN</td>\n",
       "      <td>NaN</td>\n",
       "      <td>NaN</td>\n",
       "      <td>NaN</td>\n",
       "      <td>NaN</td>\n",
       "      <td>NaN</td>\n",
       "      <td>0.0</td>\n",
       "      <td>0.0</td>\n",
       "      <td>0.0</td>\n",
       "      <td>0.0</td>\n",
       "    </tr>\n",
       "  </tbody>\n",
       "</table>\n",
       "<p>5 rows × 167 columns</p>\n",
       "</div>"
      ],
      "text/plain": [
       "           T_C   P_bar             h           s          v      dvdp  \\\n",
       "0  1115.800000  3000.0 -1.180423e+06  300.413262  41.231226 -0.000300   \n",
       "1  1110.789041  3000.0 -1.181315e+06  299.769691  41.201340 -0.000297   \n",
       "2  1105.778082  3000.0 -1.180174e+06  298.469985  41.103394 -0.000297   \n",
       "3  1100.767123  3000.0 -1.179027e+06  297.177308  41.005868 -0.000297   \n",
       "4  1095.756164  3000.0 -1.177967e+06  295.920560  40.911796 -0.000297   \n",
       "\n",
       "      logfO2   SiO2_Liq  TiO2_Liq  Al2O3_Liq  ...  Na2O_Rhm  K2O_Rhm  \\\n",
       "0 -10.085365  47.601910  1.925732  12.396428  ...       NaN      NaN   \n",
       "1 -10.254367  47.747755  1.862039  12.415663  ...       NaN      NaN   \n",
       "2 -10.428085  47.893104  1.798419  12.434711  ...       NaN      NaN   \n",
       "3 -10.602652  48.032356  1.737319  12.452845  ...       NaN      NaN   \n",
       "4 -10.778097  48.165861  1.678584  12.470120  ...       NaN      NaN   \n",
       "\n",
       "   P2O5_Rhm  H2O_Rhm  CO2_Rhm  Fe3Fet_Rhm  h_Rhm  mass_Rhm  v_Rhm  rho_Rhm  \n",
       "0       NaN      NaN      NaN         NaN    0.0       0.0    0.0      0.0  \n",
       "1       NaN      NaN      NaN         NaN    0.0       0.0    0.0      0.0  \n",
       "2       NaN      NaN      NaN         NaN    0.0       0.0    0.0      0.0  \n",
       "3       NaN      NaN      NaN         NaN    0.0       0.0    0.0      0.0  \n",
       "4       NaN      NaN      NaN         NaN    0.0       0.0    0.0      0.0  \n",
       "\n",
       "[5 rows x 167 columns]"
      ]
     },
     "execution_count": 10,
     "metadata": {},
     "output_type": "execute_result"
    }
   ],
   "source": [
    "MELTS=MELTS_FC['All']\n",
    "MELTS.head()"
   ]
  },
  {
   "cell_type": "code",
   "execution_count": 11,
   "id": "cce34efe",
   "metadata": {},
   "outputs": [
    {
     "data": {
      "text/plain": [
       "Text(0, 0.5, 'Mass Frac XH2O')"
      ]
     },
     "execution_count": 11,
     "metadata": {},
     "output_type": "execute_result"
    },
    {
     "data": {
      "image/png": "[encoded data removed]",
      "text/plain": [
       "<Figure size 640x480 with 1 Axes>"
      ]
     },
     "metadata": {},
     "output_type": "display_data"
    }
   ],
   "source": [
    "plt.plot(MELTS['SiO2_Liq'], MELTS['H2O_fluid1']/ (MELTS['H2O_fluid1']+MELTS['CO2_fluid1']), 'ok')\n",
    "plt.xlabel('SiO2')\n",
    "plt.ylabel('Mass Frac XH2O')"
   ]
  },
  {
   "cell_type": "code",
   "execution_count": 12,
   "id": "5a3f507b",
   "metadata": {},
   "outputs": [
    {
     "data": {
      "text/plain": [
       "Text(0.5, 0, 'SiO2')"
      ]
     },
     "execution_count": 12,
     "metadata": {},
     "output_type": "execute_result"
    },
    {
     "data": {
      "image/png": "[encoded data removed]",
      "text/plain": [
       "<Figure size 640x480 with 1 Axes>"
      ]
     },
     "metadata": {},
     "output_type": "display_data"
    }
   ],
   "source": [
    "plt.plot(MELTS['SiO2_Liq'], MELTS['H2O_Liq'], 'ok')\n",
    "plt.xlabel('SiO2')"
   ]
  },
  {
   "cell_type": "code",
   "execution_count": 13,
   "id": "11d7f76f",
   "metadata": {},
   "outputs": [
    {
     "data": {
      "text/plain": [
       "Text(0.5, 0, 'SiO2')"
      ]
     },
     "execution_count": 13,
     "metadata": {},
     "output_type": "execute_result"
    },
    {
     "data": {
      "image/png": "[encoded data removed]",
      "text/plain": [
       "<Figure size 640x480 with 1 Axes>"
      ]
     },
     "metadata": {},
     "output_type": "display_data"
    }
   ],
   "source": [
    "plt.plot(MELTS['SiO2_Liq'], MELTS['CO2_Liq'], 'ok')\n",
    "plt.xlabel('SiO2')"
   ]
  },
  {
   "cell_type": "markdown",
   "id": "482e8982-fdb1-40c8-8b75-3bbb5168fd6c",
   "metadata": {},
   "source": [
    "## Lets see what phases it crystallized.."
   ]
  },
  {
   "cell_type": "code",
   "execution_count": 14,
   "id": "389963be-fe73-41b1-a2f1-444ccd0e706e",
   "metadata": {},
   "outputs": [
    {
     "data": {
      "text/plain": [
       "Index(['SiO2_Liq', 'SiO2_Sp', 'SiO2_Ol', 'SiO2_Cpx', 'SiO2_Cpx2',\n",
       "       'SiO2_fluid1', 'SiO2_Plag', 'SiO2_Rhm'],\n",
       "      dtype='object')"
      ]
     },
     "execution_count": 14,
     "metadata": {},
     "output_type": "execute_result"
    }
   ],
   "source": [
    "# Lets see what phases we have!\n",
    "MELTS.columns[MELTS.columns.str.contains('SiO2')]"
   ]
  },
  {
   "cell_type": "markdown",
   "id": "91db853b-d5b8-4cd1-8fde-7274252472f3",
   "metadata": {},
   "source": [
    "## Calculate SCSS using Li and Zhang 2022"
   ]
  },
  {
   "cell_type": "code",
   "execution_count": 15,
   "id": "44a69904-92a4-4126-8cbe-4c8bf73ddf7c",
   "metadata": {},
   "outputs": [
    {
     "name": "stdout",
     "output_type": "stream",
     "text": [
      "Using inputted Fe_FeNiCu_Sulf ratio for calculations.\n",
      "replacing Fe3Fet_Liq in the original dataframe with that input into the function\n"
     ]
    },
    {
     "data": {
      "text/html": [
       "<div>\n",
       "<style scoped>\n",
       "    .dataframe tbody tr th:only-of-type {\n",
       "        vertical-align: middle;\n",
       "    }\n",
       "\n",
       "    .dataframe tbody tr th {\n",
       "        vertical-align: top;\n",
       "    }\n",
       "\n",
       "    .dataframe thead th {\n",
       "        text-align: right;\n",
       "    }\n",
       "</style>\n",
       "<table border=\"1\" class=\"dataframe\">\n",
       "  <thead>\n",
       "    <tr style=\"text-align: right;\">\n",
       "      <th></th>\n",
       "      <th>SCSS_Tot</th>\n",
       "      <th>T_C</th>\n",
       "      <th>P_bar</th>\n",
       "      <th>h</th>\n",
       "      <th>s</th>\n",
       "      <th>v</th>\n",
       "      <th>dvdp</th>\n",
       "      <th>logfO2</th>\n",
       "      <th>SiO2_Liq</th>\n",
       "      <th>TiO2_Liq</th>\n",
       "      <th>...</th>\n",
       "      <th>Al_cat</th>\n",
       "      <th>Fe_cat</th>\n",
       "      <th>Mn_cat</th>\n",
       "      <th>Mg_cat</th>\n",
       "      <th>Ca_cat</th>\n",
       "      <th>Na_cat</th>\n",
       "      <th>K_cat</th>\n",
       "      <th>P_cat</th>\n",
       "      <th>H_cat</th>\n",
       "      <th>Fe3_cat</th>\n",
       "    </tr>\n",
       "  </thead>\n",
       "  <tbody>\n",
       "    <tr>\n",
       "      <th>0</th>\n",
       "      <td>1796.006777</td>\n",
       "      <td>1115.800000</td>\n",
       "      <td>3000.0</td>\n",
       "      <td>-1.180423e+06</td>\n",
       "      <td>300.413262</td>\n",
       "      <td>41.231226</td>\n",
       "      <td>-0.000300</td>\n",
       "      <td>-10.085365</td>\n",
       "      <td>47.601910</td>\n",
       "      <td>1.925732</td>\n",
       "      <td>...</td>\n",
       "      <td>0.146193</td>\n",
       "      <td>0.094161</td>\n",
       "      <td>0.002000</td>\n",
       "      <td>0.092647</td>\n",
       "      <td>0.114037</td>\n",
       "      <td>0.045247</td>\n",
       "      <td>0.002953</td>\n",
       "      <td>0.001500</td>\n",
       "      <td>0.0</td>\n",
       "      <td>0.010448</td>\n",
       "    </tr>\n",
       "    <tr>\n",
       "      <th>1</th>\n",
       "      <td>1753.456098</td>\n",
       "      <td>1110.789041</td>\n",
       "      <td>3000.0</td>\n",
       "      <td>-1.181315e+06</td>\n",
       "      <td>299.769691</td>\n",
       "      <td>41.201340</td>\n",
       "      <td>-0.000297</td>\n",
       "      <td>-10.254367</td>\n",
       "      <td>47.747755</td>\n",
       "      <td>1.862039</td>\n",
       "      <td>...</td>\n",
       "      <td>0.146366</td>\n",
       "      <td>0.093409</td>\n",
       "      <td>0.002006</td>\n",
       "      <td>0.092478</td>\n",
       "      <td>0.114344</td>\n",
       "      <td>0.045369</td>\n",
       "      <td>0.002961</td>\n",
       "      <td>0.001504</td>\n",
       "      <td>0.0</td>\n",
       "      <td>0.009949</td>\n",
       "    </tr>\n",
       "    <tr>\n",
       "      <th>2</th>\n",
       "      <td>1711.594984</td>\n",
       "      <td>1105.778082</td>\n",
       "      <td>3000.0</td>\n",
       "      <td>-1.180174e+06</td>\n",
       "      <td>298.469985</td>\n",
       "      <td>41.103394</td>\n",
       "      <td>-0.000297</td>\n",
       "      <td>-10.428085</td>\n",
       "      <td>47.893104</td>\n",
       "      <td>1.798419</td>\n",
       "      <td>...</td>\n",
       "      <td>0.146537</td>\n",
       "      <td>0.092658</td>\n",
       "      <td>0.002011</td>\n",
       "      <td>0.092311</td>\n",
       "      <td>0.114650</td>\n",
       "      <td>0.045491</td>\n",
       "      <td>0.002969</td>\n",
       "      <td>0.001508</td>\n",
       "      <td>0.0</td>\n",
       "      <td>0.009455</td>\n",
       "    </tr>\n",
       "    <tr>\n",
       "      <th>3</th>\n",
       "      <td>1671.082216</td>\n",
       "      <td>1100.767123</td>\n",
       "      <td>3000.0</td>\n",
       "      <td>-1.179027e+06</td>\n",
       "      <td>297.177308</td>\n",
       "      <td>41.005868</td>\n",
       "      <td>-0.000297</td>\n",
       "      <td>-10.602652</td>\n",
       "      <td>48.032356</td>\n",
       "      <td>1.737319</td>\n",
       "      <td>...</td>\n",
       "      <td>0.146700</td>\n",
       "      <td>0.091936</td>\n",
       "      <td>0.002016</td>\n",
       "      <td>0.092153</td>\n",
       "      <td>0.114944</td>\n",
       "      <td>0.045607</td>\n",
       "      <td>0.002977</td>\n",
       "      <td>0.001512</td>\n",
       "      <td>0.0</td>\n",
       "      <td>0.008986</td>\n",
       "    </tr>\n",
       "    <tr>\n",
       "      <th>4</th>\n",
       "      <td>1631.844700</td>\n",
       "      <td>1095.756164</td>\n",
       "      <td>3000.0</td>\n",
       "      <td>-1.177967e+06</td>\n",
       "      <td>295.920560</td>\n",
       "      <td>40.911796</td>\n",
       "      <td>-0.000297</td>\n",
       "      <td>-10.778097</td>\n",
       "      <td>48.165861</td>\n",
       "      <td>1.678584</td>\n",
       "      <td>...</td>\n",
       "      <td>0.146854</td>\n",
       "      <td>0.091242</td>\n",
       "      <td>0.002021</td>\n",
       "      <td>0.092003</td>\n",
       "      <td>0.115225</td>\n",
       "      <td>0.045719</td>\n",
       "      <td>0.002984</td>\n",
       "      <td>0.001515</td>\n",
       "      <td>0.0</td>\n",
       "      <td>0.008540</td>\n",
       "    </tr>\n",
       "  </tbody>\n",
       "</table>\n",
       "<p>5 rows × 203 columns</p>\n",
       "</div>"
      ],
      "text/plain": [
       "      SCSS_Tot          T_C   P_bar             h           s          v  \\\n",
       "0  1796.006777  1115.800000  3000.0 -1.180423e+06  300.413262  41.231226   \n",
       "1  1753.456098  1110.789041  3000.0 -1.181315e+06  299.769691  41.201340   \n",
       "2  1711.594984  1105.778082  3000.0 -1.180174e+06  298.469985  41.103394   \n",
       "3  1671.082216  1100.767123  3000.0 -1.179027e+06  297.177308  41.005868   \n",
       "4  1631.844700  1095.756164  3000.0 -1.177967e+06  295.920560  40.911796   \n",
       "\n",
       "       dvdp     logfO2   SiO2_Liq  TiO2_Liq  ...    Al_cat    Fe_cat  \\\n",
       "0 -0.000300 -10.085365  47.601910  1.925732  ...  0.146193  0.094161   \n",
       "1 -0.000297 -10.254367  47.747755  1.862039  ...  0.146366  0.093409   \n",
       "2 -0.000297 -10.428085  47.893104  1.798419  ...  0.146537  0.092658   \n",
       "3 -0.000297 -10.602652  48.032356  1.737319  ...  0.146700  0.091936   \n",
       "4 -0.000297 -10.778097  48.165861  1.678584  ...  0.146854  0.091242   \n",
       "\n",
       "     Mn_cat    Mg_cat    Ca_cat    Na_cat     K_cat     P_cat  H_cat   Fe3_cat  \n",
       "0  0.002000  0.092647  0.114037  0.045247  0.002953  0.001500    0.0  0.010448  \n",
       "1  0.002006  0.092478  0.114344  0.045369  0.002961  0.001504    0.0  0.009949  \n",
       "2  0.002011  0.092311  0.114650  0.045491  0.002969  0.001508    0.0  0.009455  \n",
       "3  0.002016  0.092153  0.114944  0.045607  0.002977  0.001512    0.0  0.008986  \n",
       "4  0.002021  0.092003  0.115225  0.045719  0.002984  0.001515    0.0  0.008540  \n",
       "\n",
       "[5 rows x 203 columns]"
      ]
     },
     "execution_count": 15,
     "metadata": {},
     "output_type": "execute_result"
    }
   ],
   "source": [
    "LiZhang22=ss.calculate_LiZhang2022_SCSS(df=MELTS, T_K=MELTS['T_C']+273.15, \n",
    "P_kbar=P/1000, \n",
    "H2O_Liq=MELTS['H2O_Liq'], Fe_FeNiCu_Sulf=0.6, Fe3Fet_Liq=MELTS['Fe3Fet_Liq'])\n",
    "LiZhang22.head()"
   ]
  },
  {
   "cell_type": "markdown",
   "id": "6cb41036-6563-48be-bc00-3a3314c10607",
   "metadata": {},
   "source": [
    "## Smythe sulfide saturation model"
   ]
  },
  {
   "cell_type": "code",
   "execution_count": 16,
   "id": "a7342125-5ddc-4c2b-992c-9b76cfa770ad",
   "metadata": {},
   "outputs": [
    {
     "name": "stdout",
     "output_type": "stream",
     "text": [
      "Using inputted Fe_FeNiCu_Sulf ratio for calculations.\n",
      "no non ideal SCSS as no Cu/CuFeNiCu\n"
     ]
    },
    {
     "data": {
      "text/html": [
       "<div>\n",
       "<style scoped>\n",
       "    .dataframe tbody tr th:only-of-type {\n",
       "        vertical-align: middle;\n",
       "    }\n",
       "\n",
       "    .dataframe tbody tr th {\n",
       "        vertical-align: top;\n",
       "    }\n",
       "\n",
       "    .dataframe thead th {\n",
       "        text-align: right;\n",
       "    }\n",
       "</style>\n",
       "<table border=\"1\" class=\"dataframe\">\n",
       "  <thead>\n",
       "    <tr style=\"text-align: right;\">\n",
       "      <th></th>\n",
       "      <th>SCSS2_ppm_ideal_Smythe2017</th>\n",
       "      <th>SCSS2_ppm_ideal_Smythe2017_1sigma</th>\n",
       "      <th>T_Input_K</th>\n",
       "      <th>P_Input_kbar</th>\n",
       "      <th>Fe_FeNiCu_Sulf</th>\n",
       "      <th>Fe3Fet_Liq_input</th>\n",
       "      <th>Si_wt_atom</th>\n",
       "      <th>Ti_wt_atom</th>\n",
       "      <th>Al_wt_atom</th>\n",
       "      <th>Mg_wt_atom</th>\n",
       "      <th>...</th>\n",
       "      <th>K2O_Rhm</th>\n",
       "      <th>P2O5_Rhm</th>\n",
       "      <th>H2O_Rhm</th>\n",
       "      <th>CO2_Rhm</th>\n",
       "      <th>Fe3Fet_Rhm</th>\n",
       "      <th>h_Rhm</th>\n",
       "      <th>mass_Rhm</th>\n",
       "      <th>v_Rhm</th>\n",
       "      <th>rho_Rhm</th>\n",
       "      <th>Fe_FeNiCu_Sulf_calc</th>\n",
       "    </tr>\n",
       "  </thead>\n",
       "  <tbody>\n",
       "    <tr>\n",
       "      <th>0</th>\n",
       "      <td>712.724246</td>\n",
       "      <td>194.694722</td>\n",
       "      <td>1388.950000</td>\n",
       "      <td>3.0</td>\n",
       "      <td>0.65</td>\n",
       "      <td>0.099881</td>\n",
       "      <td>0.346392</td>\n",
       "      <td>0.010538</td>\n",
       "      <td>0.106315</td>\n",
       "      <td>0.067376</td>\n",
       "      <td>...</td>\n",
       "      <td>NaN</td>\n",
       "      <td>NaN</td>\n",
       "      <td>NaN</td>\n",
       "      <td>NaN</td>\n",
       "      <td>NaN</td>\n",
       "      <td>0.0</td>\n",
       "      <td>0.0</td>\n",
       "      <td>0.0</td>\n",
       "      <td>0.0</td>\n",
       "      <td>0.65</td>\n",
       "    </tr>\n",
       "    <tr>\n",
       "      <th>1</th>\n",
       "      <td>698.211082</td>\n",
       "      <td>190.730164</td>\n",
       "      <td>1383.939041</td>\n",
       "      <td>3.0</td>\n",
       "      <td>0.65</td>\n",
       "      <td>0.096256</td>\n",
       "      <td>0.347070</td>\n",
       "      <td>0.010178</td>\n",
       "      <td>0.106363</td>\n",
       "      <td>0.067203</td>\n",
       "      <td>...</td>\n",
       "      <td>NaN</td>\n",
       "      <td>NaN</td>\n",
       "      <td>NaN</td>\n",
       "      <td>NaN</td>\n",
       "      <td>NaN</td>\n",
       "      <td>0.0</td>\n",
       "      <td>0.0</td>\n",
       "      <td>0.0</td>\n",
       "      <td>0.0</td>\n",
       "      <td>0.65</td>\n",
       "    </tr>\n",
       "    <tr>\n",
       "      <th>2</th>\n",
       "      <td>683.912837</td>\n",
       "      <td>186.824316</td>\n",
       "      <td>1378.928082</td>\n",
       "      <td>3.0</td>\n",
       "      <td>0.65</td>\n",
       "      <td>0.092592</td>\n",
       "      <td>0.347746</td>\n",
       "      <td>0.009820</td>\n",
       "      <td>0.106409</td>\n",
       "      <td>0.067033</td>\n",
       "      <td>...</td>\n",
       "      <td>NaN</td>\n",
       "      <td>NaN</td>\n",
       "      <td>NaN</td>\n",
       "      <td>NaN</td>\n",
       "      <td>NaN</td>\n",
       "      <td>0.0</td>\n",
       "      <td>0.0</td>\n",
       "      <td>0.0</td>\n",
       "      <td>0.0</td>\n",
       "      <td>0.65</td>\n",
       "    </tr>\n",
       "    <tr>\n",
       "      <th>3</th>\n",
       "      <td>670.031292</td>\n",
       "      <td>183.032297</td>\n",
       "      <td>1373.917123</td>\n",
       "      <td>3.0</td>\n",
       "      <td>0.65</td>\n",
       "      <td>0.089035</td>\n",
       "      <td>0.348391</td>\n",
       "      <td>0.009476</td>\n",
       "      <td>0.106453</td>\n",
       "      <td>0.066871</td>\n",
       "      <td>...</td>\n",
       "      <td>NaN</td>\n",
       "      <td>NaN</td>\n",
       "      <td>NaN</td>\n",
       "      <td>NaN</td>\n",
       "      <td>NaN</td>\n",
       "      <td>0.0</td>\n",
       "      <td>0.0</td>\n",
       "      <td>0.0</td>\n",
       "      <td>0.0</td>\n",
       "      <td>0.65</td>\n",
       "    </tr>\n",
       "    <tr>\n",
       "      <th>4</th>\n",
       "      <td>656.541717</td>\n",
       "      <td>179.347353</td>\n",
       "      <td>1368.906164</td>\n",
       "      <td>3.0</td>\n",
       "      <td>0.65</td>\n",
       "      <td>0.085583</td>\n",
       "      <td>0.349008</td>\n",
       "      <td>0.009147</td>\n",
       "      <td>0.106493</td>\n",
       "      <td>0.066718</td>\n",
       "      <td>...</td>\n",
       "      <td>NaN</td>\n",
       "      <td>NaN</td>\n",
       "      <td>NaN</td>\n",
       "      <td>NaN</td>\n",
       "      <td>NaN</td>\n",
       "      <td>0.0</td>\n",
       "      <td>0.0</td>\n",
       "      <td>0.0</td>\n",
       "      <td>0.0</td>\n",
       "      <td>0.65</td>\n",
       "    </tr>\n",
       "  </tbody>\n",
       "</table>\n",
       "<p>5 rows × 208 columns</p>\n",
       "</div>"
      ],
      "text/plain": [
       "   SCSS2_ppm_ideal_Smythe2017  SCSS2_ppm_ideal_Smythe2017_1sigma    T_Input_K  \\\n",
       "0                  712.724246                         194.694722  1388.950000   \n",
       "1                  698.211082                         190.730164  1383.939041   \n",
       "2                  683.912837                         186.824316  1378.928082   \n",
       "3                  670.031292                         183.032297  1373.917123   \n",
       "4                  656.541717                         179.347353  1368.906164   \n",
       "\n",
       "   P_Input_kbar  Fe_FeNiCu_Sulf  Fe3Fet_Liq_input  Si_wt_atom  Ti_wt_atom  \\\n",
       "0           3.0            0.65          0.099881    0.346392    0.010538   \n",
       "1           3.0            0.65          0.096256    0.347070    0.010178   \n",
       "2           3.0            0.65          0.092592    0.347746    0.009820   \n",
       "3           3.0            0.65          0.089035    0.348391    0.009476   \n",
       "4           3.0            0.65          0.085583    0.349008    0.009147   \n",
       "\n",
       "   Al_wt_atom  Mg_wt_atom  ...  K2O_Rhm  P2O5_Rhm  H2O_Rhm  CO2_Rhm  \\\n",
       "0    0.106315    0.067376  ...      NaN       NaN      NaN      NaN   \n",
       "1    0.106363    0.067203  ...      NaN       NaN      NaN      NaN   \n",
       "2    0.106409    0.067033  ...      NaN       NaN      NaN      NaN   \n",
       "3    0.106453    0.066871  ...      NaN       NaN      NaN      NaN   \n",
       "4    0.106493    0.066718  ...      NaN       NaN      NaN      NaN   \n",
       "\n",
       "   Fe3Fet_Rhm  h_Rhm  mass_Rhm  v_Rhm  rho_Rhm  Fe_FeNiCu_Sulf_calc  \n",
       "0         NaN    0.0       0.0    0.0      0.0                 0.65  \n",
       "1         NaN    0.0       0.0    0.0      0.0                 0.65  \n",
       "2         NaN    0.0       0.0    0.0      0.0                 0.65  \n",
       "3         NaN    0.0       0.0    0.0      0.0                 0.65  \n",
       "4         NaN    0.0       0.0    0.0      0.0                 0.65  \n",
       "\n",
       "[5 rows x 208 columns]"
      ]
     },
     "execution_count": 16,
     "metadata": {},
     "output_type": "execute_result"
    }
   ],
   "source": [
    "Smythe_CalcSulf=ss.calculate_S2017_SCSS(df=MELTS, \n",
    "T_K=MELTS['T_C']+273.15, \n",
    "P_kbar=P/1000, Fe_FeNiCu_Sulf=0.65,\n",
    "Fe3Fet_Liq=MELTS['Fe3Fet_Liq'])\n",
    "\n",
    "Smythe_CalcSulf.head()"
   ]
  },
  {
   "cell_type": "code",
   "execution_count": 17,
   "id": "0e921099-8edf-4866-a20f-f3d12a6ce811",
   "metadata": {},
   "outputs": [
    {
     "data": {
      "text/plain": [
       "Text(0, 0.5, 'SCSS (Smythe, ppm)')"
      ]
     },
     "execution_count": 17,
     "metadata": {},
     "output_type": "execute_result"
    },
    {
     "data": {
      "image/png": "[encoded data removed]",
      "text/plain": [
       "<Figure size 640x480 with 1 Axes>"
      ]
     },
     "metadata": {},
     "output_type": "display_data"
    }
   ],
   "source": [
    "plt.plot(MELTS['MgO_Liq'], Smythe_CalcSulf['SCSS2_ppm_ideal_Smythe2017'],\n",
    "         '-r')\n",
    "plt.xlabel('Liq MgO (wt%)')\n",
    "plt.ylabel('SCSS (Smythe, ppm)')"
   ]
  },
  {
   "cell_type": "code",
   "execution_count": 18,
   "id": "63059fc1",
   "metadata": {},
   "outputs": [
    {
     "data": {
      "text/plain": [
       "Text(0, 0.5, 'Liq FeO (wt%)')"
      ]
     },
     "execution_count": 18,
     "metadata": {},
     "output_type": "execute_result"
    },
    {
     "data": {
      "image/png": "[encoded data removed]",
      "text/plain": [
       "<Figure size 640x480 with 1 Axes>"
      ]
     },
     "metadata": {},
     "output_type": "display_data"
    }
   ],
   "source": [
    "plt.plot( MELTS['MgO_Liq'],MELTS['FeOt_Liq'],\n",
    "         '-r')\n",
    "plt.xlabel('Liq MgO (wt%)')\n",
    "plt.ylabel('Liq FeO (wt%)')"
   ]
  },
  {
   "cell_type": "code",
   "execution_count": 19,
   "id": "c7fd54af-4d57-4967-adf9-31ab632f1482",
   "metadata": {},
   "outputs": [
    {
     "data": {
      "text/plain": [
       "Text(0, 0.5, 'Liq FeO (wt%)')"
      ]
     },
     "execution_count": 19,
     "metadata": {},
     "output_type": "execute_result"
    },
    {
     "data": {
      "image/png": "[encoded data removed]",
      "text/plain": [
       "<Figure size 640x480 with 1 Axes>"
      ]
     },
     "metadata": {},
     "output_type": "display_data"
    }
   ],
   "source": [
    "plt.plot( MELTS['MgO_Liq'],MELTS['FeOt_Liq'],\n",
    "         '-r')\n",
    "plt.xlabel('Liq MgO (wt%)')\n",
    "plt.ylabel('Liq FeO (wt%)')"
   ]
  },
  {
   "cell_type": "markdown",
   "id": "e4d51d2d-e1df-4e5c-a982-c3c18900b99a",
   "metadata": {},
   "source": [
    "## Using Oneill"
   ]
  },
  {
   "cell_type": "code",
   "execution_count": 20,
   "id": "67503197-023b-4c02-8226-cfff3d56c941",
   "metadata": {},
   "outputs": [
    {
     "name": "stdout",
     "output_type": "stream",
     "text": [
      "Using inputted Fe_FeNiCu_Sulf ratio for calculations.\n"
     ]
    },
    {
     "data": {
      "text/html": [
       "<div>\n",
       "<style scoped>\n",
       "    .dataframe tbody tr th:only-of-type {\n",
       "        vertical-align: middle;\n",
       "    }\n",
       "\n",
       "    .dataframe tbody tr th {\n",
       "        vertical-align: top;\n",
       "    }\n",
       "\n",
       "    .dataframe thead th {\n",
       "        text-align: right;\n",
       "    }\n",
       "</style>\n",
       "<table border=\"1\" class=\"dataframe\">\n",
       "  <thead>\n",
       "    <tr style=\"text-align: right;\">\n",
       "      <th></th>\n",
       "      <th>SCSS2_ppm</th>\n",
       "      <th>LnS</th>\n",
       "      <th>Ln_a_FeO</th>\n",
       "      <th>Ln_a_FeS</th>\n",
       "      <th>DeltaG</th>\n",
       "      <th>LnCS2_calc</th>\n",
       "      <th>T_C</th>\n",
       "      <th>P_bar</th>\n",
       "      <th>h</th>\n",
       "      <th>s</th>\n",
       "      <th>...</th>\n",
       "      <th>K2O_Rhm</th>\n",
       "      <th>P2O5_Rhm</th>\n",
       "      <th>H2O_Rhm</th>\n",
       "      <th>CO2_Rhm</th>\n",
       "      <th>Fe3Fet_Rhm</th>\n",
       "      <th>h_Rhm</th>\n",
       "      <th>mass_Rhm</th>\n",
       "      <th>v_Rhm</th>\n",
       "      <th>rho_Rhm</th>\n",
       "      <th>Fe_FeNiCu_Sulf_calc</th>\n",
       "    </tr>\n",
       "  </thead>\n",
       "  <tbody>\n",
       "    <tr>\n",
       "      <th>0</th>\n",
       "      <td>1249.373420</td>\n",
       "      <td>7.130397</td>\n",
       "      <td>-2.075625</td>\n",
       "      <td>-0.514565</td>\n",
       "      <td>8.301025</td>\n",
       "      <td>-2.731687</td>\n",
       "      <td>1115.800000</td>\n",
       "      <td>3000.0</td>\n",
       "      <td>-1.180423e+06</td>\n",
       "      <td>300.413262</td>\n",
       "      <td>...</td>\n",
       "      <td>NaN</td>\n",
       "      <td>NaN</td>\n",
       "      <td>NaN</td>\n",
       "      <td>NaN</td>\n",
       "      <td>NaN</td>\n",
       "      <td>0.0</td>\n",
       "      <td>0.0</td>\n",
       "      <td>0.0</td>\n",
       "      <td>0.0</td>\n",
       "      <td>0.66</td>\n",
       "    </tr>\n",
       "    <tr>\n",
       "      <th>1</th>\n",
       "      <td>1214.423494</td>\n",
       "      <td>7.102025</td>\n",
       "      <td>-2.080591</td>\n",
       "      <td>-0.513735</td>\n",
       "      <td>8.340613</td>\n",
       "      <td>-2.805445</td>\n",
       "      <td>1110.789041</td>\n",
       "      <td>3000.0</td>\n",
       "      <td>-1.181315e+06</td>\n",
       "      <td>299.769691</td>\n",
       "      <td>...</td>\n",
       "      <td>NaN</td>\n",
       "      <td>NaN</td>\n",
       "      <td>NaN</td>\n",
       "      <td>NaN</td>\n",
       "      <td>NaN</td>\n",
       "      <td>0.0</td>\n",
       "      <td>0.0</td>\n",
       "      <td>0.0</td>\n",
       "      <td>0.0</td>\n",
       "      <td>0.66</td>\n",
       "    </tr>\n",
       "    <tr>\n",
       "      <th>2</th>\n",
       "      <td>1180.194977</td>\n",
       "      <td>7.073435</td>\n",
       "      <td>-2.085576</td>\n",
       "      <td>-0.512906</td>\n",
       "      <td>8.380502</td>\n",
       "      <td>-2.879738</td>\n",
       "      <td>1105.778082</td>\n",
       "      <td>3000.0</td>\n",
       "      <td>-1.180174e+06</td>\n",
       "      <td>298.469985</td>\n",
       "      <td>...</td>\n",
       "      <td>NaN</td>\n",
       "      <td>NaN</td>\n",
       "      <td>NaN</td>\n",
       "      <td>NaN</td>\n",
       "      <td>NaN</td>\n",
       "      <td>0.0</td>\n",
       "      <td>0.0</td>\n",
       "      <td>0.0</td>\n",
       "      <td>0.0</td>\n",
       "      <td>0.66</td>\n",
       "    </tr>\n",
       "    <tr>\n",
       "      <th>3</th>\n",
       "      <td>1147.581081</td>\n",
       "      <td>7.045412</td>\n",
       "      <td>-2.090345</td>\n",
       "      <td>-0.512110</td>\n",
       "      <td>8.420695</td>\n",
       "      <td>-2.953519</td>\n",
       "      <td>1100.767123</td>\n",
       "      <td>3000.0</td>\n",
       "      <td>-1.179027e+06</td>\n",
       "      <td>297.177308</td>\n",
       "      <td>...</td>\n",
       "      <td>NaN</td>\n",
       "      <td>NaN</td>\n",
       "      <td>NaN</td>\n",
       "      <td>NaN</td>\n",
       "      <td>NaN</td>\n",
       "      <td>0.0</td>\n",
       "      <td>0.0</td>\n",
       "      <td>0.0</td>\n",
       "      <td>0.0</td>\n",
       "      <td>0.66</td>\n",
       "    </tr>\n",
       "    <tr>\n",
       "      <th>4</th>\n",
       "      <td>1116.473074</td>\n",
       "      <td>7.017930</td>\n",
       "      <td>-2.094907</td>\n",
       "      <td>-0.511344</td>\n",
       "      <td>8.461196</td>\n",
       "      <td>-3.026829</td>\n",
       "      <td>1095.756164</td>\n",
       "      <td>3000.0</td>\n",
       "      <td>-1.177967e+06</td>\n",
       "      <td>295.920560</td>\n",
       "      <td>...</td>\n",
       "      <td>NaN</td>\n",
       "      <td>NaN</td>\n",
       "      <td>NaN</td>\n",
       "      <td>NaN</td>\n",
       "      <td>NaN</td>\n",
       "      <td>0.0</td>\n",
       "      <td>0.0</td>\n",
       "      <td>0.0</td>\n",
       "      <td>0.0</td>\n",
       "      <td>0.66</td>\n",
       "    </tr>\n",
       "  </tbody>\n",
       "</table>\n",
       "<p>5 rows × 174 columns</p>\n",
       "</div>"
      ],
      "text/plain": [
       "     SCSS2_ppm       LnS  Ln_a_FeO  Ln_a_FeS    DeltaG  LnCS2_calc  \\\n",
       "0  1249.373420  7.130397 -2.075625 -0.514565  8.301025   -2.731687   \n",
       "1  1214.423494  7.102025 -2.080591 -0.513735  8.340613   -2.805445   \n",
       "2  1180.194977  7.073435 -2.085576 -0.512906  8.380502   -2.879738   \n",
       "3  1147.581081  7.045412 -2.090345 -0.512110  8.420695   -2.953519   \n",
       "4  1116.473074  7.017930 -2.094907 -0.511344  8.461196   -3.026829   \n",
       "\n",
       "           T_C   P_bar             h           s  ...  K2O_Rhm  P2O5_Rhm  \\\n",
       "0  1115.800000  3000.0 -1.180423e+06  300.413262  ...      NaN       NaN   \n",
       "1  1110.789041  3000.0 -1.181315e+06  299.769691  ...      NaN       NaN   \n",
       "2  1105.778082  3000.0 -1.180174e+06  298.469985  ...      NaN       NaN   \n",
       "3  1100.767123  3000.0 -1.179027e+06  297.177308  ...      NaN       NaN   \n",
       "4  1095.756164  3000.0 -1.177967e+06  295.920560  ...      NaN       NaN   \n",
       "\n",
       "   H2O_Rhm  CO2_Rhm  Fe3Fet_Rhm  h_Rhm  mass_Rhm  v_Rhm  rho_Rhm  \\\n",
       "0      NaN      NaN         NaN    0.0       0.0    0.0      0.0   \n",
       "1      NaN      NaN         NaN    0.0       0.0    0.0      0.0   \n",
       "2      NaN      NaN         NaN    0.0       0.0    0.0      0.0   \n",
       "3      NaN      NaN         NaN    0.0       0.0    0.0      0.0   \n",
       "4      NaN      NaN         NaN    0.0       0.0    0.0      0.0   \n",
       "\n",
       "   Fe_FeNiCu_Sulf_calc  \n",
       "0                 0.66  \n",
       "1                 0.66  \n",
       "2                 0.66  \n",
       "3                 0.66  \n",
       "4                 0.66  \n",
       "\n",
       "[5 rows x 174 columns]"
      ]
     },
     "execution_count": 20,
     "metadata": {},
     "output_type": "execute_result"
    }
   ],
   "source": [
    "ONeill_MeasSulf=ss.calculate_O2021_SCSS(df=MELTS, T_K=MELTS['T_C']+273.15, \n",
    "P_kbar=P/1000,\n",
    "Fe_FeNiCu_Sulf=0.66,\n",
    "Fe3Fet_Liq=MELTS['Fe3Fet_Liq'])\n",
    "ONeill_MeasSulf.head()"
   ]
  },
  {
   "cell_type": "code",
   "execution_count": null,
   "id": "22287981-eebe-4810-a5d7-7134bc1ac57c",
   "metadata": {},
   "outputs": [],
   "source": []
  },
  {
   "cell_type": "code",
   "execution_count": null,
   "id": "657180b1-3c72-423f-8cba-a2d100126092",
   "metadata": {},
   "outputs": [],
   "source": []
  },
  {
   "cell_type": "code",
   "execution_count": null,
   "id": "5f899df0-efe2-423f-982b-aeb669e03397",
   "metadata": {},
   "outputs": [],
   "source": []
  }
 ],
 "metadata": {
  "kernelspec": {
   "display_name": "Python 3 (ipykernel)",
   "language": "python",
   "name": "python3"
  },
  "language_info": {
   "codemirror_mode": {
    "name": "ipython",
    "version": 3
   },
   "file_extension": ".py",
   "mimetype": "text/x-python",
   "name": "python",
   "nbconvert_exporter": "python",
   "pygments_lexer": "ipython3",
   "version": "3.11.5"
  }
 },
 "nbformat": 4,
 "nbformat_minor": 5
}
