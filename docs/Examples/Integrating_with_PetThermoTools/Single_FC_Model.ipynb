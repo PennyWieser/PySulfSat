{
 "cells": [
  {
   "cell_type": "markdown",
   "id": "4415c7c1-2939-47db-b93f-0870a07acce3",
   "metadata": {
    "tags": []
   },
   "source": [
    "# Integrating PySulfSat with PetThermoTools\n",
    "- This notebook can perform MELTS calculations, and then go onto calculate the SCSS and SCAS within a single notebook!\n",
    "- It relies on the python MELTS architecture developed by Paula Antoshechkin at Caltech, and fractional crystallization functions written by Matthew Gleeson at UC Berkeley\n",
    "- In addition to installing PySulfSat you will need to first download the MELTS python infrastructure from this website (https://magmasource.caltech.edu/gitlist/MELTS_Matlab.git/), and then the PetThermoTools code by uncommenting below\n",
    "- More information can be found here: https://github.com/gleesonm1/PetThermoTools\n",
    "You can download the excel spreadsheet with the compositions here:\n",
    "- https://github.com/PennyWieser/PySulfSat/blob/main/docs/Examples/Integrating_with_PyMELTS/Glass_input_example.xlsx"
   ]
  },
  {
   "cell_type": "markdown",
   "id": "c2cb28dc-6c70-4c2b-ac20-896475b1cb0f",
   "metadata": {},
   "source": [
    "## If you havent done so already, you need to pip install PySulfSat\n",
    "- Do this by removing the #. You only need to do this once per computer. After your initial installation, you will want to upgrade instead using the second command\n"
   ]
  },
  {
   "cell_type": "code",
   "execution_count": 5,
   "id": "5a409b70-70c7-4cbf-b4fb-1d3e15911ae1",
   "metadata": {},
   "outputs": [],
   "source": [
    "#!pip install PySulfSat\n",
    "#!pip install PySulfSat --upgrade"
   ]
  },
  {
   "cell_type": "markdown",
   "id": "96061177-bbfa-487b-a5d1-0de57b9e3f53",
   "metadata": {},
   "source": [
    "## Now you need to append the path to your local MELTS installation"
   ]
  },
  {
   "cell_type": "code",
   "execution_count": 6,
   "id": "158cf30d-8a3a-4d47-953f-d18d36c69484",
   "metadata": {},
   "outputs": [],
   "source": [
    "import sys\n",
    "sys.path.append(r'C:\\Users\\penny\\Box\\Berkeley_new\\MELTS_python_Paula\\melts_matlab_git_master\\package')"
   ]
  },
  {
   "cell_type": "markdown",
   "id": "d186d713-6500-4134-bcf6-3057bcde4b24",
   "metadata": {},
   "source": [
    "## And now you need to download the PetThermoTools code by uncommenting this line\n",
    "- you will need to be on at least 0.1.3 to get the logfo2 output needed here"
   ]
  },
  {
   "cell_type": "code",
   "execution_count": 7,
   "id": "971bbab3-362c-400d-a91f-d91872a56cc1",
   "metadata": {},
   "outputs": [],
   "source": [
    "#!pip install --upgrade PetThermoTools"
   ]
  },
  {
   "cell_type": "code",
   "execution_count": 8,
   "id": "ef1cef0c-cdd2-43a3-b4b8-6e1febecdade",
   "metadata": {},
   "outputs": [],
   "source": [
    "import numpy as np\n",
    "import pandas as pd\n",
    "import matplotlib.pyplot as plt\n",
    "import PySulfSat as ss\n",
    "import PetThermoTools as M"
   ]
  },
  {
   "cell_type": "code",
   "execution_count": 9,
   "id": "dc58e7ba-fcd0-4c8b-ad2e-a6b44596113f",
   "metadata": {},
   "outputs": [],
   "source": [
    "### Use these version numbers when communicating problems to Penny (ss) and Matt (M.)"
   ]
  },
  {
   "cell_type": "code",
   "execution_count": 10,
   "id": "175e078f-460b-4582-978e-0da465d5ca42",
   "metadata": {},
   "outputs": [
    {
     "data": {
      "text/plain": [
       "'1.0.4'"
      ]
     },
     "execution_count": 10,
     "metadata": {},
     "output_type": "execute_result"
    }
   ],
   "source": [
    "ss.__version__"
   ]
  },
  {
   "cell_type": "code",
   "execution_count": 11,
   "id": "4128d3bb-fede-463c-a6d3-dd44e0a38dfe",
   "metadata": {},
   "outputs": [
    {
     "data": {
      "text/plain": [
       "'0.2.3'"
      ]
     },
     "execution_count": 11,
     "metadata": {},
     "output_type": "execute_result"
    }
   ],
   "source": [
    "M.__version__"
   ]
  },
  {
   "cell_type": "markdown",
   "id": "fd12f034-fc88-4f5c-bf12-8fc84e0a487c",
   "metadata": {},
   "source": [
    "## Import data\n",
    "- Here, we load in some glass EPMA data, and then start a MELTS model from the first row in the loaded spreadsheet"
   ]
  },
  {
   "cell_type": "code",
   "execution_count": 12,
   "id": "2542acaf-7427-4220-8ff1-da7ac6b0aeec",
   "metadata": {},
   "outputs": [
    {
     "name": "stdout",
     "output_type": "stream",
     "text": [
      "We have replaced all missing liquid oxides and strings with zeros. \n"
     ]
    }
   ],
   "source": [
    "df_out2=ss.import_data('Glass_input_example.xlsx', sheet_name='Glass_input', \n",
    "                       suffix=\"_Liq\")\n",
    "df_out2.head()\n",
    "# Selecting a single composition to start the model from\n",
    "sample=df_out2.iloc[0]"
   ]
  },
  {
   "cell_type": "code",
   "execution_count": 14,
   "id": "c7c40538",
   "metadata": {},
   "outputs": [
    {
     "data": {
      "text/plain": [
       "pandas.core.series.Series"
      ]
     },
     "execution_count": 14,
     "metadata": {},
     "output_type": "execute_result"
    }
   ],
   "source": [
    "type(sample)"
   ]
  },
  {
   "cell_type": "code",
   "execution_count": 15,
   "id": "d5d3aef6",
   "metadata": {},
   "outputs": [
    {
     "data": {
      "text/plain": [
       "SiO2_Liq              50.822\n",
       "TiO2_Liq               2.056\n",
       "Al2O3_Liq             13.235\n",
       "FeOt_Liq              13.339\n",
       "MnO_Liq                0.252\n",
       "MgO_Liq                6.631\n",
       "CaO_Liq               11.356\n",
       "Na2O_Liq                2.49\n",
       "K2O_Liq                0.247\n",
       "P2O5_Liq               0.189\n",
       "H2O_Liq                  0.0\n",
       "Fe3Fet_Liq               0.0\n",
       "Ni_Liq_ppm               0.0\n",
       "Cu_Liq_ppm               0.0\n",
       "Sample_ID_Liq            H_1\n",
       "Cr2O3_Liq               0.04\n",
       "Total_Liq            100.754\n",
       "Sample_ID_Liq_Liq          0\n",
       "Name: 0, dtype: object"
      ]
     },
     "execution_count": 15,
     "metadata": {},
     "output_type": "execute_result"
    }
   ],
   "source": [
    "sample"
   ]
  },
  {
   "cell_type": "code",
   "execution_count": 9,
   "id": "166c7a46",
   "metadata": {},
   "outputs": [
    {
     "name": "stderr",
     "output_type": "stream",
     "text": [
      "C:\\Users\\penny\\AppData\\Local\\Temp\\ipykernel_24896\\3063343034.py:1: SettingWithCopyWarning: \n",
      "A value is trying to be set on a copy of a slice from a DataFrame\n",
      "\n",
      "See the caveats in the documentation: https://pandas.pydata.org/pandas-docs/stable/user_guide/indexing.html#returning-a-view-versus-a-copy\n",
      "  sample['CO2_Liq']=0.02\n",
      "C:\\Users\\penny\\AppData\\Local\\Temp\\ipykernel_24896\\3063343034.py:1: SettingWithCopyWarning: \n",
      "A value is trying to be set on a copy of a slice from a DataFrame\n",
      "\n",
      "See the caveats in the documentation: https://pandas.pydata.org/pandas-docs/stable/user_guide/indexing.html#returning-a-view-versus-a-copy\n",
      "  sample['CO2_Liq']=0.02\n"
     ]
    }
   ],
   "source": [
    "sample['CO2_Liq']=0.02"
   ]
  },
  {
   "cell_type": "markdown",
   "id": "7520ed5c-150e-4aeb-a0ab-70cc8486948e",
   "metadata": {},
   "source": [
    "## Using PetThermoTools\n",
    "- Here we initiate a melts fractional crystallizatoin model, see the documentation for that package for more information"
   ]
  },
  {
   "cell_type": "code",
   "execution_count": 10,
   "id": "6a353cd4-137f-4c15-9a23-25cbd61f7968",
   "metadata": {},
   "outputs": [
    {
     "name": "stdout",
     "output_type": "stream",
     "text": [
      "Running MELTSv1.1.0 calculation... Complete (time taken = 11.04 seconds)"
     ]
    }
   ],
   "source": [
    "P=1000\n",
    "MELTS_FC=M.multi_path(Model = \"MELTSv1.1.0\", \n",
    "                        Fe3Fet_Liq=0.1,\n",
    "                          H2O_Liq=0.1,\n",
    "                        bulk = sample.to_dict(), \n",
    "                        Frac_solid = True, \n",
    "                        Frac_fluid = True, \n",
    "                        find_liquidus = True,\n",
    "                        T_end_C = 750, \n",
    "                        dt_C = 5, \n",
    "                        P_bar = P, \n",
    "                        )"
   ]
  },
  {
   "cell_type": "markdown",
   "id": "45b06228-ab78-4605-a4a5-3fb5c9b8b00e",
   "metadata": {},
   "source": [
    "### Inspecting the outputs from this function"
   ]
  },
  {
   "cell_type": "code",
   "execution_count": 11,
   "id": "10687e94-9ba5-4a7d-aec9-b128e9aa6828",
   "metadata": {},
   "outputs": [
    {
     "data": {
      "text/html": [
       "<div>\n",
       "<style scoped>\n",
       "    .dataframe tbody tr th:only-of-type {\n",
       "        vertical-align: middle;\n",
       "    }\n",
       "\n",
       "    .dataframe tbody tr th {\n",
       "        vertical-align: top;\n",
       "    }\n",
       "\n",
       "    .dataframe thead th {\n",
       "        text-align: right;\n",
       "    }\n",
       "</style>\n",
       "<table border=\"1\" class=\"dataframe\">\n",
       "  <thead>\n",
       "    <tr style=\"text-align: right;\">\n",
       "      <th></th>\n",
       "      <th>T_C</th>\n",
       "      <th>P_bar</th>\n",
       "      <th>h</th>\n",
       "      <th>s</th>\n",
       "      <th>v</th>\n",
       "      <th>dvdp</th>\n",
       "      <th>logfO2</th>\n",
       "      <th>SiO2_Liq</th>\n",
       "      <th>TiO2_Liq</th>\n",
       "      <th>Al2O3_Liq</th>\n",
       "      <th>...</th>\n",
       "      <th>Na2O_whitlockite1</th>\n",
       "      <th>K2O_whitlockite1</th>\n",
       "      <th>P2O5_whitlockite1</th>\n",
       "      <th>H2O_whitlockite1</th>\n",
       "      <th>CO2_whitlockite1</th>\n",
       "      <th>Fe3Fet_whitlockite1</th>\n",
       "      <th>h_whitlockite1</th>\n",
       "      <th>mass_whitlockite1</th>\n",
       "      <th>v_whitlockite1</th>\n",
       "      <th>rho_whitlockite1</th>\n",
       "    </tr>\n",
       "  </thead>\n",
       "  <tbody>\n",
       "    <tr>\n",
       "      <th>0</th>\n",
       "      <td>1179.500000</td>\n",
       "      <td>1000.0</td>\n",
       "      <td>-1.180618e+06</td>\n",
       "      <td>264.233855</td>\n",
       "      <td>36.597737</td>\n",
       "      <td>-0.000216</td>\n",
       "      <td>-9.492504</td>\n",
       "      <td>50.376359</td>\n",
       "      <td>2.037972</td>\n",
       "      <td>13.118947</td>\n",
       "      <td>...</td>\n",
       "      <td>NaN</td>\n",
       "      <td>NaN</td>\n",
       "      <td>NaN</td>\n",
       "      <td>NaN</td>\n",
       "      <td>NaN</td>\n",
       "      <td>NaN</td>\n",
       "      <td>0.0</td>\n",
       "      <td>0.0</td>\n",
       "      <td>0.0</td>\n",
       "      <td>0.0</td>\n",
       "    </tr>\n",
       "    <tr>\n",
       "      <th>1</th>\n",
       "      <td>1174.505814</td>\n",
       "      <td>1000.0</td>\n",
       "      <td>-1.182400e+06</td>\n",
       "      <td>263.004796</td>\n",
       "      <td>36.452923</td>\n",
       "      <td>-0.000177</td>\n",
       "      <td>-9.554844</td>\n",
       "      <td>50.354642</td>\n",
       "      <td>2.081251</td>\n",
       "      <td>13.336797</td>\n",
       "      <td>...</td>\n",
       "      <td>NaN</td>\n",
       "      <td>NaN</td>\n",
       "      <td>NaN</td>\n",
       "      <td>NaN</td>\n",
       "      <td>NaN</td>\n",
       "      <td>NaN</td>\n",
       "      <td>0.0</td>\n",
       "      <td>0.0</td>\n",
       "      <td>0.0</td>\n",
       "      <td>0.0</td>\n",
       "    </tr>\n",
       "    <tr>\n",
       "      <th>2</th>\n",
       "      <td>1169.511628</td>\n",
       "      <td>1000.0</td>\n",
       "      <td>-1.151105e+06</td>\n",
       "      <td>254.976197</td>\n",
       "      <td>35.424947</td>\n",
       "      <td>-0.000142</td>\n",
       "      <td>-9.606483</td>\n",
       "      <td>50.318371</td>\n",
       "      <td>2.183586</td>\n",
       "      <td>13.184189</td>\n",
       "      <td>...</td>\n",
       "      <td>NaN</td>\n",
       "      <td>NaN</td>\n",
       "      <td>NaN</td>\n",
       "      <td>NaN</td>\n",
       "      <td>NaN</td>\n",
       "      <td>NaN</td>\n",
       "      <td>0.0</td>\n",
       "      <td>0.0</td>\n",
       "      <td>0.0</td>\n",
       "      <td>0.0</td>\n",
       "    </tr>\n",
       "    <tr>\n",
       "      <th>3</th>\n",
       "      <td>1164.517442</td>\n",
       "      <td>1000.0</td>\n",
       "      <td>-1.084911e+06</td>\n",
       "      <td>240.910201</td>\n",
       "      <td>33.478914</td>\n",
       "      <td>-0.000138</td>\n",
       "      <td>-9.654309</td>\n",
       "      <td>50.272636</td>\n",
       "      <td>2.288569</td>\n",
       "      <td>13.027947</td>\n",
       "      <td>...</td>\n",
       "      <td>NaN</td>\n",
       "      <td>NaN</td>\n",
       "      <td>NaN</td>\n",
       "      <td>NaN</td>\n",
       "      <td>NaN</td>\n",
       "      <td>NaN</td>\n",
       "      <td>0.0</td>\n",
       "      <td>0.0</td>\n",
       "      <td>0.0</td>\n",
       "      <td>0.0</td>\n",
       "    </tr>\n",
       "    <tr>\n",
       "      <th>4</th>\n",
       "      <td>1159.523256</td>\n",
       "      <td>1000.0</td>\n",
       "      <td>-1.024122e+06</td>\n",
       "      <td>227.964449</td>\n",
       "      <td>31.686988</td>\n",
       "      <td>-0.000134</td>\n",
       "      <td>-9.698442</td>\n",
       "      <td>50.216394</td>\n",
       "      <td>2.397493</td>\n",
       "      <td>12.866093</td>\n",
       "      <td>...</td>\n",
       "      <td>NaN</td>\n",
       "      <td>NaN</td>\n",
       "      <td>NaN</td>\n",
       "      <td>NaN</td>\n",
       "      <td>NaN</td>\n",
       "      <td>NaN</td>\n",
       "      <td>0.0</td>\n",
       "      <td>0.0</td>\n",
       "      <td>0.0</td>\n",
       "      <td>0.0</td>\n",
       "    </tr>\n",
       "  </tbody>\n",
       "</table>\n",
       "<p>5 rows × 187 columns</p>\n",
       "</div>"
      ],
      "text/plain": [
       "           T_C   P_bar             h           s          v      dvdp  \\\n",
       "0  1179.500000  1000.0 -1.180618e+06  264.233855  36.597737 -0.000216   \n",
       "1  1174.505814  1000.0 -1.182400e+06  263.004796  36.452923 -0.000177   \n",
       "2  1169.511628  1000.0 -1.151105e+06  254.976197  35.424947 -0.000142   \n",
       "3  1164.517442  1000.0 -1.084911e+06  240.910201  33.478914 -0.000138   \n",
       "4  1159.523256  1000.0 -1.024122e+06  227.964449  31.686988 -0.000134   \n",
       "\n",
       "     logfO2   SiO2_Liq  TiO2_Liq  Al2O3_Liq  ...  Na2O_whitlockite1  \\\n",
       "0 -9.492504  50.376359  2.037972  13.118947  ...                NaN   \n",
       "1 -9.554844  50.354642  2.081251  13.336797  ...                NaN   \n",
       "2 -9.606483  50.318371  2.183586  13.184189  ...                NaN   \n",
       "3 -9.654309  50.272636  2.288569  13.027947  ...                NaN   \n",
       "4 -9.698442  50.216394  2.397493  12.866093  ...                NaN   \n",
       "\n",
       "   K2O_whitlockite1  P2O5_whitlockite1  H2O_whitlockite1  CO2_whitlockite1  \\\n",
       "0               NaN                NaN               NaN               NaN   \n",
       "1               NaN                NaN               NaN               NaN   \n",
       "2               NaN                NaN               NaN               NaN   \n",
       "3               NaN                NaN               NaN               NaN   \n",
       "4               NaN                NaN               NaN               NaN   \n",
       "\n",
       "   Fe3Fet_whitlockite1  h_whitlockite1  mass_whitlockite1  v_whitlockite1  \\\n",
       "0                  NaN             0.0                0.0             0.0   \n",
       "1                  NaN             0.0                0.0             0.0   \n",
       "2                  NaN             0.0                0.0             0.0   \n",
       "3                  NaN             0.0                0.0             0.0   \n",
       "4                  NaN             0.0                0.0             0.0   \n",
       "\n",
       "   rho_whitlockite1  \n",
       "0               0.0  \n",
       "1               0.0  \n",
       "2               0.0  \n",
       "3               0.0  \n",
       "4               0.0  \n",
       "\n",
       "[5 rows x 187 columns]"
      ]
     },
     "execution_count": 11,
     "metadata": {},
     "output_type": "execute_result"
    }
   ],
   "source": [
    "MELTS=MELTS_FC['All']\n",
    "MELTS.head()"
   ]
  },
  {
   "cell_type": "markdown",
   "id": "482e8982-fdb1-40c8-8b75-3bbb5168fd6c",
   "metadata": {},
   "source": [
    "## Lets see what phases it crystallized.."
   ]
  },
  {
   "cell_type": "code",
   "execution_count": 12,
   "id": "389963be-fe73-41b1-a2f1-444ccd0e706e",
   "metadata": {},
   "outputs": [
    {
     "data": {
      "text/plain": [
       "Index(['SiO2_Liq', 'SiO2_Cpx', 'SiO2_Plag', 'SiO2_Cpx2', 'SiO2_Rhm', 'SiO2_Sp',\n",
       "       'SiO2_Ol', 'SiO2_fluid1', 'SiO2_whitlockite1'],\n",
       "      dtype='object')"
      ]
     },
     "execution_count": 12,
     "metadata": {},
     "output_type": "execute_result"
    }
   ],
   "source": [
    "# Lets see what phases we have!\n",
    "MELTS.columns[MELTS.columns.str.contains('SiO2')]"
   ]
  },
  {
   "cell_type": "markdown",
   "id": "91db853b-d5b8-4cd1-8fde-7274252472f3",
   "metadata": {},
   "source": [
    "## Calculate SCSS using Li and Zhang 2022"
   ]
  },
  {
   "cell_type": "code",
   "execution_count": 13,
   "id": "44a69904-92a4-4126-8cbe-4c8bf73ddf7c",
   "metadata": {},
   "outputs": [
    {
     "name": "stdout",
     "output_type": "stream",
     "text": [
      "Using inputted Fe_FeNiCu_Sulf ratio for calculations.\n",
      "replacing Fe3Fet_Liq in the original dataframe with that input into the function\n"
     ]
    },
    {
     "data": {
      "text/html": [
       "<div>\n",
       "<style scoped>\n",
       "    .dataframe tbody tr th:only-of-type {\n",
       "        vertical-align: middle;\n",
       "    }\n",
       "\n",
       "    .dataframe tbody tr th {\n",
       "        vertical-align: top;\n",
       "    }\n",
       "\n",
       "    .dataframe thead th {\n",
       "        text-align: right;\n",
       "    }\n",
       "</style>\n",
       "<table border=\"1\" class=\"dataframe\">\n",
       "  <thead>\n",
       "    <tr style=\"text-align: right;\">\n",
       "      <th></th>\n",
       "      <th>SCSS_Tot</th>\n",
       "      <th>T_C</th>\n",
       "      <th>P_bar</th>\n",
       "      <th>h</th>\n",
       "      <th>s</th>\n",
       "      <th>v</th>\n",
       "      <th>dvdp</th>\n",
       "      <th>logfO2</th>\n",
       "      <th>SiO2_Liq</th>\n",
       "      <th>TiO2_Liq</th>\n",
       "      <th>...</th>\n",
       "      <th>Al_cat</th>\n",
       "      <th>Fe_cat</th>\n",
       "      <th>Mn_cat</th>\n",
       "      <th>Mg_cat</th>\n",
       "      <th>Ca_cat</th>\n",
       "      <th>Na_cat</th>\n",
       "      <th>K_cat</th>\n",
       "      <th>P_cat</th>\n",
       "      <th>H_cat</th>\n",
       "      <th>Fe3_cat</th>\n",
       "    </tr>\n",
       "  </thead>\n",
       "  <tbody>\n",
       "    <tr>\n",
       "      <th>0</th>\n",
       "      <td>1103.260544</td>\n",
       "      <td>1179.500000</td>\n",
       "      <td>1000.0</td>\n",
       "      <td>-1.180618e+06</td>\n",
       "      <td>264.233855</td>\n",
       "      <td>36.597737</td>\n",
       "      <td>-0.000216</td>\n",
       "      <td>-9.492504</td>\n",
       "      <td>50.376359</td>\n",
       "      <td>2.037972</td>\n",
       "      <td>...</td>\n",
       "      <td>0.146193</td>\n",
       "      <td>0.094161</td>\n",
       "      <td>0.002000</td>\n",
       "      <td>0.092647</td>\n",
       "      <td>0.114037</td>\n",
       "      <td>0.045247</td>\n",
       "      <td>0.002953</td>\n",
       "      <td>0.001500</td>\n",
       "      <td>0.0</td>\n",
       "      <td>0.010448</td>\n",
       "    </tr>\n",
       "    <tr>\n",
       "      <th>1</th>\n",
       "      <td>1076.324181</td>\n",
       "      <td>1174.505814</td>\n",
       "      <td>1000.0</td>\n",
       "      <td>-1.182400e+06</td>\n",
       "      <td>263.004796</td>\n",
       "      <td>36.452923</td>\n",
       "      <td>-0.000177</td>\n",
       "      <td>-9.554844</td>\n",
       "      <td>50.354642</td>\n",
       "      <td>2.081251</td>\n",
       "      <td>...</td>\n",
       "      <td>0.148732</td>\n",
       "      <td>0.095309</td>\n",
       "      <td>0.002057</td>\n",
       "      <td>0.089245</td>\n",
       "      <td>0.111936</td>\n",
       "      <td>0.046368</td>\n",
       "      <td>0.003036</td>\n",
       "      <td>0.001542</td>\n",
       "      <td>0.0</td>\n",
       "      <td>0.010492</td>\n",
       "    </tr>\n",
       "    <tr>\n",
       "      <th>2</th>\n",
       "      <td>1091.068822</td>\n",
       "      <td>1169.511628</td>\n",
       "      <td>1000.0</td>\n",
       "      <td>-1.151105e+06</td>\n",
       "      <td>254.976197</td>\n",
       "      <td>35.424947</td>\n",
       "      <td>-0.000142</td>\n",
       "      <td>-9.606483</td>\n",
       "      <td>50.318371</td>\n",
       "      <td>2.183586</td>\n",
       "      <td>...</td>\n",
       "      <td>0.147302</td>\n",
       "      <td>0.098941</td>\n",
       "      <td>0.002177</td>\n",
       "      <td>0.087129</td>\n",
       "      <td>0.108819</td>\n",
       "      <td>0.047407</td>\n",
       "      <td>0.003203</td>\n",
       "      <td>0.001632</td>\n",
       "      <td>0.0</td>\n",
       "      <td>0.010811</td>\n",
       "    </tr>\n",
       "    <tr>\n",
       "      <th>3</th>\n",
       "      <td>1106.764752</td>\n",
       "      <td>1164.517442</td>\n",
       "      <td>1000.0</td>\n",
       "      <td>-1.084911e+06</td>\n",
       "      <td>240.910201</td>\n",
       "      <td>33.478914</td>\n",
       "      <td>-0.000138</td>\n",
       "      <td>-9.654309</td>\n",
       "      <td>50.272636</td>\n",
       "      <td>2.288569</td>\n",
       "      <td>...</td>\n",
       "      <td>0.145833</td>\n",
       "      <td>0.102560</td>\n",
       "      <td>0.002302</td>\n",
       "      <td>0.084964</td>\n",
       "      <td>0.105871</td>\n",
       "      <td>0.048391</td>\n",
       "      <td>0.003373</td>\n",
       "      <td>0.001725</td>\n",
       "      <td>0.0</td>\n",
       "      <td>0.011151</td>\n",
       "    </tr>\n",
       "    <tr>\n",
       "      <th>4</th>\n",
       "      <td>1123.636117</td>\n",
       "      <td>1159.523256</td>\n",
       "      <td>1000.0</td>\n",
       "      <td>-1.024122e+06</td>\n",
       "      <td>227.964449</td>\n",
       "      <td>31.686988</td>\n",
       "      <td>-0.000134</td>\n",
       "      <td>-9.698442</td>\n",
       "      <td>50.216394</td>\n",
       "      <td>2.397493</td>\n",
       "      <td>...</td>\n",
       "      <td>0.144305</td>\n",
       "      <td>0.106178</td>\n",
       "      <td>0.002430</td>\n",
       "      <td>0.082713</td>\n",
       "      <td>0.103116</td>\n",
       "      <td>0.049325</td>\n",
       "      <td>0.003549</td>\n",
       "      <td>0.001822</td>\n",
       "      <td>0.0</td>\n",
       "      <td>0.011515</td>\n",
       "    </tr>\n",
       "  </tbody>\n",
       "</table>\n",
       "<p>5 rows × 223 columns</p>\n",
       "</div>"
      ],
      "text/plain": [
       "      SCSS_Tot          T_C   P_bar             h           s          v  \\\n",
       "0  1103.260544  1179.500000  1000.0 -1.180618e+06  264.233855  36.597737   \n",
       "1  1076.324181  1174.505814  1000.0 -1.182400e+06  263.004796  36.452923   \n",
       "2  1091.068822  1169.511628  1000.0 -1.151105e+06  254.976197  35.424947   \n",
       "3  1106.764752  1164.517442  1000.0 -1.084911e+06  240.910201  33.478914   \n",
       "4  1123.636117  1159.523256  1000.0 -1.024122e+06  227.964449  31.686988   \n",
       "\n",
       "       dvdp    logfO2   SiO2_Liq  TiO2_Liq  ...    Al_cat    Fe_cat    Mn_cat  \\\n",
       "0 -0.000216 -9.492504  50.376359  2.037972  ...  0.146193  0.094161  0.002000   \n",
       "1 -0.000177 -9.554844  50.354642  2.081251  ...  0.148732  0.095309  0.002057   \n",
       "2 -0.000142 -9.606483  50.318371  2.183586  ...  0.147302  0.098941  0.002177   \n",
       "3 -0.000138 -9.654309  50.272636  2.288569  ...  0.145833  0.102560  0.002302   \n",
       "4 -0.000134 -9.698442  50.216394  2.397493  ...  0.144305  0.106178  0.002430   \n",
       "\n",
       "     Mg_cat    Ca_cat    Na_cat     K_cat     P_cat  H_cat   Fe3_cat  \n",
       "0  0.092647  0.114037  0.045247  0.002953  0.001500    0.0  0.010448  \n",
       "1  0.089245  0.111936  0.046368  0.003036  0.001542    0.0  0.010492  \n",
       "2  0.087129  0.108819  0.047407  0.003203  0.001632    0.0  0.010811  \n",
       "3  0.084964  0.105871  0.048391  0.003373  0.001725    0.0  0.011151  \n",
       "4  0.082713  0.103116  0.049325  0.003549  0.001822    0.0  0.011515  \n",
       "\n",
       "[5 rows x 223 columns]"
      ]
     },
     "execution_count": 13,
     "metadata": {},
     "output_type": "execute_result"
    }
   ],
   "source": [
    "LiZhang22=ss.calculate_LiZhang2022_SCSS(df=MELTS, T_K=MELTS['T_C']+273.15, \n",
    "P_kbar=P/1000, \n",
    "H2O_Liq=MELTS['H2O_Liq'], Fe_FeNiCu_Sulf=0.6, Fe3Fet_Liq=MELTS['Fe3Fet_Liq'])\n",
    "LiZhang22.head()"
   ]
  },
  {
   "cell_type": "markdown",
   "id": "6cb41036-6563-48be-bc00-3a3314c10607",
   "metadata": {},
   "source": [
    "## Smythe sulfide saturation model"
   ]
  },
  {
   "cell_type": "code",
   "execution_count": 14,
   "id": "a7342125-5ddc-4c2b-992c-9b76cfa770ad",
   "metadata": {},
   "outputs": [
    {
     "name": "stdout",
     "output_type": "stream",
     "text": [
      "Using inputted Fe_FeNiCu_Sulf ratio for calculations.\n",
      "no non ideal SCSS as no Cu/CuFeNiCu\n"
     ]
    },
    {
     "data": {
      "text/html": [
       "<div>\n",
       "<style scoped>\n",
       "    .dataframe tbody tr th:only-of-type {\n",
       "        vertical-align: middle;\n",
       "    }\n",
       "\n",
       "    .dataframe tbody tr th {\n",
       "        vertical-align: top;\n",
       "    }\n",
       "\n",
       "    .dataframe thead th {\n",
       "        text-align: right;\n",
       "    }\n",
       "</style>\n",
       "<table border=\"1\" class=\"dataframe\">\n",
       "  <thead>\n",
       "    <tr style=\"text-align: right;\">\n",
       "      <th></th>\n",
       "      <th>SCSS2_ppm_ideal_Smythe2017</th>\n",
       "      <th>SCSS2_ppm_ideal_Smythe2017_1sigma</th>\n",
       "      <th>T_Input_K</th>\n",
       "      <th>P_Input_kbar</th>\n",
       "      <th>Fe_FeNiCu_Sulf</th>\n",
       "      <th>Fe3Fet_Liq_input</th>\n",
       "      <th>Si_wt_atom</th>\n",
       "      <th>Ti_wt_atom</th>\n",
       "      <th>Al_wt_atom</th>\n",
       "      <th>Mg_wt_atom</th>\n",
       "      <th>...</th>\n",
       "      <th>K2O_whitlockite1</th>\n",
       "      <th>P2O5_whitlockite1</th>\n",
       "      <th>H2O_whitlockite1</th>\n",
       "      <th>CO2_whitlockite1</th>\n",
       "      <th>Fe3Fet_whitlockite1</th>\n",
       "      <th>h_whitlockite1</th>\n",
       "      <th>mass_whitlockite1</th>\n",
       "      <th>v_whitlockite1</th>\n",
       "      <th>rho_whitlockite1</th>\n",
       "      <th>Fe_FeNiCu_Sulf_calc</th>\n",
       "    </tr>\n",
       "  </thead>\n",
       "  <tbody>\n",
       "    <tr>\n",
       "      <th>0</th>\n",
       "      <td>1418.170123</td>\n",
       "      <td>387.401214</td>\n",
       "      <td>1452.650000</td>\n",
       "      <td>1.0</td>\n",
       "      <td>0.65</td>\n",
       "      <td>0.099881</td>\n",
       "      <td>0.473365</td>\n",
       "      <td>0.014401</td>\n",
       "      <td>0.145286</td>\n",
       "      <td>0.092073</td>\n",
       "      <td>...</td>\n",
       "      <td>NaN</td>\n",
       "      <td>NaN</td>\n",
       "      <td>NaN</td>\n",
       "      <td>NaN</td>\n",
       "      <td>NaN</td>\n",
       "      <td>0.0</td>\n",
       "      <td>0.0</td>\n",
       "      <td>0.0</td>\n",
       "      <td>0.0</td>\n",
       "      <td>0.65</td>\n",
       "    </tr>\n",
       "    <tr>\n",
       "      <th>1</th>\n",
       "      <td>1405.142063</td>\n",
       "      <td>383.842342</td>\n",
       "      <td>1447.655814</td>\n",
       "      <td>1.0</td>\n",
       "      <td>0.65</td>\n",
       "      <td>0.099171</td>\n",
       "      <td>0.473432</td>\n",
       "      <td>0.014715</td>\n",
       "      <td>0.147783</td>\n",
       "      <td>0.088677</td>\n",
       "      <td>...</td>\n",
       "      <td>NaN</td>\n",
       "      <td>NaN</td>\n",
       "      <td>NaN</td>\n",
       "      <td>NaN</td>\n",
       "      <td>NaN</td>\n",
       "      <td>0.0</td>\n",
       "      <td>0.0</td>\n",
       "      <td>0.0</td>\n",
       "      <td>0.0</td>\n",
       "      <td>0.65</td>\n",
       "    </tr>\n",
       "    <tr>\n",
       "      <th>2</th>\n",
       "      <td>1456.052696</td>\n",
       "      <td>397.749588</td>\n",
       "      <td>1442.661628</td>\n",
       "      <td>1.0</td>\n",
       "      <td>0.65</td>\n",
       "      <td>0.098508</td>\n",
       "      <td>0.473789</td>\n",
       "      <td>0.015462</td>\n",
       "      <td>0.146308</td>\n",
       "      <td>0.086542</td>\n",
       "      <td>...</td>\n",
       "      <td>NaN</td>\n",
       "      <td>NaN</td>\n",
       "      <td>NaN</td>\n",
       "      <td>NaN</td>\n",
       "      <td>NaN</td>\n",
       "      <td>0.0</td>\n",
       "      <td>0.0</td>\n",
       "      <td>0.0</td>\n",
       "      <td>0.0</td>\n",
       "      <td>0.65</td>\n",
       "    </tr>\n",
       "    <tr>\n",
       "      <th>3</th>\n",
       "      <td>1513.243173</td>\n",
       "      <td>413.372297</td>\n",
       "      <td>1437.667442</td>\n",
       "      <td>1.0</td>\n",
       "      <td>0.65</td>\n",
       "      <td>0.098063</td>\n",
       "      <td>0.474076</td>\n",
       "      <td>0.016229</td>\n",
       "      <td>0.144793</td>\n",
       "      <td>0.084358</td>\n",
       "      <td>...</td>\n",
       "      <td>NaN</td>\n",
       "      <td>NaN</td>\n",
       "      <td>NaN</td>\n",
       "      <td>NaN</td>\n",
       "      <td>NaN</td>\n",
       "      <td>0.0</td>\n",
       "      <td>0.0</td>\n",
       "      <td>0.0</td>\n",
       "      <td>0.0</td>\n",
       "      <td>0.65</td>\n",
       "    </tr>\n",
       "    <tr>\n",
       "      <th>4</th>\n",
       "      <td>1577.653503</td>\n",
       "      <td>430.967253</td>\n",
       "      <td>1432.673256</td>\n",
       "      <td>1.0</td>\n",
       "      <td>0.65</td>\n",
       "      <td>0.097838</td>\n",
       "      <td>0.474289</td>\n",
       "      <td>0.017029</td>\n",
       "      <td>0.143219</td>\n",
       "      <td>0.082091</td>\n",
       "      <td>...</td>\n",
       "      <td>NaN</td>\n",
       "      <td>NaN</td>\n",
       "      <td>NaN</td>\n",
       "      <td>NaN</td>\n",
       "      <td>NaN</td>\n",
       "      <td>0.0</td>\n",
       "      <td>0.0</td>\n",
       "      <td>0.0</td>\n",
       "      <td>0.0</td>\n",
       "      <td>0.65</td>\n",
       "    </tr>\n",
       "  </tbody>\n",
       "</table>\n",
       "<p>5 rows × 228 columns</p>\n",
       "</div>"
      ],
      "text/plain": [
       "   SCSS2_ppm_ideal_Smythe2017  SCSS2_ppm_ideal_Smythe2017_1sigma    T_Input_K  \\\n",
       "0                 1418.170123                         387.401214  1452.650000   \n",
       "1                 1405.142063                         383.842342  1447.655814   \n",
       "2                 1456.052696                         397.749588  1442.661628   \n",
       "3                 1513.243173                         413.372297  1437.667442   \n",
       "4                 1577.653503                         430.967253  1432.673256   \n",
       "\n",
       "   P_Input_kbar  Fe_FeNiCu_Sulf  Fe3Fet_Liq_input  Si_wt_atom  Ti_wt_atom  \\\n",
       "0           1.0            0.65          0.099881    0.473365    0.014401   \n",
       "1           1.0            0.65          0.099171    0.473432    0.014715   \n",
       "2           1.0            0.65          0.098508    0.473789    0.015462   \n",
       "3           1.0            0.65          0.098063    0.474076    0.016229   \n",
       "4           1.0            0.65          0.097838    0.474289    0.017029   \n",
       "\n",
       "   Al_wt_atom  Mg_wt_atom  ...  K2O_whitlockite1  P2O5_whitlockite1  \\\n",
       "0    0.145286    0.092073  ...               NaN                NaN   \n",
       "1    0.147783    0.088677  ...               NaN                NaN   \n",
       "2    0.146308    0.086542  ...               NaN                NaN   \n",
       "3    0.144793    0.084358  ...               NaN                NaN   \n",
       "4    0.143219    0.082091  ...               NaN                NaN   \n",
       "\n",
       "   H2O_whitlockite1  CO2_whitlockite1  Fe3Fet_whitlockite1  h_whitlockite1  \\\n",
       "0               NaN               NaN                  NaN             0.0   \n",
       "1               NaN               NaN                  NaN             0.0   \n",
       "2               NaN               NaN                  NaN             0.0   \n",
       "3               NaN               NaN                  NaN             0.0   \n",
       "4               NaN               NaN                  NaN             0.0   \n",
       "\n",
       "   mass_whitlockite1  v_whitlockite1  rho_whitlockite1  Fe_FeNiCu_Sulf_calc  \n",
       "0                0.0             0.0               0.0                 0.65  \n",
       "1                0.0             0.0               0.0                 0.65  \n",
       "2                0.0             0.0               0.0                 0.65  \n",
       "3                0.0             0.0               0.0                 0.65  \n",
       "4                0.0             0.0               0.0                 0.65  \n",
       "\n",
       "[5 rows x 228 columns]"
      ]
     },
     "execution_count": 14,
     "metadata": {},
     "output_type": "execute_result"
    }
   ],
   "source": [
    "Smythe_CalcSulf=ss.calculate_S2017_SCSS(df=MELTS, \n",
    "T_K=MELTS['T_C']+273.15, \n",
    "P_kbar=P/1000, Fe_FeNiCu_Sulf=0.65,\n",
    "Fe3Fet_Liq=MELTS['Fe3Fet_Liq'])\n",
    "\n",
    "Smythe_CalcSulf.head()"
   ]
  },
  {
   "cell_type": "code",
   "execution_count": 15,
   "id": "0e921099-8edf-4866-a20f-f3d12a6ce811",
   "metadata": {},
   "outputs": [
    {
     "data": {
      "text/plain": [
       "Text(0, 0.5, 'SCSS (Smythe, ppm)')"
      ]
     },
     "execution_count": 15,
     "metadata": {},
     "output_type": "execute_result"
    },
    {
     "data": {
      "image/png": "[encoded data removed]",
      "text/plain": [
       "<Figure size 640x480 with 1 Axes>"
      ]
     },
     "metadata": {},
     "output_type": "display_data"
    }
   ],
   "source": [
    "plt.plot(MELTS['MgO_Liq'], Smythe_CalcSulf['SCSS2_ppm_ideal_Smythe2017'],\n",
    "         '-r')\n",
    "plt.xlabel('Liq MgO (wt%)')\n",
    "plt.ylabel('SCSS (Smythe, ppm)')"
   ]
  },
  {
   "cell_type": "code",
   "execution_count": 16,
   "id": "63059fc1",
   "metadata": {},
   "outputs": [
    {
     "data": {
      "text/plain": [
       "Text(0, 0.5, 'Liq FeO (wt%)')"
      ]
     },
     "execution_count": 16,
     "metadata": {},
     "output_type": "execute_result"
    },
    {
     "data": {
      "image/png": "[encoded data removed]",
      "text/plain": [
       "<Figure size 640x480 with 1 Axes>"
      ]
     },
     "metadata": {},
     "output_type": "display_data"
    }
   ],
   "source": [
    "plt.plot( MELTS['MgO_Liq'],MELTS['FeOt_Liq'],\n",
    "         '-r')\n",
    "plt.xlabel('Liq MgO (wt%)')\n",
    "plt.ylabel('Liq FeO (wt%)')"
   ]
  },
  {
   "cell_type": "code",
   "execution_count": 17,
   "id": "c7fd54af-4d57-4967-adf9-31ab632f1482",
   "metadata": {},
   "outputs": [
    {
     "data": {
      "text/plain": [
       "Text(0, 0.5, 'Liq FeO (wt%)')"
      ]
     },
     "execution_count": 17,
     "metadata": {},
     "output_type": "execute_result"
    },
    {
     "data": {
      "image/png": "[encoded data removed]",
      "text/plain": [
       "<Figure size 640x480 with 1 Axes>"
      ]
     },
     "metadata": {},
     "output_type": "display_data"
    }
   ],
   "source": [
    "plt.plot( MELTS['MgO_Liq'],MELTS['FeOt_Liq'],\n",
    "         '-r')\n",
    "plt.xlabel('Liq MgO (wt%)')\n",
    "plt.ylabel('Liq FeO (wt%)')"
   ]
  },
  {
   "cell_type": "markdown",
   "id": "e4d51d2d-e1df-4e5c-a982-c3c18900b99a",
   "metadata": {},
   "source": [
    "## Using Oneill"
   ]
  },
  {
   "cell_type": "code",
   "execution_count": 18,
   "id": "67503197-023b-4c02-8226-cfff3d56c941",
   "metadata": {},
   "outputs": [
    {
     "name": "stdout",
     "output_type": "stream",
     "text": [
      "Using inputted Fe_FeNiCu_Sulf ratio for calculations.\n"
     ]
    },
    {
     "data": {
      "text/html": [
       "<div>\n",
       "<style scoped>\n",
       "    .dataframe tbody tr th:only-of-type {\n",
       "        vertical-align: middle;\n",
       "    }\n",
       "\n",
       "    .dataframe tbody tr th {\n",
       "        vertical-align: top;\n",
       "    }\n",
       "\n",
       "    .dataframe thead th {\n",
       "        text-align: right;\n",
       "    }\n",
       "</style>\n",
       "<table border=\"1\" class=\"dataframe\">\n",
       "  <thead>\n",
       "    <tr style=\"text-align: right;\">\n",
       "      <th></th>\n",
       "      <th>SCSS2_ppm</th>\n",
       "      <th>LnS</th>\n",
       "      <th>Ln_a_FeO</th>\n",
       "      <th>Ln_a_FeS</th>\n",
       "      <th>DeltaG</th>\n",
       "      <th>LnCS2_calc</th>\n",
       "      <th>T_C</th>\n",
       "      <th>P_bar</th>\n",
       "      <th>h</th>\n",
       "      <th>s</th>\n",
       "      <th>...</th>\n",
       "      <th>K2O_whitlockite1</th>\n",
       "      <th>P2O5_whitlockite1</th>\n",
       "      <th>H2O_whitlockite1</th>\n",
       "      <th>CO2_whitlockite1</th>\n",
       "      <th>Fe3Fet_whitlockite1</th>\n",
       "      <th>h_whitlockite1</th>\n",
       "      <th>mass_whitlockite1</th>\n",
       "      <th>v_whitlockite1</th>\n",
       "      <th>rho_whitlockite1</th>\n",
       "      <th>Fe_FeNiCu_Sulf_calc</th>\n",
       "    </tr>\n",
       "  </thead>\n",
       "  <tbody>\n",
       "    <tr>\n",
       "      <th>0</th>\n",
       "      <td>1369.332818</td>\n",
       "      <td>7.222079</td>\n",
       "      <td>-2.088150</td>\n",
       "      <td>-0.514565</td>\n",
       "      <td>7.810509</td>\n",
       "      <td>-2.162014</td>\n",
       "      <td>1179.500000</td>\n",
       "      <td>1000.0</td>\n",
       "      <td>-1.180618e+06</td>\n",
       "      <td>264.233855</td>\n",
       "      <td>...</td>\n",
       "      <td>NaN</td>\n",
       "      <td>NaN</td>\n",
       "      <td>NaN</td>\n",
       "      <td>NaN</td>\n",
       "      <td>NaN</td>\n",
       "      <td>0.0</td>\n",
       "      <td>0.0</td>\n",
       "      <td>0.0</td>\n",
       "      <td>0.0</td>\n",
       "      <td>0.66</td>\n",
       "    </tr>\n",
       "    <tr>\n",
       "      <th>1</th>\n",
       "      <td>1345.154606</td>\n",
       "      <td>7.204264</td>\n",
       "      <td>-2.073015</td>\n",
       "      <td>-0.515840</td>\n",
       "      <td>7.846377</td>\n",
       "      <td>-2.199288</td>\n",
       "      <td>1174.505814</td>\n",
       "      <td>1000.0</td>\n",
       "      <td>-1.182400e+06</td>\n",
       "      <td>263.004796</td>\n",
       "      <td>...</td>\n",
       "      <td>NaN</td>\n",
       "      <td>NaN</td>\n",
       "      <td>NaN</td>\n",
       "      <td>NaN</td>\n",
       "      <td>NaN</td>\n",
       "      <td>0.0</td>\n",
       "      <td>0.0</td>\n",
       "      <td>0.0</td>\n",
       "      <td>0.0</td>\n",
       "      <td>0.66</td>\n",
       "    </tr>\n",
       "    <tr>\n",
       "      <th>2</th>\n",
       "      <td>1372.280817</td>\n",
       "      <td>7.224229</td>\n",
       "      <td>-2.043135</td>\n",
       "      <td>-0.519879</td>\n",
       "      <td>7.882506</td>\n",
       "      <td>-2.181533</td>\n",
       "      <td>1169.511628</td>\n",
       "      <td>1000.0</td>\n",
       "      <td>-1.151105e+06</td>\n",
       "      <td>254.976197</td>\n",
       "      <td>...</td>\n",
       "      <td>NaN</td>\n",
       "      <td>NaN</td>\n",
       "      <td>NaN</td>\n",
       "      <td>NaN</td>\n",
       "      <td>NaN</td>\n",
       "      <td>0.0</td>\n",
       "      <td>0.0</td>\n",
       "      <td>0.0</td>\n",
       "      <td>0.0</td>\n",
       "      <td>0.66</td>\n",
       "    </tr>\n",
       "    <tr>\n",
       "      <th>3</th>\n",
       "      <td>1401.183305</td>\n",
       "      <td>7.245072</td>\n",
       "      <td>-2.014732</td>\n",
       "      <td>-0.523922</td>\n",
       "      <td>7.918898</td>\n",
       "      <td>-2.164636</td>\n",
       "      <td>1164.517442</td>\n",
       "      <td>1000.0</td>\n",
       "      <td>-1.084911e+06</td>\n",
       "      <td>240.910201</td>\n",
       "      <td>...</td>\n",
       "      <td>NaN</td>\n",
       "      <td>NaN</td>\n",
       "      <td>NaN</td>\n",
       "      <td>NaN</td>\n",
       "      <td>NaN</td>\n",
       "      <td>0.0</td>\n",
       "      <td>0.0</td>\n",
       "      <td>0.0</td>\n",
       "      <td>0.0</td>\n",
       "      <td>0.66</td>\n",
       "    </tr>\n",
       "    <tr>\n",
       "      <th>4</th>\n",
       "      <td>1432.239603</td>\n",
       "      <td>7.266995</td>\n",
       "      <td>-1.987599</td>\n",
       "      <td>-0.527980</td>\n",
       "      <td>7.955557</td>\n",
       "      <td>-2.148181</td>\n",
       "      <td>1159.523256</td>\n",
       "      <td>1000.0</td>\n",
       "      <td>-1.024122e+06</td>\n",
       "      <td>227.964449</td>\n",
       "      <td>...</td>\n",
       "      <td>NaN</td>\n",
       "      <td>NaN</td>\n",
       "      <td>NaN</td>\n",
       "      <td>NaN</td>\n",
       "      <td>NaN</td>\n",
       "      <td>0.0</td>\n",
       "      <td>0.0</td>\n",
       "      <td>0.0</td>\n",
       "      <td>0.0</td>\n",
       "      <td>0.66</td>\n",
       "    </tr>\n",
       "  </tbody>\n",
       "</table>\n",
       "<p>5 rows × 194 columns</p>\n",
       "</div>"
      ],
      "text/plain": [
       "     SCSS2_ppm       LnS  Ln_a_FeO  Ln_a_FeS    DeltaG  LnCS2_calc  \\\n",
       "0  1369.332818  7.222079 -2.088150 -0.514565  7.810509   -2.162014   \n",
       "1  1345.154606  7.204264 -2.073015 -0.515840  7.846377   -2.199288   \n",
       "2  1372.280817  7.224229 -2.043135 -0.519879  7.882506   -2.181533   \n",
       "3  1401.183305  7.245072 -2.014732 -0.523922  7.918898   -2.164636   \n",
       "4  1432.239603  7.266995 -1.987599 -0.527980  7.955557   -2.148181   \n",
       "\n",
       "           T_C   P_bar             h           s  ...  K2O_whitlockite1  \\\n",
       "0  1179.500000  1000.0 -1.180618e+06  264.233855  ...               NaN   \n",
       "1  1174.505814  1000.0 -1.182400e+06  263.004796  ...               NaN   \n",
       "2  1169.511628  1000.0 -1.151105e+06  254.976197  ...               NaN   \n",
       "3  1164.517442  1000.0 -1.084911e+06  240.910201  ...               NaN   \n",
       "4  1159.523256  1000.0 -1.024122e+06  227.964449  ...               NaN   \n",
       "\n",
       "   P2O5_whitlockite1  H2O_whitlockite1  CO2_whitlockite1  Fe3Fet_whitlockite1  \\\n",
       "0                NaN               NaN               NaN                  NaN   \n",
       "1                NaN               NaN               NaN                  NaN   \n",
       "2                NaN               NaN               NaN                  NaN   \n",
       "3                NaN               NaN               NaN                  NaN   \n",
       "4                NaN               NaN               NaN                  NaN   \n",
       "\n",
       "   h_whitlockite1  mass_whitlockite1  v_whitlockite1  rho_whitlockite1  \\\n",
       "0             0.0                0.0             0.0               0.0   \n",
       "1             0.0                0.0             0.0               0.0   \n",
       "2             0.0                0.0             0.0               0.0   \n",
       "3             0.0                0.0             0.0               0.0   \n",
       "4             0.0                0.0             0.0               0.0   \n",
       "\n",
       "   Fe_FeNiCu_Sulf_calc  \n",
       "0                 0.66  \n",
       "1                 0.66  \n",
       "2                 0.66  \n",
       "3                 0.66  \n",
       "4                 0.66  \n",
       "\n",
       "[5 rows x 194 columns]"
      ]
     },
     "execution_count": 18,
     "metadata": {},
     "output_type": "execute_result"
    }
   ],
   "source": [
    "ONeill_MeasSulf=ss.calculate_O2021_SCSS(df=MELTS, T_K=MELTS['T_C']+273.15, \n",
    "P_kbar=P/1000,\n",
    "Fe_FeNiCu_Sulf=0.66,\n",
    "Fe3Fet_Liq=MELTS['Fe3Fet_Liq'])\n",
    "ONeill_MeasSulf.head()"
   ]
  }
 ],
 "metadata": {
  "kernelspec": {
   "display_name": "Python 3 (ipykernel)",
   "language": "python",
   "name": "python3"
  },
  "language_info": {
   "codemirror_mode": {
    "name": "ipython",
    "version": 3
   },
   "file_extension": ".py",
   "mimetype": "text/x-python",
   "name": "python",
   "nbconvert_exporter": "python",
   "pygments_lexer": "ipython3",
   "version": "3.11.5"
  }
 },
 "nbformat": 4,
 "nbformat_minor": 5
}
