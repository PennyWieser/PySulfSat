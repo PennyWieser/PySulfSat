{
 "cells": [
  {
   "cell_type": "markdown",
   "metadata": {
    "tags": []
   },
   "source": [
    "# Calculating sulfur and trace element evolution during mantle melting. \n",
    "- This notebook shows how to use the mantle melting model of Lee et al. (2012) adapted by Wieser et al. (2020) to model how S, Cu and other chalcophile or lithophile elements evolve during mantle melting\n",
    "- For more information on how the math works, we direct you towards the supporting information of Wieser et al (2020) - https://doi.org/10.1016/j.gca.2020.05.018 - Where the equations are typed out in detail"
   ]
  },
  {
   "cell_type": "markdown",
   "metadata": {},
   "source": [
    "## Loading libraries"
   ]
  },
  {
   "cell_type": "code",
   "execution_count": 1,
   "metadata": {},
   "outputs": [
    {
     "data": {
      "text/plain": [
       "'0.0.17'"
      ]
     },
     "execution_count": 1,
     "metadata": {},
     "output_type": "execute_result"
    }
   ],
   "source": [
    "import numpy as np\n",
    "import pandas as pd\n",
    "import matplotlib.pyplot as plt\n",
    "import PySulfSat as ss\n",
    "ss.__version__"
   ]
  },
  {
   "cell_type": "markdown",
   "metadata": {},
   "source": [
    "## Loading silicate modes and KDs\n",
    "- Here is the place to enter your modes for the silicate mineralogy and the KD values you want to use. "
   ]
  },
  {
   "cell_type": "code",
   "execution_count": 2,
   "metadata": {},
   "outputs": [],
   "source": [
    "Modes=pd.DataFrame(data={'ol': 0.6, 'opx': 0.2, \n",
    "       'cpx': 0.18, 'sp': 0.02, 'gt': 0}, index=[0])\n",
    "\n",
    "KDs_Cu=pd.DataFrame(data={'element': 'Cu',\n",
    "        'ol': 0.048, 'opx': 0.034, \n",
    "        'cpx': 0.043, 'sp': 0.223, \n",
    "        'gt': 0, 'sulf': 800}, index=[0])"
   ]
  },
  {
   "cell_type": "code",
   "execution_count": 3,
   "metadata": {},
   "outputs": [],
   "source": [
    "S_Sulf = 33*(10**4)\n",
    "df_Cu_300S=ss.Lee_Wieser_sulfide_melting(N=30, Modes=Modes,\n",
    "                        M_Max=0.2,\n",
    "                        KDs=KDs_Cu,\n",
    "                        S_Sulf=S_Sulf, elem_Per=30,\n",
    "                        S_Mantle=[300],\n",
    "                        S_Melt_SCSS_2_ppm=1000)"
   ]
  },
  {
   "cell_type": "markdown",
   "metadata": {},
   "source": [
    "## Example 1 - no change in silicate mineralogy\n",
    "- Because the K$_{D}$ of Cu in sulfide is so much higher than the K$_{D}$ in silicate minerals, the silicate mineralogy really doesnt matter much. For less strongly chalcophile elements, e.g. Pb, that wont be the case. In Example 2, we show how you can deal with the fact that silicate modes will change during melting\n",
    "- Here, we use 3000 melting steps, run the model from M=1 to M=0.2 (e.g. F from 0 to 0.8), assume sulfides in the mantle have 33 wt% S, and that there is 30 ppm of the element we want to model (Cu here) in the mantle. We assume the mantle initially has 200 ppm of S. \n",
    "- Finally, following Lee et al. (2012), we assume that the S content of the melt is fixed at 980 ppm (the SCSS calculated using ONeill and Mavrogenes 1998 'basalt' model)"
   ]
  },
  {
   "cell_type": "code",
   "execution_count": 4,
   "metadata": {},
   "outputs": [
    {
     "data": {
      "text/html": [
       "<div>\n",
       "<style scoped>\n",
       "    .dataframe tbody tr th:only-of-type {\n",
       "        vertical-align: middle;\n",
       "    }\n",
       "\n",
       "    .dataframe tbody tr th {\n",
       "        vertical-align: top;\n",
       "    }\n",
       "\n",
       "    .dataframe thead th {\n",
       "        text-align: right;\n",
       "    }\n",
       "</style>\n",
       "<table border=\"1\" class=\"dataframe\">\n",
       "  <thead>\n",
       "    <tr style=\"text-align: right;\">\n",
       "      <th></th>\n",
       "      <th>F</th>\n",
       "      <th>M</th>\n",
       "      <th>Cu_KD</th>\n",
       "      <th>Cu_Melt_Agg</th>\n",
       "      <th>Cu_Melt_Inst</th>\n",
       "      <th>Cu_Residue</th>\n",
       "      <th>S_Residue</th>\n",
       "      <th>S_Melt_Inst</th>\n",
       "      <th>S_Melt_Agg</th>\n",
       "      <th>S_Melt_input</th>\n",
       "      <th>XSulf</th>\n",
       "    </tr>\n",
       "  </thead>\n",
       "  <tbody>\n",
       "    <tr>\n",
       "      <th>0</th>\n",
       "      <td>0.00000</td>\n",
       "      <td>1.00000</td>\n",
       "      <td>0.532620</td>\n",
       "      <td>0.000000</td>\n",
       "      <td>0.000000</td>\n",
       "      <td>30.000000</td>\n",
       "      <td>200.000000</td>\n",
       "      <td>1000.0</td>\n",
       "      <td>1.484490e-311</td>\n",
       "      <td>1000.0</td>\n",
       "      <td>0.000606</td>\n",
       "    </tr>\n",
       "    <tr>\n",
       "      <th>1</th>\n",
       "      <td>0.00033</td>\n",
       "      <td>0.99967</td>\n",
       "      <td>0.531979</td>\n",
       "      <td>56.359888</td>\n",
       "      <td>56.359888</td>\n",
       "      <td>29.991295</td>\n",
       "      <td>199.735825</td>\n",
       "      <td>1000.0</td>\n",
       "      <td>1.000000e+03</td>\n",
       "      <td>1000.0</td>\n",
       "      <td>0.000605</td>\n",
       "    </tr>\n",
       "    <tr>\n",
       "      <th>2</th>\n",
       "      <td>0.00066</td>\n",
       "      <td>0.99934</td>\n",
       "      <td>0.531338</td>\n",
       "      <td>56.385674</td>\n",
       "      <td>56.411459</td>\n",
       "      <td>29.982568</td>\n",
       "      <td>199.471475</td>\n",
       "      <td>1000.0</td>\n",
       "      <td>1.000000e+03</td>\n",
       "      <td>1000.0</td>\n",
       "      <td>0.000604</td>\n",
       "    </tr>\n",
       "    <tr>\n",
       "      <th>3</th>\n",
       "      <td>0.00099</td>\n",
       "      <td>0.99901</td>\n",
       "      <td>0.530697</td>\n",
       "      <td>56.411501</td>\n",
       "      <td>56.463156</td>\n",
       "      <td>29.973818</td>\n",
       "      <td>199.206951</td>\n",
       "      <td>1000.0</td>\n",
       "      <td>1.000000e+03</td>\n",
       "      <td>1000.0</td>\n",
       "      <td>0.000604</td>\n",
       "    </tr>\n",
       "    <tr>\n",
       "      <th>4</th>\n",
       "      <td>0.00132</td>\n",
       "      <td>0.99868</td>\n",
       "      <td>0.530055</td>\n",
       "      <td>56.437371</td>\n",
       "      <td>56.514980</td>\n",
       "      <td>29.965045</td>\n",
       "      <td>198.942251</td>\n",
       "      <td>1000.0</td>\n",
       "      <td>1.000000e+03</td>\n",
       "      <td>1000.0</td>\n",
       "      <td>0.000603</td>\n",
       "    </tr>\n",
       "  </tbody>\n",
       "</table>\n",
       "</div>"
      ],
      "text/plain": [
       "         F        M     Cu_KD  Cu_Melt_Agg  Cu_Melt_Inst  Cu_Residue  \\\n",
       "0  0.00000  1.00000  0.532620     0.000000      0.000000   30.000000   \n",
       "1  0.00033  0.99967  0.531979    56.359888     56.359888   29.991295   \n",
       "2  0.00066  0.99934  0.531338    56.385674     56.411459   29.982568   \n",
       "3  0.00099  0.99901  0.530697    56.411501     56.463156   29.973818   \n",
       "4  0.00132  0.99868  0.530055    56.437371     56.514980   29.965045   \n",
       "\n",
       "    S_Residue  S_Melt_Inst     S_Melt_Agg  S_Melt_input     XSulf  \n",
       "0  200.000000       1000.0  1.484490e-311        1000.0  0.000606  \n",
       "1  199.735825       1000.0   1.000000e+03        1000.0  0.000605  \n",
       "2  199.471475       1000.0   1.000000e+03        1000.0  0.000604  \n",
       "3  199.206951       1000.0   1.000000e+03        1000.0  0.000604  \n",
       "4  198.942251       1000.0   1.000000e+03        1000.0  0.000603  "
      ]
     },
     "execution_count": 4,
     "metadata": {},
     "output_type": "execute_result"
    }
   ],
   "source": [
    "S_Sulf = 33*(10**4)\n",
    "df_Cu_200S=ss.Lee_Wieser_sulfide_melting(Modes=Modes, KDs=KDs_Cu,\n",
    "                        N=3000, S_Mantle=200,\n",
    "                        S_Sulf=S_Sulf, S_Melt_SCSS_2_ppm=1000,\n",
    "                        elem_Per=30, Prop_S6=0)\n",
    "df_Cu_200S.head()"
   ]
  },
  {
   "cell_type": "markdown",
   "metadata": {},
   "source": [
    "### Example 1b: We can do the same for any other element, we just need a new set of K$_{D}$s"
   ]
  },
  {
   "cell_type": "code",
   "execution_count": 5,
   "metadata": {},
   "outputs": [
    {
     "data": {
      "text/html": [
       "<div>\n",
       "<style scoped>\n",
       "    .dataframe tbody tr th:only-of-type {\n",
       "        vertical-align: middle;\n",
       "    }\n",
       "\n",
       "    .dataframe tbody tr th {\n",
       "        vertical-align: top;\n",
       "    }\n",
       "\n",
       "    .dataframe thead th {\n",
       "        text-align: right;\n",
       "    }\n",
       "</style>\n",
       "<table border=\"1\" class=\"dataframe\">\n",
       "  <thead>\n",
       "    <tr style=\"text-align: right;\">\n",
       "      <th></th>\n",
       "      <th>F</th>\n",
       "      <th>M</th>\n",
       "      <th>Ba_KD</th>\n",
       "      <th>Ba_Melt_Agg</th>\n",
       "      <th>Ba_Melt_Inst</th>\n",
       "      <th>Ba_Residue</th>\n",
       "      <th>S_Residue</th>\n",
       "      <th>S_Melt_Inst</th>\n",
       "      <th>S_Melt_Agg</th>\n",
       "      <th>S_Melt_input</th>\n",
       "      <th>XSulf</th>\n",
       "    </tr>\n",
       "  </thead>\n",
       "  <tbody>\n",
       "    <tr>\n",
       "      <th>0</th>\n",
       "      <td>0.00000</td>\n",
       "      <td>1.00000</td>\n",
       "      <td>0.004533</td>\n",
       "      <td>0.000000</td>\n",
       "      <td>0.000000</td>\n",
       "      <td>6.850000</td>\n",
       "      <td>200.000000</td>\n",
       "      <td>1000.0</td>\n",
       "      <td>1.485229e-311</td>\n",
       "      <td>1000.0</td>\n",
       "      <td>0.000606</td>\n",
       "    </tr>\n",
       "    <tr>\n",
       "      <th>1</th>\n",
       "      <td>0.00033</td>\n",
       "      <td>0.99967</td>\n",
       "      <td>0.004533</td>\n",
       "      <td>1408.865815</td>\n",
       "      <td>1408.865815</td>\n",
       "      <td>6.387028</td>\n",
       "      <td>199.735825</td>\n",
       "      <td>1000.0</td>\n",
       "      <td>1.000000e+03</td>\n",
       "      <td>1000.0</td>\n",
       "      <td>0.000605</td>\n",
       "    </tr>\n",
       "    <tr>\n",
       "      <th>2</th>\n",
       "      <td>0.00066</td>\n",
       "      <td>0.99934</td>\n",
       "      <td>0.004533</td>\n",
       "      <td>1361.240016</td>\n",
       "      <td>1313.614218</td>\n",
       "      <td>5.955214</td>\n",
       "      <td>199.471475</td>\n",
       "      <td>1000.0</td>\n",
       "      <td>1.000000e+03</td>\n",
       "      <td>1000.0</td>\n",
       "      <td>0.000604</td>\n",
       "    </tr>\n",
       "    <tr>\n",
       "      <th>3</th>\n",
       "      <td>0.00099</td>\n",
       "      <td>0.99901</td>\n",
       "      <td>0.004533</td>\n",
       "      <td>1315.751735</td>\n",
       "      <td>1224.775173</td>\n",
       "      <td>5.552470</td>\n",
       "      <td>199.206951</td>\n",
       "      <td>1000.0</td>\n",
       "      <td>1.000000e+03</td>\n",
       "      <td>1000.0</td>\n",
       "      <td>0.000604</td>\n",
       "    </tr>\n",
       "    <tr>\n",
       "      <th>4</th>\n",
       "      <td>0.00132</td>\n",
       "      <td>0.99868</td>\n",
       "      <td>0.004533</td>\n",
       "      <td>1272.293504</td>\n",
       "      <td>1141.918809</td>\n",
       "      <td>5.176848</td>\n",
       "      <td>198.942251</td>\n",
       "      <td>1000.0</td>\n",
       "      <td>1.000000e+03</td>\n",
       "      <td>1000.0</td>\n",
       "      <td>0.000603</td>\n",
       "    </tr>\n",
       "  </tbody>\n",
       "</table>\n",
       "</div>"
      ],
      "text/plain": [
       "         F        M     Ba_KD  Ba_Melt_Agg  Ba_Melt_Inst  Ba_Residue  \\\n",
       "0  0.00000  1.00000  0.004533     0.000000      0.000000    6.850000   \n",
       "1  0.00033  0.99967  0.004533  1408.865815   1408.865815    6.387028   \n",
       "2  0.00066  0.99934  0.004533  1361.240016   1313.614218    5.955214   \n",
       "3  0.00099  0.99901  0.004533  1315.751735   1224.775173    5.552470   \n",
       "4  0.00132  0.99868  0.004533  1272.293504   1141.918809    5.176848   \n",
       "\n",
       "    S_Residue  S_Melt_Inst     S_Melt_Agg  S_Melt_input     XSulf  \n",
       "0  200.000000       1000.0  1.485229e-311        1000.0  0.000606  \n",
       "1  199.735825       1000.0   1.000000e+03        1000.0  0.000605  \n",
       "2  199.471475       1000.0   1.000000e+03        1000.0  0.000604  \n",
       "3  199.206951       1000.0   1.000000e+03        1000.0  0.000604  \n",
       "4  198.942251       1000.0   1.000000e+03        1000.0  0.000603  "
      ]
     },
     "execution_count": 5,
     "metadata": {},
     "output_type": "execute_result"
    }
   ],
   "source": [
    "KDs_Ba=pd.DataFrame(data={'element': 'Ba',\n",
    "'ol': 0.000005, 'opx': 0.000006, \n",
    "'cpx': 0.0004, 'sp': 0.223, 'gt': 0.00007, 'sulf': 0 }, index=[0])\n",
    "\n",
    "df_Ba_200S=ss.Lee_Wieser_sulfide_melting(N=3000, Modes=Modes,\n",
    "                        KDs=KDs_Ba,\n",
    "                        S_Sulf=S_Sulf, elem_Per=6.85,\n",
    "                        S_Mantle=200,\n",
    "                        S_Melt_SCSS_2_ppm=1000,\n",
    "                         Prop_S6=0)\n",
    "df_Ba_200S.head()"
   ]
  },
  {
   "cell_type": "markdown",
   "metadata": {},
   "source": [
    "### Example 1c - Different initial S contents"
   ]
  },
  {
   "cell_type": "code",
   "execution_count": 6,
   "metadata": {},
   "outputs": [],
   "source": [
    "\n",
    "df_Cu_100S=ss.Lee_Wieser_sulfide_melting(N=3000, Modes=Modes,\n",
    "                        M_Max=0.2,\n",
    "                        KDs=KDs_Cu,\n",
    "                        S_Sulf=S_Sulf, elem_Per=30,\n",
    "                        S_Mantle=100,\n",
    "                        S_Melt_SCSS_2_ppm=1000,\n",
    "                         Prop_S6=0)\n",
    "\n",
    "df_Cu_300S=ss.Lee_Wieser_sulfide_melting(N=3000, Modes=Modes,\n",
    "                        M_Max=0.2,\n",
    "                        KDs=KDs_Cu,\n",
    "                        S_Sulf=S_Sulf, elem_Per=30,\n",
    "                        S_Mantle=300,\n",
    "                        S_Melt_SCSS_2_ppm=1000)"
   ]
  },
  {
   "cell_type": "markdown",
   "metadata": {
    "tags": []
   },
   "source": [
    "### Now lets plot to see how we expect Cu vs. Ba to evolve for different mantle S contents\n",
    "- Following Wieser et al. (2020)"
   ]
  },
  {
   "cell_type": "code",
   "execution_count": 7,
   "metadata": {},
   "outputs": [
    {
     "data": {
      "image/png": "[encoded data removed]",
      "text/plain": [
       "<Figure size 1000x400 with 2 Axes>"
      ]
     },
     "metadata": {},
     "output_type": "display_data"
    }
   ],
   "source": [
    "fig, ((ax1, ax2)) = plt.subplots(1, 2, figsize=(10,4), sharex=True)\n",
    "# 100 ppm\n",
    "ax1.plot(df_Cu_100S['F'], \n",
    "         df_Cu_100S['Cu_Melt_Agg'],\n",
    "        '-',color='m', ms=10, label='Cu, S=100 ppm')\n",
    "# Lets add a cross to show the point at which sulfide is exhausted\n",
    "sulf_out_100=np.take(np.where(df_Cu_100S['S_Residue']==0), 0)\n",
    "ax1.plot(df_Cu_100S['F'].loc[sulf_out_100], \n",
    "         df_Cu_100S['Cu_Melt_Agg'].loc[sulf_out_100],\n",
    "        '*k', ms=10)\n",
    "\n",
    "# 200 ppm\n",
    "ax1.plot(df_Cu_200S['F'], \n",
    "         df_Cu_200S['Cu_Melt_Agg'],\n",
    "        '--', color='m', ms=10, label='Cu, S=200 ppm')\n",
    "# Lets add a cross to show the point at which sulfide is exhausted\n",
    "sulf_out_200=np.take(np.where(df_Cu_200S['S_Residue']==0), 0)\n",
    "ax1.plot(df_Cu_200S['F'].loc[sulf_out_200], \n",
    "         df_Cu_200S['Cu_Melt_Agg'].loc[sulf_out_200],\n",
    "        '*k', ms=10)\n",
    "\n",
    "\n",
    "# 300pm \n",
    "ax1.plot(df_Cu_300S['F'], \n",
    "         df_Cu_300S['Cu_Melt_Agg'],\n",
    "        ':', color='m',ms=10, label='Cu, S=300 ppm')\n",
    "# Lets add a cross to show the point at which sulfide is exhausted\n",
    "sulf_out_300=np.take(np.where(df_Cu_300S['S_Residue']==0), 0)\n",
    "ax1.plot(df_Cu_300S['F'].loc[sulf_out_300], \n",
    "         df_Cu_300S['Cu_Melt_Agg'].loc[sulf_out_300],\n",
    "        '*k', ms=10, label='Sulf out')\n",
    "\n",
    "ax1.plot(df_Ba_200S['F'], \n",
    "         df_Ba_200S['Ba_Melt_Agg'],\n",
    "        '-', color='k', ms=10, label='Ba, S=200 ppm')\n",
    "\n",
    "ax1.set_xlabel('F (degree of melting)')\n",
    "ax1.set_ylabel('Conc in Aggregated melt (ppm)')\n",
    "ax1.set_xlim([0, 0.4])\n",
    "ax1.set_ylim([0, 400])\n",
    "\n",
    "# Show S left in source\n",
    "ax2.plot(df_Cu_300S['F'],\n",
    "         df_Cu_300S['S_Residue'],\n",
    "':', color='m', label='Cu, 300ppm')\n",
    "ax2.plot(df_Cu_100S['F'],\n",
    "         df_Cu_100S['S_Residue'],\n",
    "'-', color='m', label='Cu, 100ppm')\n",
    "ax2.plot(df_Cu_200S['F'],\n",
    "         df_Cu_200S['S_Residue'],\n",
    "'--', color='m', label='Cu, 200ppm')\n",
    "ax2.set_xlabel('F (degree of melting)')\n",
    "ax2.set_ylabel('S left in Residue (ppm)')\n",
    "ax1.legend()\n",
    "fig.savefig('Cu_Ba_behavoir.png', dpi=300)"
   ]
  },
  {
   "cell_type": "code",
   "execution_count": 8,
   "metadata": {},
   "outputs": [],
   "source": [
    "df_Cu_300S=ss.Lee_Wieser_sulfide_melting(N=30, Modes=Modes,\n",
    "                        M_Max=0.2,\n",
    "                        KDs=KDs_Cu,\n",
    "                        S_Sulf=S_Sulf, elem_Per=30,\n",
    "                        S_Mantle=300,\n",
    "                        S_Melt_SCSS_2_ppm=1000)"
   ]
  },
  {
   "cell_type": "markdown",
   "metadata": {},
   "source": [
    "## Example 2: Changing Silicate proportions\n",
    "- Here, we load in a changing silicate mineral mineralogy. This may be an output from Thermocalc, or some empirical \n",
    "calculation you have for your system"
   ]
  },
  {
   "cell_type": "code",
   "execution_count": 9,
   "metadata": {},
   "outputs": [
    {
     "data": {
      "text/html": [
       "<div>\n",
       "<style scoped>\n",
       "    .dataframe tbody tr th:only-of-type {\n",
       "        vertical-align: middle;\n",
       "    }\n",
       "\n",
       "    .dataframe tbody tr th {\n",
       "        vertical-align: top;\n",
       "    }\n",
       "\n",
       "    .dataframe thead th {\n",
       "        text-align: right;\n",
       "    }\n",
       "</style>\n",
       "<table border=\"1\" class=\"dataframe\">\n",
       "  <thead>\n",
       "    <tr style=\"text-align: right;\">\n",
       "      <th></th>\n",
       "      <th>cumulative F melt</th>\n",
       "      <th>mass of peridotite residue</th>\n",
       "      <th>Mass of peridotite Penny's way</th>\n",
       "      <th>ol_i</th>\n",
       "      <th>opx_i</th>\n",
       "      <th>cpx_i</th>\n",
       "      <th>sp_i</th>\n",
       "      <th>Unnamed: 7</th>\n",
       "      <th>ol</th>\n",
       "      <th>opx</th>\n",
       "      <th>...</th>\n",
       "      <th>S ppm solubility</th>\n",
       "      <th>S ppm (solubility)</th>\n",
       "      <th>Cu ppm instant</th>\n",
       "      <th>Cu ppm aggregate</th>\n",
       "      <th>Unnamed: 33</th>\n",
       "      <th>lnS</th>\n",
       "      <th>Unnamed: 35</th>\n",
       "      <th>Unnamed: 36</th>\n",
       "      <th>Unnamed: 37</th>\n",
       "      <th>TiO2 wt. % aggregate melt</th>\n",
       "    </tr>\n",
       "  </thead>\n",
       "  <tbody>\n",
       "    <tr>\n",
       "      <th>0</th>\n",
       "      <td>0.0000</td>\n",
       "      <td>1.0000</td>\n",
       "      <td>-0.000501</td>\n",
       "      <td>0.6000</td>\n",
       "      <td>0.2</td>\n",
       "      <td>0.1800</td>\n",
       "      <td>0.02</td>\n",
       "      <td>1.0</td>\n",
       "      <td>0.599670</td>\n",
       "      <td>0.199890</td>\n",
       "      <td>...</td>\n",
       "      <td>980.787209</td>\n",
       "      <td>980.787209</td>\n",
       "      <td>NaN</td>\n",
       "      <td>NaN</td>\n",
       "      <td>NaN</td>\n",
       "      <td>NaN</td>\n",
       "      <td>NaN</td>\n",
       "      <td>NaN</td>\n",
       "      <td>NaN</td>\n",
       "      <td>NaN</td>\n",
       "    </tr>\n",
       "    <tr>\n",
       "      <th>1</th>\n",
       "      <td>0.0005</td>\n",
       "      <td>0.9995</td>\n",
       "      <td>-0.000501</td>\n",
       "      <td>0.6005</td>\n",
       "      <td>0.2</td>\n",
       "      <td>0.1795</td>\n",
       "      <td>0.02</td>\n",
       "      <td>1.0</td>\n",
       "      <td>0.600170</td>\n",
       "      <td>0.199890</td>\n",
       "      <td>...</td>\n",
       "      <td>980.787209</td>\n",
       "      <td>980.787209</td>\n",
       "      <td>61.471598</td>\n",
       "      <td>61.471598</td>\n",
       "      <td>NaN</td>\n",
       "      <td>6.697206</td>\n",
       "      <td>810.138903</td>\n",
       "      <td>NaN</td>\n",
       "      <td>0.0005</td>\n",
       "      <td>2.142514</td>\n",
       "    </tr>\n",
       "    <tr>\n",
       "      <th>2</th>\n",
       "      <td>0.0010</td>\n",
       "      <td>0.9990</td>\n",
       "      <td>-0.000501</td>\n",
       "      <td>0.6010</td>\n",
       "      <td>0.2</td>\n",
       "      <td>0.1790</td>\n",
       "      <td>0.02</td>\n",
       "      <td>1.0</td>\n",
       "      <td>0.600671</td>\n",
       "      <td>0.199890</td>\n",
       "      <td>...</td>\n",
       "      <td>980.787209</td>\n",
       "      <td>980.787209</td>\n",
       "      <td>61.547315</td>\n",
       "      <td>61.509457</td>\n",
       "      <td>NaN</td>\n",
       "      <td>6.697125</td>\n",
       "      <td>810.073475</td>\n",
       "      <td>NaN</td>\n",
       "      <td>0.0010</td>\n",
       "      <td>2.132959</td>\n",
       "    </tr>\n",
       "    <tr>\n",
       "      <th>3</th>\n",
       "      <td>0.0015</td>\n",
       "      <td>0.9985</td>\n",
       "      <td>-0.000501</td>\n",
       "      <td>0.6015</td>\n",
       "      <td>0.2</td>\n",
       "      <td>0.1785</td>\n",
       "      <td>0.02</td>\n",
       "      <td>1.0</td>\n",
       "      <td>0.601171</td>\n",
       "      <td>0.199891</td>\n",
       "      <td>...</td>\n",
       "      <td>980.787209</td>\n",
       "      <td>980.787209</td>\n",
       "      <td>61.623298</td>\n",
       "      <td>61.547404</td>\n",
       "      <td>NaN</td>\n",
       "      <td>6.697044</td>\n",
       "      <td>810.007822</td>\n",
       "      <td>NaN</td>\n",
       "      <td>0.0015</td>\n",
       "      <td>2.123488</td>\n",
       "    </tr>\n",
       "    <tr>\n",
       "      <th>4</th>\n",
       "      <td>0.0020</td>\n",
       "      <td>0.9980</td>\n",
       "      <td>-0.000501</td>\n",
       "      <td>0.6020</td>\n",
       "      <td>0.2</td>\n",
       "      <td>0.1780</td>\n",
       "      <td>0.02</td>\n",
       "      <td>1.0</td>\n",
       "      <td>0.601671</td>\n",
       "      <td>0.199891</td>\n",
       "      <td>...</td>\n",
       "      <td>980.787209</td>\n",
       "      <td>980.787209</td>\n",
       "      <td>61.699548</td>\n",
       "      <td>61.585440</td>\n",
       "      <td>NaN</td>\n",
       "      <td>6.696963</td>\n",
       "      <td>809.941945</td>\n",
       "      <td>NaN</td>\n",
       "      <td>0.0020</td>\n",
       "      <td>2.114102</td>\n",
       "    </tr>\n",
       "  </tbody>\n",
       "</table>\n",
       "<p>5 rows × 39 columns</p>\n",
       "</div>"
      ],
      "text/plain": [
       "   cumulative F melt  mass of peridotite residue  \\\n",
       "0             0.0000                      1.0000   \n",
       "1             0.0005                      0.9995   \n",
       "2             0.0010                      0.9990   \n",
       "3             0.0015                      0.9985   \n",
       "4             0.0020                      0.9980   \n",
       "\n",
       "   Mass of peridotite Penny's way    ol_i  opx_i   cpx_i  sp_i  Unnamed: 7  \\\n",
       "0                       -0.000501  0.6000    0.2  0.1800  0.02         1.0   \n",
       "1                       -0.000501  0.6005    0.2  0.1795  0.02         1.0   \n",
       "2                       -0.000501  0.6010    0.2  0.1790  0.02         1.0   \n",
       "3                       -0.000501  0.6015    0.2  0.1785  0.02         1.0   \n",
       "4                       -0.000501  0.6020    0.2  0.1780  0.02         1.0   \n",
       "\n",
       "         ol       opx  ...  S ppm solubility  S ppm (solubility)  \\\n",
       "0  0.599670  0.199890  ...        980.787209          980.787209   \n",
       "1  0.600170  0.199890  ...        980.787209          980.787209   \n",
       "2  0.600671  0.199890  ...        980.787209          980.787209   \n",
       "3  0.601171  0.199891  ...        980.787209          980.787209   \n",
       "4  0.601671  0.199891  ...        980.787209          980.787209   \n",
       "\n",
       "   Cu ppm instant  Cu ppm aggregate  Unnamed: 33       lnS  Unnamed: 35  \\\n",
       "0             NaN               NaN          NaN       NaN          NaN   \n",
       "1       61.471598         61.471598          NaN  6.697206   810.138903   \n",
       "2       61.547315         61.509457          NaN  6.697125   810.073475   \n",
       "3       61.623298         61.547404          NaN  6.697044   810.007822   \n",
       "4       61.699548         61.585440          NaN  6.696963   809.941945   \n",
       "\n",
       "   Unnamed: 36  Unnamed: 37  TiO2 wt. % aggregate melt  \n",
       "0          NaN          NaN                        NaN  \n",
       "1          NaN       0.0005                   2.142514  \n",
       "2          NaN       0.0010                   2.132959  \n",
       "3          NaN       0.0015                   2.123488  \n",
       "4          NaN       0.0020                   2.114102  \n",
       "\n",
       "[5 rows x 39 columns]"
      ]
     },
     "execution_count": 9,
     "metadata": {},
     "output_type": "execute_result"
    }
   ],
   "source": [
    "Lee_df_Sil=pd.read_excel('Lee_Supporting_Info_Melting.xlsx',\n",
    "                     sheet_name='Lee_tiny_step_ChangingSil')\n",
    "Lee_df_Sil.head()"
   ]
  },
  {
   "cell_type": "markdown",
   "metadata": {},
   "source": [
    "- Now arrange your columns into a dataframe. Here, the modes are labelled in columns ol_i etc. "
   ]
  },
  {
   "cell_type": "code",
   "execution_count": 10,
   "metadata": {},
   "outputs": [],
   "source": [
    "Modes2=pd.DataFrame(data={'ol': Lee_df_Sil['ol_i'],\n",
    "                        'cpx': Lee_df_Sil['cpx_i'],\n",
    "                        'opx': Lee_df_Sil['opx_i'],\n",
    "                        'sp': Lee_df_Sil['sp_i'],\n",
    "                        'gt': Lee_df_Sil['opx_i']*0})"
   ]
  },
  {
   "cell_type": "code",
   "execution_count": 11,
   "metadata": {},
   "outputs": [
    {
     "data": {
      "text/plain": [
       "1296"
      ]
     },
     "execution_count": 11,
     "metadata": {},
     "output_type": "execute_result"
    }
   ],
   "source": [
    "len(Modes2)"
   ]
  },
  {
   "cell_type": "code",
   "execution_count": 12,
   "metadata": {},
   "outputs": [
    {
     "name": "stderr",
     "output_type": "stream",
     "text": [
      "g:\\my drive\\berkeley_new\\pysulfsat\\pysulfsat_structure\\src\\PySulfSat\\mantle_melting.py:78: UserWarning: You have inputted a dataframe of silicate modes that doesnt match the number of steps you asked for. We are changing the number of steps to match the length of your dataframe\n",
      "  w.warn('You have inputted a dataframe of silicate modes that doesnt match the number of steps you asked for. We are changing the number of steps to match the length of your dataframe')\n"
     ]
    }
   ],
   "source": [
    "df_Cu_200S_changeSi=ss.Lee_Wieser_sulfide_melting(N=3000, Modes=Modes2,\n",
    "                        M_Max=0.01,\n",
    "                        KDs=KDs_Cu,\n",
    "                        S_Sulf=S_Sulf, elem_Per=30,\n",
    "                        S_Mantle=200,\n",
    "                        S_Melt_SCSS_2_ppm=1000,\n",
    "                         Prop_S6=0)\n",
    "\n",
    "df_Ba_200S_changeSi=ss.Lee_Wieser_sulfide_melting(N=3000, Modes=Modes2,\n",
    "                        M_Max=0.01,\n",
    "                        KDs=KDs_Ba,\n",
    "                        S_Sulf=S_Sulf, elem_Per=6.85,\n",
    "                        S_Mantle=200,\n",
    "                        S_Melt_SCSS_2_ppm=1000,\n",
    "                         Prop_S6=0)"
   ]
  },
  {
   "cell_type": "markdown",
   "metadata": {},
   "source": [
    "## and then plot whatever you want!"
   ]
  },
  {
   "cell_type": "code",
   "execution_count": null,
   "metadata": {},
   "outputs": [],
   "source": []
  }
 ],
 "metadata": {
  "kernelspec": {
   "display_name": "Python 3 (ipykernel)",
   "language": "python",
   "name": "python3"
  },
  "language_info": {
   "codemirror_mode": {
    "name": "ipython",
    "version": 3
   },
   "file_extension": ".py",
   "mimetype": "text/x-python",
   "name": "python",
   "nbconvert_exporter": "python",
   "pygments_lexer": "ipython3",
   "version": "3.9.13"
  },
  "toc": {
   "base_numbering": 1,
   "nav_menu": {},
   "number_sections": true,
   "sideBar": true,
   "skip_h1_title": false,
   "title_cell": "Table of Contents",
   "title_sidebar": "Contents",
   "toc_cell": true,
   "toc_position": {},
   "toc_section_display": true,
   "toc_window_display": true
  },
  "varInspector": {
   "cols": {
    "lenName": 16,
    "lenType": 16,
    "lenVar": 40
   },
   "kernels_config": {
    "python": {
     "delete_cmd_postfix": "",
     "delete_cmd_prefix": "del ",
     "library": "var_list.py",
     "varRefreshCmd": "print(var_dic_list())"
    },
    "r": {
     "delete_cmd_postfix": ") ",
     "delete_cmd_prefix": "rm(",
     "library": "var_list.r",
     "varRefreshCmd": "cat(var_dic_list()) "
    }
   },
   "position": {
    "height": "572.5183715820312px",
    "left": "1345.481689453125px",
    "right": "20px",
    "top": "66.99999237060547px",
    "width": "326.6360168457031px"
   },
   "types_to_exclude": [
    "module",
    "function",
    "builtin_function_or_method",
    "instance",
    "_Feature"
   ],
   "window_display": false
  }
 },
 "nbformat": 4,
 "nbformat_minor": 4
}
