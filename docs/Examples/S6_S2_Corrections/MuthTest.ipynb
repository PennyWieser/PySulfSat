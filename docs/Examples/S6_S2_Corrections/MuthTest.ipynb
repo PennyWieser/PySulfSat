{
 "cells": [
  {
   "cell_type": "markdown",
   "id": "7724c24e-7b84-47f3-ba97-e68cc4d039d4",
   "metadata": {},
   "source": [
    "# Comparing calculated S6/ST to measured (Muth and Wallace, 2021)\n",
    "- This notebook compares measured S6/ST values to those measured using XANES for Jugo, Nash and Oneill-Mavrogenes 2022"
   ]
  },
  {
   "cell_type": "code",
   "execution_count": 1,
   "id": "6bdc62aa-7433-42bb-8341-f86299876ac6",
   "metadata": {},
   "outputs": [
    {
     "data": {
      "text/plain": [
       "'0.0.16'"
      ]
     },
     "execution_count": 1,
     "metadata": {},
     "output_type": "execute_result"
    }
   ],
   "source": [
    "#!pip install PySulfSat --upgrade\n",
    "import numpy as np\n",
    "import pandas as pd\n",
    "import matplotlib.pyplot as plt\n",
    "import PySulfSat as ss\n",
    "pd.options.display.max_columns = None\n",
    "ss.__version__"
   ]
  },
  {
   "cell_type": "markdown",
   "id": "2de9e474-6b3d-4bc7-befc-41ba9b46f827",
   "metadata": {},
   "source": [
    "## Load data (measured MI comps)"
   ]
  },
  {
   "cell_type": "code",
   "execution_count": 2,
   "id": "6c46bb05-b3f3-4f99-83be-a3c462c97481",
   "metadata": {},
   "outputs": [
    {
     "ename": "FileNotFoundError",
     "evalue": "[Errno 2] No such file or directory: 'Muth_data_Merged.xlsx'",
     "output_type": "error",
     "traceback": [
      "\u001b[1;31m---------------------------------------------------------------------------\u001b[0m",
      "\u001b[1;31mFileNotFoundError\u001b[0m                         Traceback (most recent call last)",
      "\u001b[1;32m~\\AppData\\Local\\Temp\\ipykernel_8312\\2856059200.py\u001b[0m in \u001b[0;36m<module>\u001b[1;34m\u001b[0m\n\u001b[1;32m----> 1\u001b[1;33m \u001b[0mdf_out\u001b[0m\u001b[1;33m=\u001b[0m\u001b[0mss\u001b[0m\u001b[1;33m.\u001b[0m\u001b[0mimport_data\u001b[0m\u001b[1;33m(\u001b[0m\u001b[1;34m'Muth_data_Merged.xlsx'\u001b[0m\u001b[1;33m,\u001b[0m \u001b[0msheet_name\u001b[0m\u001b[1;33m=\u001b[0m\u001b[1;34m'Sheet1'\u001b[0m\u001b[1;33m)\u001b[0m\u001b[1;33m\u001b[0m\u001b[1;33m\u001b[0m\u001b[0m\n\u001b[0m\u001b[0;32m      2\u001b[0m \u001b[1;33m\u001b[0m\u001b[0m\n\u001b[0;32m      3\u001b[0m \u001b[0mdf_out\u001b[0m\u001b[1;33m[\u001b[0m\u001b[1;34m'Fe3Fet_Liq'\u001b[0m\u001b[1;33m]\u001b[0m\u001b[1;33m=\u001b[0m\u001b[0mdf_out\u001b[0m\u001b[1;33m[\u001b[0m\u001b[1;34m'Fe3+/∑ Fe'\u001b[0m\u001b[1;33m]\u001b[0m\u001b[1;33m\u001b[0m\u001b[1;33m\u001b[0m\u001b[0m\n\u001b[0;32m      4\u001b[0m \u001b[1;33m\u001b[0m\u001b[0m\n\u001b[0;32m      5\u001b[0m \u001b[0mdf_out_trim\u001b[0m\u001b[1;33m=\u001b[0m\u001b[0mdf_out\u001b[0m\u001b[1;33m.\u001b[0m\u001b[0miloc\u001b[0m\u001b[1;33m[\u001b[0m\u001b[1;33m:\u001b[0m\u001b[1;33m,\u001b[0m \u001b[1;36m0\u001b[0m\u001b[1;33m:\u001b[0m\u001b[1;36m12\u001b[0m\u001b[1;33m]\u001b[0m\u001b[1;33m\u001b[0m\u001b[1;33m\u001b[0m\u001b[0m\n",
      "\u001b[1;32mg:\\my drive\\berkeley_new\\pysulfsat\\pysulfsat_structure\\src\\PySulfSat\\import_data.py\u001b[0m in \u001b[0;36mimport_data\u001b[1;34m(filename, sheet_name, Petrolog, MELTS, suffix)\u001b[0m\n\u001b[0;32m    107\u001b[0m     \u001b[1;32melif\u001b[0m \u001b[1;34m'xls'\u001b[0m \u001b[1;32min\u001b[0m \u001b[0mfilename\u001b[0m\u001b[1;33m:\u001b[0m\u001b[1;33m\u001b[0m\u001b[1;33m\u001b[0m\u001b[0m\n\u001b[0;32m    108\u001b[0m         \u001b[1;32mif\u001b[0m \u001b[0msheet_name\u001b[0m \u001b[1;32mis\u001b[0m \u001b[1;32mnot\u001b[0m \u001b[1;32mNone\u001b[0m\u001b[1;33m:\u001b[0m\u001b[1;33m\u001b[0m\u001b[1;33m\u001b[0m\u001b[0m\n\u001b[1;32m--> 109\u001b[1;33m             \u001b[0mmy_input\u001b[0m \u001b[1;33m=\u001b[0m \u001b[0mpd\u001b[0m\u001b[1;33m.\u001b[0m\u001b[0mread_excel\u001b[0m\u001b[1;33m(\u001b[0m\u001b[0mfilename\u001b[0m\u001b[1;33m,\u001b[0m \u001b[0msheet_name\u001b[0m\u001b[1;33m=\u001b[0m\u001b[0msheet_name\u001b[0m\u001b[1;33m)\u001b[0m\u001b[1;33m\u001b[0m\u001b[1;33m\u001b[0m\u001b[0m\n\u001b[0m\u001b[0;32m    110\u001b[0m             \u001b[1;31m#my_input[my_input < 0] = 0\u001b[0m\u001b[1;33m\u001b[0m\u001b[1;33m\u001b[0m\u001b[0m\n\u001b[0;32m    111\u001b[0m         \u001b[1;32melse\u001b[0m\u001b[1;33m:\u001b[0m\u001b[1;33m\u001b[0m\u001b[1;33m\u001b[0m\u001b[0m\n",
      "\u001b[1;32m~\\anaconda3\\lib\\site-packages\\pandas\\util\\_decorators.py\u001b[0m in \u001b[0;36mwrapper\u001b[1;34m(*args, **kwargs)\u001b[0m\n\u001b[0;32m    309\u001b[0m                     \u001b[0mstacklevel\u001b[0m\u001b[1;33m=\u001b[0m\u001b[0mstacklevel\u001b[0m\u001b[1;33m,\u001b[0m\u001b[1;33m\u001b[0m\u001b[1;33m\u001b[0m\u001b[0m\n\u001b[0;32m    310\u001b[0m                 )\n\u001b[1;32m--> 311\u001b[1;33m             \u001b[1;32mreturn\u001b[0m \u001b[0mfunc\u001b[0m\u001b[1;33m(\u001b[0m\u001b[1;33m*\u001b[0m\u001b[0margs\u001b[0m\u001b[1;33m,\u001b[0m \u001b[1;33m**\u001b[0m\u001b[0mkwargs\u001b[0m\u001b[1;33m)\u001b[0m\u001b[1;33m\u001b[0m\u001b[1;33m\u001b[0m\u001b[0m\n\u001b[0m\u001b[0;32m    312\u001b[0m \u001b[1;33m\u001b[0m\u001b[0m\n\u001b[0;32m    313\u001b[0m         \u001b[1;32mreturn\u001b[0m \u001b[0mwrapper\u001b[0m\u001b[1;33m\u001b[0m\u001b[1;33m\u001b[0m\u001b[0m\n",
      "\u001b[1;32m~\\anaconda3\\lib\\site-packages\\pandas\\io\\excel\\_base.py\u001b[0m in \u001b[0;36mread_excel\u001b[1;34m(io, sheet_name, header, names, index_col, usecols, squeeze, dtype, engine, converters, true_values, false_values, skiprows, nrows, na_values, keep_default_na, na_filter, verbose, parse_dates, date_parser, thousands, decimal, comment, skipfooter, convert_float, mangle_dupe_cols, storage_options)\u001b[0m\n\u001b[0;32m    455\u001b[0m     \u001b[1;32mif\u001b[0m \u001b[1;32mnot\u001b[0m \u001b[0misinstance\u001b[0m\u001b[1;33m(\u001b[0m\u001b[0mio\u001b[0m\u001b[1;33m,\u001b[0m \u001b[0mExcelFile\u001b[0m\u001b[1;33m)\u001b[0m\u001b[1;33m:\u001b[0m\u001b[1;33m\u001b[0m\u001b[1;33m\u001b[0m\u001b[0m\n\u001b[0;32m    456\u001b[0m         \u001b[0mshould_close\u001b[0m \u001b[1;33m=\u001b[0m \u001b[1;32mTrue\u001b[0m\u001b[1;33m\u001b[0m\u001b[1;33m\u001b[0m\u001b[0m\n\u001b[1;32m--> 457\u001b[1;33m         \u001b[0mio\u001b[0m \u001b[1;33m=\u001b[0m \u001b[0mExcelFile\u001b[0m\u001b[1;33m(\u001b[0m\u001b[0mio\u001b[0m\u001b[1;33m,\u001b[0m \u001b[0mstorage_options\u001b[0m\u001b[1;33m=\u001b[0m\u001b[0mstorage_options\u001b[0m\u001b[1;33m,\u001b[0m \u001b[0mengine\u001b[0m\u001b[1;33m=\u001b[0m\u001b[0mengine\u001b[0m\u001b[1;33m)\u001b[0m\u001b[1;33m\u001b[0m\u001b[1;33m\u001b[0m\u001b[0m\n\u001b[0m\u001b[0;32m    458\u001b[0m     \u001b[1;32melif\u001b[0m \u001b[0mengine\u001b[0m \u001b[1;32mand\u001b[0m \u001b[0mengine\u001b[0m \u001b[1;33m!=\u001b[0m \u001b[0mio\u001b[0m\u001b[1;33m.\u001b[0m\u001b[0mengine\u001b[0m\u001b[1;33m:\u001b[0m\u001b[1;33m\u001b[0m\u001b[1;33m\u001b[0m\u001b[0m\n\u001b[0;32m    459\u001b[0m         raise ValueError(\n",
      "\u001b[1;32m~\\anaconda3\\lib\\site-packages\\pandas\\io\\excel\\_base.py\u001b[0m in \u001b[0;36m__init__\u001b[1;34m(self, path_or_buffer, engine, storage_options)\u001b[0m\n\u001b[0;32m   1374\u001b[0m                 \u001b[0mext\u001b[0m \u001b[1;33m=\u001b[0m \u001b[1;34m\"xls\"\u001b[0m\u001b[1;33m\u001b[0m\u001b[1;33m\u001b[0m\u001b[0m\n\u001b[0;32m   1375\u001b[0m             \u001b[1;32melse\u001b[0m\u001b[1;33m:\u001b[0m\u001b[1;33m\u001b[0m\u001b[1;33m\u001b[0m\u001b[0m\n\u001b[1;32m-> 1376\u001b[1;33m                 ext = inspect_excel_format(\n\u001b[0m\u001b[0;32m   1377\u001b[0m                     \u001b[0mcontent_or_path\u001b[0m\u001b[1;33m=\u001b[0m\u001b[0mpath_or_buffer\u001b[0m\u001b[1;33m,\u001b[0m \u001b[0mstorage_options\u001b[0m\u001b[1;33m=\u001b[0m\u001b[0mstorage_options\u001b[0m\u001b[1;33m\u001b[0m\u001b[1;33m\u001b[0m\u001b[0m\n\u001b[0;32m   1378\u001b[0m                 )\n",
      "\u001b[1;32m~\\anaconda3\\lib\\site-packages\\pandas\\io\\excel\\_base.py\u001b[0m in \u001b[0;36minspect_excel_format\u001b[1;34m(content_or_path, storage_options)\u001b[0m\n\u001b[0;32m   1248\u001b[0m         \u001b[0mcontent_or_path\u001b[0m \u001b[1;33m=\u001b[0m \u001b[0mBytesIO\u001b[0m\u001b[1;33m(\u001b[0m\u001b[0mcontent_or_path\u001b[0m\u001b[1;33m)\u001b[0m\u001b[1;33m\u001b[0m\u001b[1;33m\u001b[0m\u001b[0m\n\u001b[0;32m   1249\u001b[0m \u001b[1;33m\u001b[0m\u001b[0m\n\u001b[1;32m-> 1250\u001b[1;33m     with get_handle(\n\u001b[0m\u001b[0;32m   1251\u001b[0m         \u001b[0mcontent_or_path\u001b[0m\u001b[1;33m,\u001b[0m \u001b[1;34m\"rb\"\u001b[0m\u001b[1;33m,\u001b[0m \u001b[0mstorage_options\u001b[0m\u001b[1;33m=\u001b[0m\u001b[0mstorage_options\u001b[0m\u001b[1;33m,\u001b[0m \u001b[0mis_text\u001b[0m\u001b[1;33m=\u001b[0m\u001b[1;32mFalse\u001b[0m\u001b[1;33m\u001b[0m\u001b[1;33m\u001b[0m\u001b[0m\n\u001b[0;32m   1252\u001b[0m     ) as handle:\n",
      "\u001b[1;32m~\\anaconda3\\lib\\site-packages\\pandas\\io\\common.py\u001b[0m in \u001b[0;36mget_handle\u001b[1;34m(path_or_buf, mode, encoding, compression, memory_map, is_text, errors, storage_options)\u001b[0m\n\u001b[0;32m    793\u001b[0m         \u001b[1;32melse\u001b[0m\u001b[1;33m:\u001b[0m\u001b[1;33m\u001b[0m\u001b[1;33m\u001b[0m\u001b[0m\n\u001b[0;32m    794\u001b[0m             \u001b[1;31m# Binary mode\u001b[0m\u001b[1;33m\u001b[0m\u001b[1;33m\u001b[0m\u001b[0m\n\u001b[1;32m--> 795\u001b[1;33m             \u001b[0mhandle\u001b[0m \u001b[1;33m=\u001b[0m \u001b[0mopen\u001b[0m\u001b[1;33m(\u001b[0m\u001b[0mhandle\u001b[0m\u001b[1;33m,\u001b[0m \u001b[0mioargs\u001b[0m\u001b[1;33m.\u001b[0m\u001b[0mmode\u001b[0m\u001b[1;33m)\u001b[0m\u001b[1;33m\u001b[0m\u001b[1;33m\u001b[0m\u001b[0m\n\u001b[0m\u001b[0;32m    796\u001b[0m         \u001b[0mhandles\u001b[0m\u001b[1;33m.\u001b[0m\u001b[0mappend\u001b[0m\u001b[1;33m(\u001b[0m\u001b[0mhandle\u001b[0m\u001b[1;33m)\u001b[0m\u001b[1;33m\u001b[0m\u001b[1;33m\u001b[0m\u001b[0m\n\u001b[0;32m    797\u001b[0m \u001b[1;33m\u001b[0m\u001b[0m\n",
      "\u001b[1;31mFileNotFoundError\u001b[0m: [Errno 2] No such file or directory: 'Muth_data_Merged.xlsx'"
     ]
    }
   ],
   "source": [
    "df_out=ss.import_data('Muth_data_Merged.xlsx', sheet_name='Sheet1')\n",
    "\n",
    "df_out['Fe3Fet_Liq']=df_out['Fe3+/∑ Fe']\n",
    "\n",
    "df_out_trim=df_out.iloc[:, 0:12]\n",
    "df_out_trim['Sample_ID']=df_out['MI_Name']\n",
    "df_out_trim.head()"
   ]
  },
  {
   "cell_type": "code",
   "execution_count": null,
   "id": "a11fa728-5713-40f9-9c16-c57518ff04bb",
   "metadata": {},
   "outputs": [],
   "source": [
    "df_err=ss.import_data_noise('Muth_data_Merged.xlsx', sheet_name='Sheet1')\n",
    "df_err_trim=df_err.iloc[:, 0:12]\n",
    "df_err_trim['Sample_ID']=df_err['MI_Name']\n",
    "df_err_trim.head()"
   ]
  },
  {
   "cell_type": "markdown",
   "id": "98c2109e-7fb7-4bd2-95f8-adadb10aff68",
   "metadata": {},
   "source": [
    "## Lets calculate a temperature \n",
    "- Using their H2O contents. "
   ]
  },
  {
   "cell_type": "code",
   "execution_count": null,
   "id": "f96139d2-8e22-41ae-a8eb-a25da09d20be",
   "metadata": {},
   "outputs": [],
   "source": [
    "import Thermobar as pt\n",
    "Temp_3=pt.calculate_liq_only_temp(liq_comps=df_out, equationT='T_Put2008_eq22_BeattDMg', P=3, H2O_Liq=df_out['H2O_Liq'])\n",
    "Temp_3.head()"
   ]
  },
  {
   "cell_type": "markdown",
   "id": "0053fee3-73bd-45d5-87b3-e70e44d3cfc1",
   "metadata": {},
   "source": [
    "## Lets perform calcs straight up first"
   ]
  },
  {
   "cell_type": "code",
   "execution_count": null,
   "id": "dbeb24cf-fa36-4402-98f1-b88a979815c9",
   "metadata": {},
   "outputs": [],
   "source": [
    "calc_GivenFe3=ss.calculate_OM2022_S6St(df=df_out_trim, T_K=Temp_3,\n",
    "                    Fe3Fet_Liq=df_out['Fe3Fet_Liq'])\n",
    "\n",
    "calc_GivenFe3.head()"
   ]
  },
  {
   "cell_type": "code",
   "execution_count": null,
   "id": "758fb7d7-2707-41c0-a0e5-6a2c8ce74a5b",
   "metadata": {},
   "outputs": [],
   "source": [
    "plt.plot([0, 1], [0, 1], '-r')\n",
    "\n",
    "plt.plot(df_out['S6+/∑S'],\n",
    "         calc_GivenFe3['S6St_Liq'],\n",
    "         'dk', mfc='c', label='Given Fe3 ONeill')\n",
    "\n",
    "plt.legend()\n",
    "plt.xlabel('Muth S6/ST')\n",
    "plt.ylabel('Calc S6/St')"
   ]
  },
  {
   "cell_type": "code",
   "execution_count": null,
   "id": "8988c9ab-76fd-4581-a562-0277f57928d5",
   "metadata": {},
   "outputs": [],
   "source": [
    "pt.calculate_R2(df_out['S6+/∑S'],\n",
    "         calc_GivenFe3['S6St_Liq'], xy=False)"
   ]
  },
  {
   "cell_type": "markdown",
   "id": "fe5ad327-3391-4455-b15d-bd6fce8c647e",
   "metadata": {},
   "source": [
    "## Now lets account for error"
   ]
  },
  {
   "cell_type": "code",
   "execution_count": null,
   "id": "95e55c03-ee48-48b8-90b2-3f0c008caa49",
   "metadata": {},
   "outputs": [],
   "source": [
    "N_dups=5000\n",
    "# Lets set temp error at +-50 K\n",
    "df_out_trim['T_K_Liq']=Temp_3\n",
    "df_err_trim['T_K_Liq_Err']=50\n",
    "# Take Fe3 error from other dataframe\n",
    "df_err_trim['Fe3Fet_Liq_Err']=df_err['Fe3+/∑ Fe s.e.']\n",
    "\n",
    "df_noisy_abs=ss.add_noise_2_dataframes(df_values=df_out_trim, df_err=df_err_trim, \n",
    "        error_type=\"Abs\", error_dist=\"normal\", N_dups=N_dups)\n",
    "df_noisy_abs.head()"
   ]
  },
  {
   "cell_type": "markdown",
   "id": "cbfb3580-6896-45be-8f7e-13c05a62fb9b",
   "metadata": {},
   "source": [
    "## Now put all this synthetic simulated data into the S6 calculation"
   ]
  },
  {
   "cell_type": "code",
   "execution_count": null,
   "id": "7b38d65f-960e-4059-beab-9ecc4e804dee",
   "metadata": {},
   "outputs": [],
   "source": [
    "noisy_ONeill_Fe_S6St=ss.calculate_OM2022_S6St(df=df_noisy_abs, Fe3Fet_Liq=df_noisy_abs['Fe3Fet_Liq'],\n",
    "                                          T_K=df_noisy_abs['T_K_Liq'])\n",
    "noisy_ONeill_Fe_S6St.head()"
   ]
  },
  {
   "cell_type": "markdown",
   "id": "cbe9de82-97b3-47be-b59a-153418440873",
   "metadata": {},
   "source": [
    "## Now calculate the error bar for each row"
   ]
  },
  {
   "cell_type": "code",
   "execution_count": null,
   "id": "f0881287-0af0-4e10-a057-bcd32c2e9dd2",
   "metadata": {},
   "outputs": [],
   "source": [
    "import Thermobar as pt\n",
    "Stats_Fe_S6=ss.av_noise_samples_series(calc=noisy_ONeill_Fe_S6St['S6St_Liq'], sampleID=df_noisy_abs['Sample_ID'])\n",
    "Stats_Fe_S6.head()"
   ]
  },
  {
   "cell_type": "markdown",
   "id": "d8f33406-c47d-4eb2-aaaa-b0ab6c4e2908",
   "metadata": {},
   "source": [
    "## Lets do the same using Nash\n",
    "- If you just want to vary 1 thing, you can do it this way\n",
    "- First, take your dataframe, and duplicate it N times, all the columns will be the same, but will now be Sample1-Sample1-Sample1, Sample2-Sample2-Sample2"
   ]
  },
  {
   "cell_type": "code",
   "execution_count": null,
   "id": "3ef8f993-45ea-4f47-8be0-860fb8678266",
   "metadata": {},
   "outputs": [],
   "source": [
    "\n",
    "Dupdf=ss.duplicate_dataframe(df=df_out_trim, N_dup=N_dups)\n",
    "Dupdf.head()"
   ]
  },
  {
   "cell_type": "markdown",
   "id": "146d6c25-461a-4da9-a597-9c28944f2c8e",
   "metadata": {},
   "source": [
    "### Now you can make the errors for one column at a time if you prefer"
   ]
  },
  {
   "cell_type": "markdown",
   "id": "20864f5c-399e-49b9-a7f7-84f011073c99",
   "metadata": {},
   "source": [
    "- E.g. adding a temp error of +- 1sigma = 50 K"
   ]
  },
  {
   "cell_type": "code",
   "execution_count": null,
   "id": "4eda38c5-5730-4f8d-bff4-0653d20d6fe7",
   "metadata": {},
   "outputs": [],
   "source": [
    "Temp_Err=ss.add_noise_series(df_out_trim['T_K_Liq'], error_var=50,\n",
    "error_type=\"Abs\", error_dist=\"normal\", N_dup=N_dups)\n",
    "# Then add this to the dataframe\n",
    "Dupdf['T_K_MC']=Temp_Err"
   ]
  },
  {
   "cell_type": "markdown",
   "id": "0526584f-9c93-457e-8abf-53b667f66de8",
   "metadata": {},
   "source": [
    "- And adding a Fe3Fet_Liq error from their spreadsheet"
   ]
  },
  {
   "cell_type": "code",
   "execution_count": null,
   "id": "8b0a581c-0a14-4262-9c40-83a313f05791",
   "metadata": {},
   "outputs": [],
   "source": [
    "Fe3_Err=ss.add_noise_series(df_out_trim['Fe3Fet_Liq'], error_var=df_err_trim['Fe3Fet_Liq_Err'],\n",
    "error_type=\"Abs\", error_dist=\"normal\", N_dup=N_dups)\n",
    "## \n",
    "Dupdf['Fe3Fet_Liq_MC']=Fe3_Err"
   ]
  },
  {
   "cell_type": "markdown",
   "id": "8702bd51-8aaf-4d06-9c2f-015c9069ef43",
   "metadata": {},
   "source": [
    "## Now put these uncertainties into Nash"
   ]
  },
  {
   "cell_type": "code",
   "execution_count": null,
   "id": "ace60d0c-7c8c-4f14-bb34-c432c0e36fc7",
   "metadata": {},
   "outputs": [],
   "source": [
    "noisy_Nash_S6St=ss.calculate_S6St_Nash2019(Fe3Fet_Liq=Dupdf['Fe3Fet_Liq_MC'],\n",
    "                                          T_K=Dupdf['T_K_MC'])\n",
    "noisy_Nash_S6St.head()"
   ]
  },
  {
   "cell_type": "code",
   "execution_count": null,
   "id": "636ee3ea-8b2d-47b3-8fb6-6b9260dd939e",
   "metadata": {},
   "outputs": [],
   "source": [
    "Stats_Nash_S6=ss.av_noise_samples_series(calc=noisy_Nash_S6St, sampleID=Dupdf['Sample_ID'])\n",
    "Stats_Nash_S6.head()"
   ]
  },
  {
   "cell_type": "markdown",
   "id": "46a589e3-770c-464a-ab0c-b6e3fa0b568d",
   "metadata": {},
   "source": [
    "## And Jugo\n",
    "- First, need to calculate QFM relative to frost from the Fe3Fet ratio"
   ]
  },
  {
   "cell_type": "code",
   "execution_count": null,
   "id": "a92cef3a-db1c-4f47-b7e5-a5bcfbc0047b",
   "metadata": {},
   "outputs": [],
   "source": [
    "Buffer=pt.convert_fe_partition_to_fo2(liq_comps=Dupdf,  T_K=Dupdf['T_K_MC'], P_kbar=5,  \n",
    "        model=\"Kress1991\", Fe3Fet_Liq=Dupdf['Fe3Fet_Liq_MC'],\n",
    " renorm=False)\n",
    "Buffer.head()"
   ]
  },
  {
   "cell_type": "code",
   "execution_count": null,
   "id": "3d485c18-9cc1-40a7-b1ac-16139f0863bc",
   "metadata": {},
   "outputs": [],
   "source": [
    "noisy_Jugo=ss.calculate_S6St_Jugo2010_eq10(deltaQFM=Buffer['DeltaQFM_Frost1991'])\n",
    "noisy_Jugo.head()"
   ]
  },
  {
   "cell_type": "code",
   "execution_count": null,
   "id": "1a17a6ed-28c0-46d3-9f61-4b5d3dd03997",
   "metadata": {},
   "outputs": [],
   "source": [
    "Stats_Jugo_S6=ss.av_noise_samples_series(calc=noisy_Jugo, sampleID=Dupdf['Sample_ID'])\n",
    "Stats_Jugo_S6.head()"
   ]
  },
  {
   "cell_type": "code",
   "execution_count": null,
   "id": "1dd90793-f99a-48fd-8382-8d852bbdcc70",
   "metadata": {},
   "outputs": [],
   "source": [
    "S_types=ss.convert_S_types(S_wt=df_out['S'])\n",
    "S_types.head()"
   ]
  },
  {
   "cell_type": "markdown",
   "id": "3a168225-a2e4-4fa1-856f-65c4df17552e",
   "metadata": {},
   "source": [
    "## Pic one sample"
   ]
  },
  {
   "cell_type": "code",
   "execution_count": null,
   "id": "d49d09fc-2b2d-4326-ac81-c6b4d935bdb5",
   "metadata": {},
   "outputs": [],
   "source": [
    "sam=df_out['MI_Name'].loc[df_out['S6+/∑S'].between(0.4, 0.45)].iloc[0]\n",
    "sam"
   ]
  },
  {
   "cell_type": "markdown",
   "id": "fb53cbd3-0d0a-4863-b11b-1d0b1291c978",
   "metadata": {},
   "source": [
    "## Show input MC"
   ]
  },
  {
   "cell_type": "code",
   "execution_count": null,
   "id": "afa0cd79-f751-441f-b96a-bfbd7ac57e0f",
   "metadata": {},
   "outputs": [],
   "source": [
    "fig, ((ax1, ax2, ax3), (ax4, ax5, ax6)) = plt.subplots(2, 3, figsize=(12,6))\n",
    "bins=50\n",
    "ax1.hist(df_noisy_abs['T_K_Liq'].loc[Dupdf['Sample_ID']==sam],  fc='black', alpha=0.3, bins=bins);\n",
    "ax2.hist(df_noisy_abs['Fe3Fet_Liq'].loc[Dupdf['Sample_ID']==sam], fc='black', alpha=0.3, bins=bins);\n",
    "ax3.hist(Buffer['DeltaQFM_Frost1991'].loc[Buffer['Sample_ID']==sam],  fc='black', alpha=0.3, bins=bins);\n",
    "ax4.hist(df_noisy_abs['FeOt_Liq'].loc[df_noisy_abs['Sample_ID']==sam], fc='black', alpha=0.3, bins=bins);\n",
    "ax5.hist(df_noisy_abs['MgO_Liq'].loc[df_noisy_abs['Sample_ID']==sam],  fc='black', alpha=0.3, bins=bins);\n",
    "ax6.hist(df_noisy_abs['Na2O_Liq'].loc[df_noisy_abs['Sample_ID']==sam], fc='black', alpha=0.3, bins=bins);\n",
    "ax1.set_ylabel('# of simulations')\n",
    "ax4.set_ylabel('# of simulations')\n",
    "ax1.annotate(\"a) T (K)\", xy=(0.02, 0.93), xycoords=\"axes fraction\", fontsize=10)\n",
    "ax2.annotate(\"b) Fe$^{3+}$/Fe$_{T}$\", xy=(0.02, 0.93), xycoords=\"axes fraction\", fontsize=10)\n",
    "ax3.annotate(\"c) ΔQFM\", xy=(0.02, 0.93), xycoords=\"axes fraction\", fontsize=10)\n",
    "ax4.annotate(\"d) FeOt Liq\", xy=(0.02, 0.93), xycoords=\"axes fraction\", fontsize=10)\n",
    "ax5.annotate(\"e) MgO Liq\", xy=(0.02, 0.93), xycoords=\"axes fraction\", fontsize=10)\n",
    "ax6.annotate(\"e) Na$_2$O Liq\", xy=(0.02, 0.93), xycoords=\"axes fraction\", fontsize=10)\n",
    "\n",
    "fig.savefig('MonteCarlo_Muth_input.png', dpi=300)"
   ]
  },
  {
   "cell_type": "code",
   "execution_count": null,
   "id": "f3d88b66-151e-48c3-aea3-acf6979b807c",
   "metadata": {},
   "outputs": [],
   "source": [
    "fig, (ax1, ax2, ax3) = plt.subplots(1, 3, figsize=(12,4))\n",
    "ax1.hist(Dupdf['T_K_MC'].loc[Dupdf['Sample_ID']==sam], ec='k', fc='black', alpha=0.3)\n",
    "ax2.hist(Dupdf['Fe3Fet_Liq_MC'].loc[Dupdf['Sample_ID']==sam], ec='k', fc='black', alpha=0.3)\n",
    "#ax3.hist(Buffer['DeltaQFM_Frost1991'].loc[Buffer['Sample_ID']==sam], ec='k', fc='black', alpha=0.3)\n",
    "ax3.hist(df_noisy_abs['FeOt_Liq'].loc[df_noisy_abs['Sample_ID']==sam], ec='k', fc='black', alpha=0.3)"
   ]
  },
  {
   "cell_type": "markdown",
   "id": "20653ca4-d774-466a-b1bf-23575dfb683f",
   "metadata": {},
   "source": [
    "## Figure for text showing S6/St with errorbars"
   ]
  },
  {
   "cell_type": "code",
   "execution_count": 1,
   "id": "296edf59-d414-429b-ac4f-7545eb8eb26d",
   "metadata": {},
   "outputs": [
    {
     "ename": "NameError",
     "evalue": "name 'plt' is not defined",
     "output_type": "error",
     "traceback": [
      "\u001b[1;31m---------------------------------------------------------------------------\u001b[0m",
      "\u001b[1;31mNameError\u001b[0m                                 Traceback (most recent call last)",
      "\u001b[1;32m~\\AppData\\Local\\Temp\\ipykernel_38068\\1702662380.py\u001b[0m in \u001b[0;36m<module>\u001b[1;34m\u001b[0m\n\u001b[1;32m----> 1\u001b[1;33m \u001b[0mfig\u001b[0m\u001b[1;33m,\u001b[0m \u001b[1;33m(\u001b[0m\u001b[0max1\u001b[0m\u001b[1;33m,\u001b[0m \u001b[0max2\u001b[0m\u001b[1;33m,\u001b[0m \u001b[0max3\u001b[0m\u001b[1;33m)\u001b[0m \u001b[1;33m=\u001b[0m \u001b[0mplt\u001b[0m\u001b[1;33m.\u001b[0m\u001b[0msubplots\u001b[0m\u001b[1;33m(\u001b[0m\u001b[1;36m1\u001b[0m\u001b[1;33m,\u001b[0m \u001b[1;36m3\u001b[0m\u001b[1;33m,\u001b[0m \u001b[0mfigsize\u001b[0m\u001b[1;33m=\u001b[0m\u001b[1;33m(\u001b[0m\u001b[1;36m10\u001b[0m\u001b[1;33m,\u001b[0m\u001b[1;36m3.5\u001b[0m\u001b[1;33m)\u001b[0m\u001b[1;33m)\u001b[0m\u001b[1;33m\u001b[0m\u001b[1;33m\u001b[0m\u001b[0m\n\u001b[0m\u001b[0;32m      2\u001b[0m \u001b[0mms1\u001b[0m\u001b[1;33m=\u001b[0m\u001b[1;36m5\u001b[0m\u001b[1;33m\u001b[0m\u001b[1;33m\u001b[0m\u001b[0m\n\u001b[0;32m      3\u001b[0m \u001b[1;33m\u001b[0m\u001b[0m\n\u001b[0;32m      4\u001b[0m \u001b[1;33m\u001b[0m\u001b[0m\n\u001b[0;32m      5\u001b[0m \u001b[1;33m\u001b[0m\u001b[0m\n",
      "\u001b[1;31mNameError\u001b[0m: name 'plt' is not defined"
     ]
    }
   ],
   "source": [
    "\n",
    "fig, (ax1, ax2, ax3) = plt.subplots(1, 3, figsize=(10,3.5))\n",
    "ms1=5\n",
    "\n",
    "\n",
    "\n",
    "\n",
    "ax1.errorbar(df_out['S6+/∑S'],\n",
    "         Stats_Fe_S6['Mean_calc'],\n",
    "            xerr=0.01, yerr=Stats_Fe_S6['St_dev_calc'],\n",
    "               fmt='s', ecolor='grey', elinewidth=0.8, mfc='cyan', ms=ms1, mec='k', capsize=3, label='usingFe')\n",
    "\n",
    "\n",
    "ax2.errorbar(df_out['S6+/∑S'], Stats_Nash_S6['Mean_calc'],\n",
    "            xerr=0.01, yerr=Stats_Nash_S6['St_dev_calc'],\n",
    "               fmt='s', ecolor='grey', elinewidth=0.8, mfc='blue', ms=ms1, mec='k', capsize=3, label='usingFe')\n",
    "\n",
    "ax3.errorbar(df_out['S6+/∑S'], Stats_Jugo_S6['Mean_calc'],\n",
    "            xerr=0.01, yerr=Stats_Jugo_S6['St_dev_calc'],\n",
    "               fmt='s', ecolor='grey', elinewidth=0.8, mfc='red', ms=ms1, mec='k', capsize=3, label='usingFe')\n",
    "\n",
    "# s=ax1.scatter(df_out['S6+/∑S'],\n",
    "#          Stats_Fe_S6['Mean_calc'], marker='s', s=50, edgecolors='k', linewidths=0.5,\n",
    "#             c=S_types['S_ppm'], cmap='hot', zorder=100)\n",
    "#fig.colorbar(s, ax=ax3)\n",
    "\n",
    "ax1.plot([0, 1], [0, 1], '-k')\n",
    "ax2.plot([0, 1], [0, 1], '-k')\n",
    "ax3.plot([0, 1], [0, 1], '-k')\n",
    "ax1.set_xlabel('Measured S$^{6+}$/S$_T$')\n",
    "ax1.set_ylabel('Calc S$^{6+}$/S$_T$ (OM2022)')\n",
    "ax2.set_xlabel('Measured S$^{6+}$/S$_T$')\n",
    "ax2.set_ylabel('Calc S$^{6+}$/S$_T$ (Nash2019)')\n",
    "ax3.set_xlabel('Measured S$^{6+}$/S$_T$')\n",
    "ax3.set_ylabel('Calc S$^{6+}$/S$_T$ (Jugo2010)')\n",
    "\n",
    "# Print stats on fig\n",
    "O22_stats=pt.calculate_R2(df_out['S6+/∑S'], Stats_Fe_S6['Mean_calc'], xy=False)\n",
    "ax1.annotate('f)', xy=(0.02, 0.95), xycoords=\"axes fraction\", fontsize=10)\n",
    "\n",
    "ax1.annotate('R$^{2}$='+str(O22_stats['R2']), xy=(0.02, 0.88), xycoords=\"axes fraction\", fontsize=10)\n",
    "ax1.annotate('RMSE='+str(O22_stats['RMSE']), xy=(0.02, 0.83), xycoords=\"axes fraction\", fontsize=10)\n",
    "\n",
    "Nash_stats=pt.calculate_R2(df_out['S6+/∑S'], Stats_Nash_S6['Mean_calc'], xy=False)\n",
    "ax2.annotate('g)', xy=(0.02, 0.95), xycoords=\"axes fraction\", fontsize=10)\n",
    "\n",
    "ax2.annotate('R$^{2}$='+str(Nash_stats['R2']), xy=(0.02, 0.88), xycoords=\"axes fraction\", fontsize=10)\n",
    "ax2.annotate('RMSE='+str(Nash_stats['RMSE']), xy=(0.02, 0.83), xycoords=\"axes fraction\", fontsize=10)\n",
    "\n",
    "\n",
    "Jugo_stats=pt.calculate_R2(df_out['S6+/∑S'], Stats_Jugo_S6['Mean_calc'], xy=False)\n",
    "ax3.annotate('h)', xy=(0.02, 0.95), xycoords=\"axes fraction\", fontsize=10)\n",
    "ax3.annotate('R$^{2}$='+str(Jugo_stats['R2']), xy=(0.02, 0.88), xycoords=\"axes fraction\", fontsize=10)\n",
    "ax3.annotate('RMSE='+str(Jugo_stats['RMSE']), xy=(0.02, 0.83), xycoords=\"axes fraction\", fontsize=10)\n",
    "\n",
    "fig.tight_layout()\n",
    "fig.savefig('Muth_outputs.png', dpi=300)"
   ]
  },
  {
   "cell_type": "code",
   "execution_count": 24,
   "id": "56f6a7ff-2598-4cdd-b015-081936f12a1e",
   "metadata": {},
   "outputs": [
    {
     "data": {
      "text/plain": [
       "{'R2': '0.43',\n",
       " 'RMSE': '0.45',\n",
       " 'RMSE_num': 0.45,\n",
       " 'P_val': '0.000',\n",
       " 'Median': '-0.37',\n",
       " 'Mean': '-0.38',\n",
       " 'Int': array([-0.23649191]),\n",
       " 'Grad': array([0.81139442])}"
      ]
     },
     "execution_count": 24,
     "metadata": {},
     "output_type": "execute_result"
    }
   ],
   "source": [
    "pt.calculate_R2(df_out['S6+/∑S'], Stats_Jugo_S6['Mean_calc'], xy=False)"
   ]
  },
  {
   "cell_type": "code",
   "execution_count": 25,
   "id": "5e9fdd7f-2bea-4db9-ab00-d2b1410dcfd7",
   "metadata": {},
   "outputs": [
    {
     "data": {
      "text/plain": [
       "{'R2': '0.40',\n",
       " 'RMSE': '0.26',\n",
       " 'RMSE_num': 0.26,\n",
       " 'P_val': '0.000',\n",
       " 'Median': '-0.11',\n",
       " 'Mean': '-0.14',\n",
       " 'Int': array([0.12543386]),\n",
       " 'Grad': array([0.65168829])}"
      ]
     },
     "execution_count": 25,
     "metadata": {},
     "output_type": "execute_result"
    }
   ],
   "source": [
    "pt.calculate_R2(df_out['S6+/∑S'], Stats_Nash_S6['Mean_calc'], xy=False)"
   ]
  },
  {
   "cell_type": "code",
   "execution_count": 26,
   "id": "e8a5ca21-8cd1-4bc7-83b3-f0854e607504",
   "metadata": {},
   "outputs": [
    {
     "data": {
      "text/plain": [
       "{'R2': '0.51',\n",
       " 'RMSE': '0.19',\n",
       " 'RMSE_num': 0.19,\n",
       " 'P_val': '0.000',\n",
       " 'Median': '-0.03',\n",
       " 'Mean': '-0.04',\n",
       " 'Int': array([0.20789131]),\n",
       " 'Grad': array([0.67653364])}"
      ]
     },
     "execution_count": 26,
     "metadata": {},
     "output_type": "execute_result"
    }
   ],
   "source": [
    "pt.calculate_R2(df_out['S6+/∑S'], Stats_Fe_S6['Mean_calc'], xy=False)"
   ]
  },
  {
   "cell_type": "markdown",
   "id": "49b6e076-f39f-4dc7-8746-f15fc6b6f4e8",
   "metadata": {},
   "source": [
    "## We can also do Monte Carlo simulations for the SCSS (and all other calculations)"
   ]
  },
  {
   "cell_type": "markdown",
   "id": "20e6ffd1-f0e1-4c97-8f24-eb4318fc6863",
   "metadata": {},
   "source": [
    "### Lets make a monte carlo simulation for the sulfide composition, say error is +-0.05 Fe/Fe+Ni+Cu"
   ]
  },
  {
   "cell_type": "code",
   "execution_count": 27,
   "id": "3c472b21-0971-4a97-9e91-c6dfcff11bd9",
   "metadata": {},
   "outputs": [],
   "source": [
    "df_out['FeFeNiCu']=0.634\n",
    "FeFeNiCu_Err=ss.add_noise_series(df_out['FeFeNiCu'], error_var=0.05,\n",
    "error_type=\"Abs\", error_dist=\"normal\", N_dup=N_dups)\n",
    "## \n",
    "df_noisy_abs['FeFeNiCu_MC']=FeFeNiCu_Err"
   ]
  },
  {
   "cell_type": "code",
   "execution_count": 28,
   "id": "ac755b91-1d32-402e-8945-f53c3c6f5f36",
   "metadata": {},
   "outputs": [
    {
     "name": "stdout",
     "output_type": "stream",
     "text": [
      "Using inputted Fe_FeNiCu_Sulf ratio for calculations.\n",
      "no non ideal SCSS as no Cu/CuFeNiCu\n"
     ]
    }
   ],
   "source": [
    "SCSS_S2017_MC=ss.calculate_S2017_SCSS(df=df_noisy_abs, T_K=df_noisy_abs['T_K_Liq'], Fe_FeNiCu_Sulf=df_noisy_abs['FeFeNiCu_MC'],\n",
    "                                   P_kbar=5)\n",
    "                                   "
   ]
  },
  {
   "cell_type": "markdown",
   "id": "d5e6b6eb-204e-4389-a6b7-334974985892",
   "metadata": {},
   "source": [
    "### Now lets average these per sample"
   ]
  },
  {
   "cell_type": "code",
   "execution_count": 29,
   "id": "b278ab9a-fe6f-47b9-b3b4-9808c4903a16",
   "metadata": {},
   "outputs": [
    {
     "data": {
      "text/html": [
       "<div>\n",
       "<style scoped>\n",
       "    .dataframe tbody tr th:only-of-type {\n",
       "        vertical-align: middle;\n",
       "    }\n",
       "\n",
       "    .dataframe tbody tr th {\n",
       "        vertical-align: top;\n",
       "    }\n",
       "\n",
       "    .dataframe thead th {\n",
       "        text-align: right;\n",
       "    }\n",
       "</style>\n",
       "<table border=\"1\" class=\"dataframe\">\n",
       "  <thead>\n",
       "    <tr style=\"text-align: right;\">\n",
       "      <th></th>\n",
       "      <th>Sample</th>\n",
       "      <th># averaged</th>\n",
       "      <th>Mean_calc</th>\n",
       "      <th>Median_calc</th>\n",
       "      <th>St_dev_calc</th>\n",
       "      <th>Max_calc</th>\n",
       "      <th>Min_calc</th>\n",
       "    </tr>\n",
       "  </thead>\n",
       "  <tbody>\n",
       "    <tr>\n",
       "      <th>0</th>\n",
       "      <td>BBL-5-32</td>\n",
       "      <td>5000</td>\n",
       "      <td>632.791265</td>\n",
       "      <td>628.465034</td>\n",
       "      <td>99.856522</td>\n",
       "      <td>1179.964202</td>\n",
       "      <td>291.367196</td>\n",
       "    </tr>\n",
       "    <tr>\n",
       "      <th>1</th>\n",
       "      <td>BBL-5-33</td>\n",
       "      <td>5000</td>\n",
       "      <td>686.612475</td>\n",
       "      <td>679.062157</td>\n",
       "      <td>108.804908</td>\n",
       "      <td>1157.189080</td>\n",
       "      <td>378.950111</td>\n",
       "    </tr>\n",
       "    <tr>\n",
       "      <th>2</th>\n",
       "      <td>BBL-5-34</td>\n",
       "      <td>5000</td>\n",
       "      <td>674.769703</td>\n",
       "      <td>669.303291</td>\n",
       "      <td>106.102421</td>\n",
       "      <td>1125.802125</td>\n",
       "      <td>365.854107</td>\n",
       "    </tr>\n",
       "    <tr>\n",
       "      <th>3</th>\n",
       "      <td>BBL-5-43</td>\n",
       "      <td>5000</td>\n",
       "      <td>721.976611</td>\n",
       "      <td>717.836005</td>\n",
       "      <td>109.039362</td>\n",
       "      <td>1247.248507</td>\n",
       "      <td>377.452183</td>\n",
       "    </tr>\n",
       "    <tr>\n",
       "      <th>4</th>\n",
       "      <td>BBL-5-44</td>\n",
       "      <td>5000</td>\n",
       "      <td>725.863209</td>\n",
       "      <td>719.838117</td>\n",
       "      <td>112.461105</td>\n",
       "      <td>1149.038988</td>\n",
       "      <td>391.995576</td>\n",
       "    </tr>\n",
       "  </tbody>\n",
       "</table>\n",
       "</div>"
      ],
      "text/plain": [
       "     Sample  # averaged   Mean_calc  Median_calc  St_dev_calc     Max_calc  \\\n",
       "0  BBL-5-32        5000  632.791265   628.465034    99.856522  1179.964202   \n",
       "1  BBL-5-33        5000  686.612475   679.062157   108.804908  1157.189080   \n",
       "2  BBL-5-34        5000  674.769703   669.303291   106.102421  1125.802125   \n",
       "3  BBL-5-43        5000  721.976611   717.836005   109.039362  1247.248507   \n",
       "4  BBL-5-44        5000  725.863209   719.838117   112.461105  1149.038988   \n",
       "\n",
       "     Min_calc  \n",
       "0  291.367196  \n",
       "1  378.950111  \n",
       "2  365.854107  \n",
       "3  377.452183  \n",
       "4  391.995576  "
      ]
     },
     "execution_count": 29,
     "metadata": {},
     "output_type": "execute_result"
    }
   ],
   "source": [
    "Stats_SCSS=ss.av_noise_samples_series(calc=SCSS_S2017_MC['SCSS2_ppm_ideal_Smythe2017'], sampleID=df_noisy_abs['Sample_ID'])\n",
    "Stats_SCSS.head()"
   ]
  },
  {
   "cell_type": "markdown",
   "id": "e01ea84c-dc9e-4109-a176-b420e90e5508",
   "metadata": {},
   "source": [
    "## Lets also calculate the SCAS"
   ]
  },
  {
   "cell_type": "code",
   "execution_count": 30,
   "id": "d0cafc19-09ce-481f-b370-f07783c135e2",
   "metadata": {},
   "outputs": [
    {
     "name": "stderr",
     "output_type": "stream",
     "text": [
      "g:\\my drive\\berkeley_new\\pysulfsat\\pysulfsat_structure\\src\\PySulfSat\\scas_calc.py:126: UserWarning: you entered a P_kbar, just be aware this function isnt actually pressure sensitive\n",
      "  w.warn('you entered a P_kbar, just be aware this function isnt actually pressure sensitive')\n"
     ]
    }
   ],
   "source": [
    "SCAS_ZT_MC=ss.calculate_ZT2022_SCAS(df=df_noisy_abs, T_K=df_noisy_abs['T_K_Liq'],\n",
    "                                   P_kbar=5)\n",
    "                                   "
   ]
  },
  {
   "cell_type": "code",
   "execution_count": 31,
   "id": "5661c3ae-993d-4896-832e-779cca994df0",
   "metadata": {},
   "outputs": [
    {
     "name": "stderr",
     "output_type": "stream",
     "text": [
      "C:\\Users\\penny\\anaconda3\\lib\\site-packages\\pandas\\core\\indexing.py:2120: FutureWarning: In a future version, the Index constructor will not infer numeric dtypes when passed object-dtype sequences (matching Series behavior)\n",
      "  new_ix = Index(new_ix)\n",
      "C:\\Users\\penny\\anaconda3\\lib\\site-packages\\pandas\\core\\indexing.py:2120: FutureWarning: In a future version, the Index constructor will not infer numeric dtypes when passed object-dtype sequences (matching Series behavior)\n",
      "  new_ix = Index(new_ix)\n",
      "C:\\Users\\penny\\anaconda3\\lib\\site-packages\\pandas\\core\\indexing.py:2120: FutureWarning: In a future version, the Index constructor will not infer numeric dtypes when passed object-dtype sequences (matching Series behavior)\n",
      "  new_ix = Index(new_ix)\n"
     ]
    },
    {
     "data": {
      "text/html": [
       "<div>\n",
       "<style scoped>\n",
       "    .dataframe tbody tr th:only-of-type {\n",
       "        vertical-align: middle;\n",
       "    }\n",
       "\n",
       "    .dataframe tbody tr th {\n",
       "        vertical-align: top;\n",
       "    }\n",
       "\n",
       "    .dataframe thead th {\n",
       "        text-align: right;\n",
       "    }\n",
       "</style>\n",
       "<table border=\"1\" class=\"dataframe\">\n",
       "  <thead>\n",
       "    <tr style=\"text-align: right;\">\n",
       "      <th></th>\n",
       "      <th>Total_S_ppm</th>\n",
       "      <th>S2_Tot_ppm</th>\n",
       "      <th>S6_Tot_ppm</th>\n",
       "      <th>deltaQFM</th>\n",
       "      <th>S6St_Liq</th>\n",
       "      <th>SCSS_2_ppm</th>\n",
       "      <th>SCAS_6_ppm</th>\n",
       "      <th>SCSS_Tot</th>\n",
       "      <th>SCAS_Tot</th>\n",
       "      <th>S6 in SCSS_Tot</th>\n",
       "      <th>S2 in SCAS_Tot</th>\n",
       "    </tr>\n",
       "  </thead>\n",
       "  <tbody>\n",
       "    <tr>\n",
       "      <th>0</th>\n",
       "      <td>742.831095</td>\n",
       "      <td>668.778295</td>\n",
       "      <td>74.052800</td>\n",
       "      <td>None</td>\n",
       "      <td>0.099690</td>\n",
       "      <td>668.778295</td>\n",
       "      <td>4667.688466</td>\n",
       "      <td>742.831095</td>\n",
       "      <td>46822.053180</td>\n",
       "      <td>74.052800</td>\n",
       "      <td>42154.364715</td>\n",
       "    </tr>\n",
       "    <tr>\n",
       "      <th>1</th>\n",
       "      <td>1202.613429</td>\n",
       "      <td>693.814757</td>\n",
       "      <td>508.798672</td>\n",
       "      <td>None</td>\n",
       "      <td>0.423077</td>\n",
       "      <td>693.814757</td>\n",
       "      <td>5550.225746</td>\n",
       "      <td>1202.613429</td>\n",
       "      <td>13118.697793</td>\n",
       "      <td>508.798672</td>\n",
       "      <td>7568.472048</td>\n",
       "    </tr>\n",
       "    <tr>\n",
       "      <th>2</th>\n",
       "      <td>1316.013873</td>\n",
       "      <td>816.290339</td>\n",
       "      <td>499.723534</td>\n",
       "      <td>None</td>\n",
       "      <td>0.379725</td>\n",
       "      <td>816.290339</td>\n",
       "      <td>5831.906748</td>\n",
       "      <td>1316.013873</td>\n",
       "      <td>15358.232432</td>\n",
       "      <td>499.723534</td>\n",
       "      <td>9526.325684</td>\n",
       "    </tr>\n",
       "    <tr>\n",
       "      <th>3</th>\n",
       "      <td>753.207099</td>\n",
       "      <td>595.520610</td>\n",
       "      <td>157.686489</td>\n",
       "      <td>None</td>\n",
       "      <td>0.209353</td>\n",
       "      <td>595.520610</td>\n",
       "      <td>4284.375539</td>\n",
       "      <td>753.207099</td>\n",
       "      <td>20464.797555</td>\n",
       "      <td>157.686489</td>\n",
       "      <td>16180.422016</td>\n",
       "    </tr>\n",
       "    <tr>\n",
       "      <th>4</th>\n",
       "      <td>1757.922978</td>\n",
       "      <td>771.556565</td>\n",
       "      <td>986.366413</td>\n",
       "      <td>None</td>\n",
       "      <td>0.561098</td>\n",
       "      <td>771.556565</td>\n",
       "      <td>5015.924518</td>\n",
       "      <td>1757.922978</td>\n",
       "      <td>8939.486228</td>\n",
       "      <td>986.366413</td>\n",
       "      <td>3923.561711</td>\n",
       "    </tr>\n",
       "  </tbody>\n",
       "</table>\n",
       "</div>"
      ],
      "text/plain": [
       "   Total_S_ppm  S2_Tot_ppm  S6_Tot_ppm deltaQFM  S6St_Liq  SCSS_2_ppm  \\\n",
       "0   742.831095  668.778295   74.052800     None  0.099690  668.778295   \n",
       "1  1202.613429  693.814757  508.798672     None  0.423077  693.814757   \n",
       "2  1316.013873  816.290339  499.723534     None  0.379725  816.290339   \n",
       "3   753.207099  595.520610  157.686489     None  0.209353  595.520610   \n",
       "4  1757.922978  771.556565  986.366413     None  0.561098  771.556565   \n",
       "\n",
       "    SCAS_6_ppm     SCSS_Tot      SCAS_Tot  S6 in SCSS_Tot  S2 in SCAS_Tot  \n",
       "0  4667.688466   742.831095  46822.053180       74.052800    42154.364715  \n",
       "1  5550.225746  1202.613429  13118.697793      508.798672     7568.472048  \n",
       "2  5831.906748  1316.013873  15358.232432      499.723534     9526.325684  \n",
       "3  4284.375539   753.207099  20464.797555      157.686489    16180.422016  \n",
       "4  5015.924518  1757.922978   8939.486228      986.366413     3923.561711  "
      ]
     },
     "execution_count": 31,
     "metadata": {},
     "output_type": "execute_result"
    }
   ],
   "source": [
    "STot_MC=ss.calculate_S_Total_SCSS_SCAS(SCSS=SCSS_S2017_MC['SCSS2_ppm_ideal_Smythe2017'],\n",
    "                    SCAS=SCAS_ZT_MC['SCAS6_ppm'], S6St_Liq=noisy_ONeill_Fe_S6St['S6St_Liq'])\n",
    "STot_MC.head()                              "
   ]
  },
  {
   "cell_type": "markdown",
   "id": "79420411-0d14-4782-91c3-36868404061a",
   "metadata": {},
   "source": [
    "### Lets average this per sample"
   ]
  },
  {
   "cell_type": "code",
   "execution_count": 32,
   "id": "e2d38c9b-b79d-42c8-9be8-412ce66b3a8a",
   "metadata": {},
   "outputs": [
    {
     "data": {
      "text/html": [
       "<div>\n",
       "<style scoped>\n",
       "    .dataframe tbody tr th:only-of-type {\n",
       "        vertical-align: middle;\n",
       "    }\n",
       "\n",
       "    .dataframe tbody tr th {\n",
       "        vertical-align: top;\n",
       "    }\n",
       "\n",
       "    .dataframe thead th {\n",
       "        text-align: right;\n",
       "    }\n",
       "</style>\n",
       "<table border=\"1\" class=\"dataframe\">\n",
       "  <thead>\n",
       "    <tr style=\"text-align: right;\">\n",
       "      <th></th>\n",
       "      <th>Sample</th>\n",
       "      <th># averaged</th>\n",
       "      <th>Mean_calc</th>\n",
       "      <th>Median_calc</th>\n",
       "      <th>St_dev_calc</th>\n",
       "      <th>Max_calc</th>\n",
       "      <th>Min_calc</th>\n",
       "    </tr>\n",
       "  </thead>\n",
       "  <tbody>\n",
       "    <tr>\n",
       "      <th>0</th>\n",
       "      <td>BBL-5-32</td>\n",
       "      <td>5000</td>\n",
       "      <td>939.723032</td>\n",
       "      <td>809.354215</td>\n",
       "      <td>458.837618</td>\n",
       "      <td>6829.059255</td>\n",
       "      <td>324.629297</td>\n",
       "    </tr>\n",
       "    <tr>\n",
       "      <th>1</th>\n",
       "      <td>BBL-5-33</td>\n",
       "      <td>5000</td>\n",
       "      <td>4159.531884</td>\n",
       "      <td>4212.506846</td>\n",
       "      <td>1799.782003</td>\n",
       "      <td>10853.649400</td>\n",
       "      <td>538.316259</td>\n",
       "    </tr>\n",
       "    <tr>\n",
       "      <th>2</th>\n",
       "      <td>BBL-5-34</td>\n",
       "      <td>5000</td>\n",
       "      <td>1894.558243</td>\n",
       "      <td>1457.746510</td>\n",
       "      <td>1319.429651</td>\n",
       "      <td>10593.878482</td>\n",
       "      <td>416.160690</td>\n",
       "    </tr>\n",
       "    <tr>\n",
       "      <th>3</th>\n",
       "      <td>BBL-5-43</td>\n",
       "      <td>5000</td>\n",
       "      <td>2114.071905</td>\n",
       "      <td>1597.793314</td>\n",
       "      <td>1499.059952</td>\n",
       "      <td>10977.754221</td>\n",
       "      <td>476.794370</td>\n",
       "    </tr>\n",
       "    <tr>\n",
       "      <th>4</th>\n",
       "      <td>BBL-5-44</td>\n",
       "      <td>5000</td>\n",
       "      <td>989.873838</td>\n",
       "      <td>877.730471</td>\n",
       "      <td>434.769157</td>\n",
       "      <td>7004.135066</td>\n",
       "      <td>401.542281</td>\n",
       "    </tr>\n",
       "  </tbody>\n",
       "</table>\n",
       "</div>"
      ],
      "text/plain": [
       "     Sample  # averaged    Mean_calc  Median_calc  St_dev_calc      Max_calc  \\\n",
       "0  BBL-5-32        5000   939.723032   809.354215   458.837618   6829.059255   \n",
       "1  BBL-5-33        5000  4159.531884  4212.506846  1799.782003  10853.649400   \n",
       "2  BBL-5-34        5000  1894.558243  1457.746510  1319.429651  10593.878482   \n",
       "3  BBL-5-43        5000  2114.071905  1597.793314  1499.059952  10977.754221   \n",
       "4  BBL-5-44        5000   989.873838   877.730471   434.769157   7004.135066   \n",
       "\n",
       "     Min_calc  \n",
       "0  324.629297  \n",
       "1  538.316259  \n",
       "2  416.160690  \n",
       "3  476.794370  \n",
       "4  401.542281  "
      ]
     },
     "execution_count": 32,
     "metadata": {},
     "output_type": "execute_result"
    }
   ],
   "source": [
    "Stats_St=ss.av_noise_samples_series(calc=STot_MC['Total_S_ppm'], sampleID=df_noisy_abs['Sample_ID'])\n",
    "Stats_St.head()"
   ]
  },
  {
   "cell_type": "code",
   "execution_count": 42,
   "id": "fa8eec27-e515-44c6-a976-7bc097a71774",
   "metadata": {},
   "outputs": [
    {
     "data": {
      "text/html": [
       "<div>\n",
       "<style scoped>\n",
       "    .dataframe tbody tr th:only-of-type {\n",
       "        vertical-align: middle;\n",
       "    }\n",
       "\n",
       "    .dataframe tbody tr th {\n",
       "        vertical-align: top;\n",
       "    }\n",
       "\n",
       "    .dataframe thead th {\n",
       "        text-align: right;\n",
       "    }\n",
       "</style>\n",
       "<table border=\"1\" class=\"dataframe\">\n",
       "  <thead>\n",
       "    <tr style=\"text-align: right;\">\n",
       "      <th></th>\n",
       "      <th>Sample</th>\n",
       "      <th># averaged</th>\n",
       "      <th>Mean_calc</th>\n",
       "      <th>Median_calc</th>\n",
       "      <th>St_dev_calc</th>\n",
       "      <th>Max_calc</th>\n",
       "      <th>Min_calc</th>\n",
       "    </tr>\n",
       "  </thead>\n",
       "  <tbody>\n",
       "    <tr>\n",
       "      <th>0</th>\n",
       "      <td>BBL-5-32</td>\n",
       "      <td>5000</td>\n",
       "      <td>632.791265</td>\n",
       "      <td>628.465034</td>\n",
       "      <td>99.856522</td>\n",
       "      <td>1179.964202</td>\n",
       "      <td>291.367196</td>\n",
       "    </tr>\n",
       "    <tr>\n",
       "      <th>1</th>\n",
       "      <td>BBL-5-33</td>\n",
       "      <td>5000</td>\n",
       "      <td>686.612475</td>\n",
       "      <td>679.062157</td>\n",
       "      <td>108.804908</td>\n",
       "      <td>1157.189080</td>\n",
       "      <td>378.950111</td>\n",
       "    </tr>\n",
       "    <tr>\n",
       "      <th>2</th>\n",
       "      <td>BBL-5-34</td>\n",
       "      <td>5000</td>\n",
       "      <td>674.769703</td>\n",
       "      <td>669.303291</td>\n",
       "      <td>106.102421</td>\n",
       "      <td>1125.802125</td>\n",
       "      <td>365.854107</td>\n",
       "    </tr>\n",
       "    <tr>\n",
       "      <th>3</th>\n",
       "      <td>BBL-5-43</td>\n",
       "      <td>5000</td>\n",
       "      <td>721.976611</td>\n",
       "      <td>717.836005</td>\n",
       "      <td>109.039362</td>\n",
       "      <td>1247.248507</td>\n",
       "      <td>377.452183</td>\n",
       "    </tr>\n",
       "    <tr>\n",
       "      <th>4</th>\n",
       "      <td>BBL-5-44</td>\n",
       "      <td>5000</td>\n",
       "      <td>725.863209</td>\n",
       "      <td>719.838117</td>\n",
       "      <td>112.461105</td>\n",
       "      <td>1149.038988</td>\n",
       "      <td>391.995576</td>\n",
       "    </tr>\n",
       "  </tbody>\n",
       "</table>\n",
       "</div>"
      ],
      "text/plain": [
       "     Sample  # averaged   Mean_calc  Median_calc  St_dev_calc     Max_calc  \\\n",
       "0  BBL-5-32        5000  632.791265   628.465034    99.856522  1179.964202   \n",
       "1  BBL-5-33        5000  686.612475   679.062157   108.804908  1157.189080   \n",
       "2  BBL-5-34        5000  674.769703   669.303291   106.102421  1125.802125   \n",
       "3  BBL-5-43        5000  721.976611   717.836005   109.039362  1247.248507   \n",
       "4  BBL-5-44        5000  725.863209   719.838117   112.461105  1149.038988   \n",
       "\n",
       "     Min_calc  \n",
       "0  291.367196  \n",
       "1  378.950111  \n",
       "2  365.854107  \n",
       "3  377.452183  \n",
       "4  391.995576  "
      ]
     },
     "execution_count": 42,
     "metadata": {},
     "output_type": "execute_result"
    }
   ],
   "source": [
    "Stats_S6=ss.av_noise_samples_series(calc=STot_MC['SCAS_6_ppm'], sampleID=df_noisy_abs['Sample_ID'])\n",
    "Stats_S6.head()\n",
    "Stats_S2=ss.av_noise_samples_series(calc=STot_MC['SCSS_2_ppm'], sampleID=df_noisy_abs['Sample_ID'])\n",
    "Stats_S2.head()"
   ]
  },
  {
   "cell_type": "markdown",
   "id": "f8e2c80d-37a6-419e-8702-03de15114de3",
   "metadata": {},
   "source": [
    "## Lets calculate the STot using the measured S6/ST amount"
   ]
  },
  {
   "cell_type": "code",
   "execution_count": 43,
   "id": "c7051466-92be-4e4b-9a65-f2fd2f1db26e",
   "metadata": {},
   "outputs": [
    {
     "name": "stdout",
     "output_type": "stream",
     "text": [
      "Using inputted Fe_FeNiCu_Sulf ratio for calculations.\n",
      "no non ideal SCSS as no Cu/CuFeNiCu\n"
     ]
    },
    {
     "name": "stderr",
     "output_type": "stream",
     "text": [
      "g:\\my drive\\berkeley_new\\pysulfsat\\pysulfsat_structure\\src\\PySulfSat\\scas_calc.py:126: UserWarning: you entered a P_kbar, just be aware this function isnt actually pressure sensitive\n",
      "  w.warn('you entered a P_kbar, just be aware this function isnt actually pressure sensitive')\n",
      "C:\\Users\\penny\\anaconda3\\lib\\site-packages\\pandas\\core\\indexing.py:2120: FutureWarning: In a future version, the Index constructor will not infer numeric dtypes when passed object-dtype sequences (matching Series behavior)\n",
      "  new_ix = Index(new_ix)\n",
      "C:\\Users\\penny\\anaconda3\\lib\\site-packages\\pandas\\core\\indexing.py:2120: FutureWarning: In a future version, the Index constructor will not infer numeric dtypes when passed object-dtype sequences (matching Series behavior)\n",
      "  new_ix = Index(new_ix)\n",
      "C:\\Users\\penny\\anaconda3\\lib\\site-packages\\pandas\\core\\indexing.py:2120: FutureWarning: In a future version, the Index constructor will not infer numeric dtypes when passed object-dtype sequences (matching Series behavior)\n",
      "  new_ix = Index(new_ix)\n"
     ]
    },
    {
     "data": {
      "text/html": [
       "<div>\n",
       "<style scoped>\n",
       "    .dataframe tbody tr th:only-of-type {\n",
       "        vertical-align: middle;\n",
       "    }\n",
       "\n",
       "    .dataframe tbody tr th {\n",
       "        vertical-align: top;\n",
       "    }\n",
       "\n",
       "    .dataframe thead th {\n",
       "        text-align: right;\n",
       "    }\n",
       "</style>\n",
       "<table border=\"1\" class=\"dataframe\">\n",
       "  <thead>\n",
       "    <tr style=\"text-align: right;\">\n",
       "      <th></th>\n",
       "      <th>Total_S_ppm</th>\n",
       "      <th>S2_Tot_ppm</th>\n",
       "      <th>S6_Tot_ppm</th>\n",
       "      <th>deltaQFM</th>\n",
       "      <th>S6St_Liq</th>\n",
       "      <th>SCSS_2_ppm</th>\n",
       "      <th>SCAS_6_ppm</th>\n",
       "      <th>SCSS_Tot</th>\n",
       "      <th>SCAS_Tot</th>\n",
       "      <th>S6 in SCSS_Tot</th>\n",
       "      <th>S2 in SCAS_Tot</th>\n",
       "    </tr>\n",
       "  </thead>\n",
       "  <tbody>\n",
       "    <tr>\n",
       "      <th>0</th>\n",
       "      <td>2045.786001</td>\n",
       "      <td>625.153851</td>\n",
       "      <td>1420.632150</td>\n",
       "      <td>None</td>\n",
       "      <td>0.694419</td>\n",
       "      <td>625.153851</td>\n",
       "      <td>4364.741895</td>\n",
       "      <td>2045.786001</td>\n",
       "      <td>6285.460924</td>\n",
       "      <td>1420.632150</td>\n",
       "      <td>1920.719029</td>\n",
       "    </tr>\n",
       "    <tr>\n",
       "      <th>1</th>\n",
       "      <td>4840.565722</td>\n",
       "      <td>30.709456</td>\n",
       "      <td>4809.856266</td>\n",
       "      <td>None</td>\n",
       "      <td>0.993656</td>\n",
       "      <td>685.060485</td>\n",
       "      <td>4809.856266</td>\n",
       "      <td>107982.384252</td>\n",
       "      <td>4840.565722</td>\n",
       "      <td>107297.323767</td>\n",
       "      <td>30.709456</td>\n",
       "    </tr>\n",
       "    <tr>\n",
       "      <th>2</th>\n",
       "      <td>1076.254500</td>\n",
       "      <td>673.318103</td>\n",
       "      <td>402.936397</td>\n",
       "      <td>None</td>\n",
       "      <td>0.374388</td>\n",
       "      <td>673.318103</td>\n",
       "      <td>4977.354145</td>\n",
       "      <td>1076.254500</td>\n",
       "      <td>13294.653541</td>\n",
       "      <td>402.936397</td>\n",
       "      <td>8317.299396</td>\n",
       "    </tr>\n",
       "    <tr>\n",
       "      <th>3</th>\n",
       "      <td>955.162067</td>\n",
       "      <td>716.391457</td>\n",
       "      <td>238.770610</td>\n",
       "      <td>None</td>\n",
       "      <td>0.249979</td>\n",
       "      <td>716.391457</td>\n",
       "      <td>5478.824513</td>\n",
       "      <td>955.162067</td>\n",
       "      <td>21917.125172</td>\n",
       "      <td>238.770610</td>\n",
       "      <td>16438.300659</td>\n",
       "    </tr>\n",
       "    <tr>\n",
       "      <th>4</th>\n",
       "      <td>1093.450261</td>\n",
       "      <td>719.152091</td>\n",
       "      <td>374.298170</td>\n",
       "      <td>None</td>\n",
       "      <td>0.342309</td>\n",
       "      <td>719.152091</td>\n",
       "      <td>5359.471170</td>\n",
       "      <td>1093.450261</td>\n",
       "      <td>15656.809530</td>\n",
       "      <td>374.298170</td>\n",
       "      <td>10297.338360</td>\n",
       "    </tr>\n",
       "  </tbody>\n",
       "</table>\n",
       "</div>"
      ],
      "text/plain": [
       "   Total_S_ppm  S2_Tot_ppm   S6_Tot_ppm deltaQFM  S6St_Liq  SCSS_2_ppm  \\\n",
       "0  2045.786001  625.153851  1420.632150     None  0.694419  625.153851   \n",
       "1  4840.565722   30.709456  4809.856266     None  0.993656  685.060485   \n",
       "2  1076.254500  673.318103   402.936397     None  0.374388  673.318103   \n",
       "3   955.162067  716.391457   238.770610     None  0.249979  716.391457   \n",
       "4  1093.450261  719.152091   374.298170     None  0.342309  719.152091   \n",
       "\n",
       "    SCAS_6_ppm       SCSS_Tot      SCAS_Tot  S6 in SCSS_Tot  S2 in SCAS_Tot  \n",
       "0  4364.741895    2045.786001   6285.460924     1420.632150     1920.719029  \n",
       "1  4809.856266  107982.384252   4840.565722   107297.323767       30.709456  \n",
       "2  4977.354145    1076.254500  13294.653541      402.936397     8317.299396  \n",
       "3  5478.824513     955.162067  21917.125172      238.770610    16438.300659  \n",
       "4  5359.471170    1093.450261  15656.809530      374.298170    10297.338360  "
      ]
     },
     "execution_count": 43,
     "metadata": {},
     "output_type": "execute_result"
    }
   ],
   "source": [
    "df_out['S6St']=df_out['S6+/∑S']\n",
    "df_out.loc[df_out['S6+/∑S']>1]=1\n",
    "SCSS_S2017=ss.calculate_S2017_SCSS(df=df_out, T_K=Temp_3, Fe_FeNiCu_Sulf=0.634,\n",
    "                                   P_kbar=5)\n",
    "                                   \n",
    "\n",
    "SCAS_ZT=ss.calculate_ZT2022_SCAS(df=df_out, T_K=Temp_3,\n",
    "                                   P_kbar=5)\n",
    "                                  \n",
    "STot=ss.calculate_S_Total_SCSS_SCAS(SCSS=SCSS_S2017['SCSS2_ppm_ideal_Smythe2017'],\n",
    "                    SCAS=SCAS_ZT['SCAS6_ppm'], S6St_Liq=df_out['S6+/∑S'])\n",
    "STot.head()"
   ]
  },
  {
   "cell_type": "code",
   "execution_count": 46,
   "id": "fd5a6d35-930b-4362-9317-be3628b2ac8a",
   "metadata": {},
   "outputs": [
    {
     "data": {
      "image/png": "[encoded data removed]",
      "text/plain": [
       "<Figure size 1200x500 with 3 Axes>"
      ]
     },
     "metadata": {},
     "output_type": "display_data"
    }
   ],
   "source": [
    "fig, (ax1, ax2, ax3) = plt.subplots(1, 3, figsize=(12,5))\n",
    "\n",
    "ax1.errorbar(S_types['S_ppm'],\n",
    "         Stats_St['Mean_calc'], xerr=0, yerr=Stats_St['St_dev_calc'],\n",
    "             fmt='d', ecolor='k', elinewidth=0.8, mfc='cyan', ms=10, mec='k', capsize=5)\n",
    "ax1.plot([500, 3000], [500, 3000], '-k')\n",
    "ax2.plot([500, 3000], [500, 3000], '-k')\n",
    "ax1.set_xlabel('Measured S (ppm)')\n",
    "ax1.set_ylabel('S Total (SCSS+SCAS)')\n",
    "\n",
    "\n",
    "  \n",
    "    \n",
    "ax2.errorbar((df_out['S6+/∑S'])*S_types['S_ppm'],\n",
    "         Stats_S6['Mean_calc'], xerr=0, yerr=Stats_S6['St_dev_calc'],\n",
    "             fmt='d', ecolor='k', elinewidth=0.8, mfc='cyan', ms=10, mec='k', capsize=5)\n",
    "        \n",
    "\n",
    "ax2.plot([0, 6000], [0, 6000], '-r')\n",
    "ax2.set_xlabel('S6+ measured in melt')\n",
    "ax2.set_ylabel('SCAS ZT22')\n",
    "\n",
    "ax3.errorbar((1-(df_out['S6+/∑S']))*S_types['S_ppm'],\n",
    "         Stats_S2['Mean_calc'], xerr=0, yerr=Stats_S2['St_dev_calc'],\n",
    "             fmt='d', ecolor='k', elinewidth=0.8, mfc='cyan', ms=10, mec='k', capsize=5)\n",
    " \n",
    "\n",
    "ax3.plot([0, 800], [0, 800], '-r')\n",
    "ax3.set_xlabel('S2- measured in melt')\n",
    "ax3.set_ylabel('SCSS S2017')\n",
    "ax1.annotate(\"S-saturated\", xy=(0.5, 0.01), xycoords=\"axes fraction\", fontsize=10)\n",
    "ax1.annotate(\"S undersaturated\", xy=(0.5, 0.95), xycoords=\"axes fraction\", fontsize=10)\n",
    "\n",
    "\n",
    "ax2.annotate(\"Supersaturated in S6\", xy=(0.3, 0.05), xycoords=\"axes fraction\", fontsize=10)\n",
    "ax2.annotate(\"Undersaturated in S6\", xy=(0.3, 0.9), xycoords=\"axes fraction\", fontsize=10)\n",
    "\n",
    "ax3.annotate(\"Supersaturated in S2\", xy=(0.3, 0.05), xycoords=\"axes fraction\", fontsize=10)\n",
    "ax3.annotate(\"Undersaturated in S2\", xy=(0.3, 0.9), xycoords=\"axes fraction\", fontsize=10)\n",
    "\n",
    "fig.tight_layout()"
   ]
  }
 ],
 "metadata": {
  "kernelspec": {
   "display_name": "Python 3 (ipykernel)",
   "language": "python",
   "name": "python3"
  },
  "language_info": {
   "codemirror_mode": {
    "name": "ipython",
    "version": 3
   },
   "file_extension": ".py",
   "mimetype": "text/x-python",
   "name": "python",
   "nbconvert_exporter": "python",
   "pygments_lexer": "ipython3",
   "version": "3.9.13"
  }
 },
 "nbformat": 4,
 "nbformat_minor": 5
}
