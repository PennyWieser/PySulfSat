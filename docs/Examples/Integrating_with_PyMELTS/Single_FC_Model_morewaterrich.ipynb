{
 "cells": [
  {
   "cell_type": "markdown",
   "id": "4415c7c1-2939-47db-b93f-0870a07acce3",
   "metadata": {
    "tags": []
   },
   "source": [
    "# Integrating PySulfSat with PyMELTScalc\n",
    "- This notebook can perform MELTS calculations, and then go onto calculate the SCSS and SCAS within a single notebook!\n",
    "- It relies on the python MELTS architecture developed by Paula Antoshechkin at Caltech, and fractional crystallization functions written by Matthew Gleeson at UC Berkeley\n",
    "- In addition to installing PySulfSat you will need to first download the MELTS python infrastructure from this website (https://magmasource.caltech.edu/gitlist/MELTS_Matlab.git/), and then the PyMELTScalc code by uncommenting below\n",
    "- More information can be found here: https://github.com/gleesonm1/pyMELTScalc\n",
    "You can download the excel spreadsheet with the compositions here:\n",
    "- https://github.com/PennyWieser/PySulfSat/blob/main/docs/Examples/Integrating_with_PyMELTS/Glass_input_example.xlsx"
   ]
  },
  {
   "cell_type": "markdown",
   "id": "c2cb28dc-6c70-4c2b-ac20-896475b1cb0f",
   "metadata": {},
   "source": [
    "## If you havent done so already, you need to pip install PySulfSat\n",
    "- Do this by removing the #. You only need to do this once per computer. After your initial installation, you will want to upgrade instead using the second command\n"
   ]
  },
  {
   "cell_type": "code",
   "execution_count": 1,
   "id": "5a409b70-70c7-4cbf-b4fb-1d3e15911ae1",
   "metadata": {},
   "outputs": [],
   "source": [
    "#!pip install PySulfSat\n",
    "#!pip install PySulfSat --upgrade"
   ]
  },
  {
   "cell_type": "markdown",
   "id": "96061177-bbfa-487b-a5d1-0de57b9e3f53",
   "metadata": {},
   "source": [
    "## Now you need to append the path to your local MELTS installation"
   ]
  },
  {
   "cell_type": "code",
   "execution_count": 2,
   "id": "158cf30d-8a3a-4d47-953f-d18d36c69484",
   "metadata": {},
   "outputs": [],
   "source": [
    "import sys\n",
    "sys.path.append(r'G:\\My Drive\\Berkeley_NEW\\MELTS_python_Paula\\melts_matlab_git_master\\package')"
   ]
  },
  {
   "cell_type": "markdown",
   "id": "d186d713-6500-4134-bcf6-3057bcde4b24",
   "metadata": {},
   "source": [
    "## And now you need to download the PyMELTScalc code by uncommenting this line\n",
    "- you will need to be on at least 0.1.3 to get the logfo2 output needed here"
   ]
  },
  {
   "cell_type": "code",
   "execution_count": 3,
   "id": "971bbab3-362c-400d-a91f-d91872a56cc1",
   "metadata": {},
   "outputs": [],
   "source": [
    "#!pip install \"https://github.com/gleesonm1/pyMELTScalc/archive/refs/tags/v0.1.5.zip\""
   ]
  },
  {
   "cell_type": "code",
   "execution_count": 4,
   "id": "ef1cef0c-cdd2-43a3-b4b8-6e1febecdade",
   "metadata": {},
   "outputs": [],
   "source": [
    "import numpy as np\n",
    "import pandas as pd\n",
    "import matplotlib.pyplot as plt\n",
    "import PySulfSat as ss\n",
    "import pyMELTScalc as M"
   ]
  },
  {
   "cell_type": "code",
   "execution_count": 5,
   "id": "dc58e7ba-fcd0-4c8b-ad2e-a6b44596113f",
   "metadata": {},
   "outputs": [],
   "source": [
    "### Use these version numbers when communicating problems to Penny (ss) and Matt (M.)"
   ]
  },
  {
   "cell_type": "code",
   "execution_count": 6,
   "id": "175e078f-460b-4582-978e-0da465d5ca42",
   "metadata": {},
   "outputs": [
    {
     "data": {
      "text/plain": [
       "'1.0.3'"
      ]
     },
     "execution_count": 6,
     "metadata": {},
     "output_type": "execute_result"
    }
   ],
   "source": [
    "ss.__version__"
   ]
  },
  {
   "cell_type": "code",
   "execution_count": 7,
   "id": "4128d3bb-fede-463c-a6d3-dd44e0a38dfe",
   "metadata": {},
   "outputs": [
    {
     "data": {
      "text/plain": [
       "'0.1.22'"
      ]
     },
     "execution_count": 7,
     "metadata": {},
     "output_type": "execute_result"
    }
   ],
   "source": [
    "M.__version__"
   ]
  },
  {
   "cell_type": "markdown",
   "id": "fd12f034-fc88-4f5c-bf12-8fc84e0a487c",
   "metadata": {},
   "source": [
    "## Import data\n",
    "- Here, we load in some glass EPMA data, and then start a MELTS model from the first row in the loaded spreadsheet"
   ]
  },
  {
   "cell_type": "code",
   "execution_count": 8,
   "id": "2542acaf-7427-4220-8ff1-da7ac6b0aeec",
   "metadata": {},
   "outputs": [
    {
     "name": "stdout",
     "output_type": "stream",
     "text": [
      "We have replaced all missing liquid oxides and strings with zeros. \n"
     ]
    }
   ],
   "source": [
    "df_out2=ss.import_data('Glass_input_example.xlsx', sheet_name='Glass_input', \n",
    "                       suffix=\"_Liq\")\n",
    "df_out2.head()\n",
    "# Selecting a single composition to start the model from\n",
    "sample=df_out2.iloc[0]"
   ]
  },
  {
   "cell_type": "code",
   "execution_count": 28,
   "id": "166c7a46",
   "metadata": {},
   "outputs": [
    {
     "name": "stderr",
     "output_type": "stream",
     "text": [
      "C:\\Users\\penny\\AppData\\Local\\Temp\\ipykernel_35280\\1013426354.py:1: SettingWithCopyWarning: \n",
      "A value is trying to be set on a copy of a slice from a DataFrame\n",
      "\n",
      "See the caveats in the documentation: https://pandas.pydata.org/pandas-docs/stable/user_guide/indexing.html#returning-a-view-versus-a-copy\n",
      "  sample['CO2_Liq']=0.05\n",
      "C:\\Users\\penny\\AppData\\Local\\Temp\\ipykernel_35280\\1013426354.py:2: SettingWithCopyWarning: \n",
      "A value is trying to be set on a copy of a slice from a DataFrame\n",
      "\n",
      "See the caveats in the documentation: https://pandas.pydata.org/pandas-docs/stable/user_guide/indexing.html#returning-a-view-versus-a-copy\n",
      "  sample['H2O_Liq']=4\n"
     ]
    }
   ],
   "source": [
    "sample['CO2_Liq']=0.05\n",
    "sample['H2O_Liq']=4"
   ]
  },
  {
   "cell_type": "markdown",
   "id": "7520ed5c-150e-4aeb-a0ab-70cc8486948e",
   "metadata": {},
   "source": [
    "## Using PyMELTScalc\n",
    "- Here we initiate a melts fractional crystallizatoin model, see the documentation for that package for more information"
   ]
  },
  {
   "cell_type": "code",
   "execution_count": 29,
   "id": "6a353cd4-137f-4c15-9a23-25cbd61f7968",
   "metadata": {},
   "outputs": [
    {
     "name": "stdout",
     "output_type": "stream",
     "text": [
      "Running MELTSv1.2.0 calculation... Complete (time taken = 25.41 seconds)"
     ]
    }
   ],
   "source": [
    "P=3000\n",
    "MELTS_FC=M.multi_path(Model = \"MELTSv1.2.0\", \n",
    "                        Fe3Fet_Liq=0.1,\n",
    "                          H2O_Liq=6,\n",
    "                        bulk = sample.to_dict(), \n",
    "                        Frac_solid = True, \n",
    "                        Frac_fluid = True, \n",
    "                        find_liquidus = True,\n",
    "                        T_end_C = 750, \n",
    "                        dt_C = 5, \n",
    "                        P_bar = P, \n",
    "                        )"
   ]
  },
  {
   "cell_type": "markdown",
   "id": "45b06228-ab78-4605-a4a5-3fb5c9b8b00e",
   "metadata": {},
   "source": [
    "### Inspecting the outputs from this function"
   ]
  },
  {
   "cell_type": "code",
   "execution_count": 30,
   "id": "10687e94-9ba5-4a7d-aec9-b128e9aa6828",
   "metadata": {},
   "outputs": [
    {
     "data": {
      "text/html": [
       "<div>\n",
       "<style scoped>\n",
       "    .dataframe tbody tr th:only-of-type {\n",
       "        vertical-align: middle;\n",
       "    }\n",
       "\n",
       "    .dataframe tbody tr th {\n",
       "        vertical-align: top;\n",
       "    }\n",
       "\n",
       "    .dataframe thead th {\n",
       "        text-align: right;\n",
       "    }\n",
       "</style>\n",
       "<table border=\"1\" class=\"dataframe\">\n",
       "  <thead>\n",
       "    <tr style=\"text-align: right;\">\n",
       "      <th></th>\n",
       "      <th>T_C</th>\n",
       "      <th>P_bar</th>\n",
       "      <th>h</th>\n",
       "      <th>s</th>\n",
       "      <th>v</th>\n",
       "      <th>dvdp</th>\n",
       "      <th>logfO2</th>\n",
       "      <th>SiO2_Liq</th>\n",
       "      <th>TiO2_Liq</th>\n",
       "      <th>Al2O3_Liq</th>\n",
       "      <th>...</th>\n",
       "      <th>Na2O_Rhm</th>\n",
       "      <th>K2O_Rhm</th>\n",
       "      <th>P2O5_Rhm</th>\n",
       "      <th>H2O_Rhm</th>\n",
       "      <th>CO2_Rhm</th>\n",
       "      <th>Fe3Fet_Rhm</th>\n",
       "      <th>h_Rhm</th>\n",
       "      <th>mass_Rhm</th>\n",
       "      <th>v_Rhm</th>\n",
       "      <th>rho_Rhm</th>\n",
       "    </tr>\n",
       "  </thead>\n",
       "  <tbody>\n",
       "    <tr>\n",
       "      <th>0</th>\n",
       "      <td>1114.350000</td>\n",
       "      <td>3000.0</td>\n",
       "      <td>-1.180434e+06</td>\n",
       "      <td>300.380618</td>\n",
       "      <td>41.270871</td>\n",
       "      <td>-0.000247</td>\n",
       "      <td>-10.105988</td>\n",
       "      <td>47.594664</td>\n",
       "      <td>1.925438</td>\n",
       "      <td>12.394541</td>\n",
       "      <td>...</td>\n",
       "      <td>NaN</td>\n",
       "      <td>NaN</td>\n",
       "      <td>NaN</td>\n",
       "      <td>NaN</td>\n",
       "      <td>NaN</td>\n",
       "      <td>NaN</td>\n",
       "      <td>0.0</td>\n",
       "      <td>0.0</td>\n",
       "      <td>0.0</td>\n",
       "      <td>0.0</td>\n",
       "    </tr>\n",
       "    <tr>\n",
       "      <th>1</th>\n",
       "      <td>1109.358904</td>\n",
       "      <td>3000.0</td>\n",
       "      <td>-1.180992e+06</td>\n",
       "      <td>299.457100</td>\n",
       "      <td>41.167035</td>\n",
       "      <td>-0.000298</td>\n",
       "      <td>-10.277419</td>\n",
       "      <td>47.743488</td>\n",
       "      <td>1.860564</td>\n",
       "      <td>12.414081</td>\n",
       "      <td>...</td>\n",
       "      <td>NaN</td>\n",
       "      <td>NaN</td>\n",
       "      <td>NaN</td>\n",
       "      <td>NaN</td>\n",
       "      <td>NaN</td>\n",
       "      <td>NaN</td>\n",
       "      <td>0.0</td>\n",
       "      <td>0.0</td>\n",
       "      <td>0.0</td>\n",
       "      <td>0.0</td>\n",
       "    </tr>\n",
       "    <tr>\n",
       "      <th>2</th>\n",
       "      <td>1104.367808</td>\n",
       "      <td>3000.0</td>\n",
       "      <td>-1.179804e+06</td>\n",
       "      <td>298.146613</td>\n",
       "      <td>41.067850</td>\n",
       "      <td>-0.000297</td>\n",
       "      <td>-10.451044</td>\n",
       "      <td>47.888106</td>\n",
       "      <td>1.797419</td>\n",
       "      <td>12.432960</td>\n",
       "      <td>...</td>\n",
       "      <td>NaN</td>\n",
       "      <td>NaN</td>\n",
       "      <td>NaN</td>\n",
       "      <td>NaN</td>\n",
       "      <td>NaN</td>\n",
       "      <td>NaN</td>\n",
       "      <td>0.0</td>\n",
       "      <td>0.0</td>\n",
       "      <td>0.0</td>\n",
       "      <td>0.0</td>\n",
       "    </tr>\n",
       "    <tr>\n",
       "      <th>3</th>\n",
       "      <td>1099.376712</td>\n",
       "      <td>3000.0</td>\n",
       "      <td>-1.178664e+06</td>\n",
       "      <td>296.860348</td>\n",
       "      <td>40.970874</td>\n",
       "      <td>-0.000297</td>\n",
       "      <td>-10.625504</td>\n",
       "      <td>48.026674</td>\n",
       "      <td>1.736758</td>\n",
       "      <td>12.450936</td>\n",
       "      <td>...</td>\n",
       "      <td>NaN</td>\n",
       "      <td>NaN</td>\n",
       "      <td>NaN</td>\n",
       "      <td>NaN</td>\n",
       "      <td>NaN</td>\n",
       "      <td>NaN</td>\n",
       "      <td>0.0</td>\n",
       "      <td>0.0</td>\n",
       "      <td>0.0</td>\n",
       "      <td>0.0</td>\n",
       "    </tr>\n",
       "    <tr>\n",
       "      <th>4</th>\n",
       "      <td>1094.385616</td>\n",
       "      <td>3000.0</td>\n",
       "      <td>-1.177609e+06</td>\n",
       "      <td>295.609687</td>\n",
       "      <td>40.877323</td>\n",
       "      <td>-0.000297</td>\n",
       "      <td>-10.800832</td>\n",
       "      <td>48.159540</td>\n",
       "      <td>1.678433</td>\n",
       "      <td>12.468063</td>\n",
       "      <td>...</td>\n",
       "      <td>NaN</td>\n",
       "      <td>NaN</td>\n",
       "      <td>NaN</td>\n",
       "      <td>NaN</td>\n",
       "      <td>NaN</td>\n",
       "      <td>NaN</td>\n",
       "      <td>0.0</td>\n",
       "      <td>0.0</td>\n",
       "      <td>0.0</td>\n",
       "      <td>0.0</td>\n",
       "    </tr>\n",
       "  </tbody>\n",
       "</table>\n",
       "<p>5 rows × 167 columns</p>\n",
       "</div>"
      ],
      "text/plain": [
       "           T_C   P_bar             h           s          v      dvdp  \\\n",
       "0  1114.350000  3000.0 -1.180434e+06  300.380618  41.270871 -0.000247   \n",
       "1  1109.358904  3000.0 -1.180992e+06  299.457100  41.167035 -0.000298   \n",
       "2  1104.367808  3000.0 -1.179804e+06  298.146613  41.067850 -0.000297   \n",
       "3  1099.376712  3000.0 -1.178664e+06  296.860348  40.970874 -0.000297   \n",
       "4  1094.385616  3000.0 -1.177609e+06  295.609687  40.877323 -0.000297   \n",
       "\n",
       "      logfO2   SiO2_Liq  TiO2_Liq  Al2O3_Liq  ...  Na2O_Rhm  K2O_Rhm  \\\n",
       "0 -10.105988  47.594664  1.925438  12.394541  ...       NaN      NaN   \n",
       "1 -10.277419  47.743488  1.860564  12.414081  ...       NaN      NaN   \n",
       "2 -10.451044  47.888106  1.797419  12.432960  ...       NaN      NaN   \n",
       "3 -10.625504  48.026674  1.736758  12.450936  ...       NaN      NaN   \n",
       "4 -10.800832  48.159540  1.678433  12.468063  ...       NaN      NaN   \n",
       "\n",
       "   P2O5_Rhm  H2O_Rhm  CO2_Rhm  Fe3Fet_Rhm  h_Rhm  mass_Rhm  v_Rhm  rho_Rhm  \n",
       "0       NaN      NaN      NaN         NaN    0.0       0.0    0.0      0.0  \n",
       "1       NaN      NaN      NaN         NaN    0.0       0.0    0.0      0.0  \n",
       "2       NaN      NaN      NaN         NaN    0.0       0.0    0.0      0.0  \n",
       "3       NaN      NaN      NaN         NaN    0.0       0.0    0.0      0.0  \n",
       "4       NaN      NaN      NaN         NaN    0.0       0.0    0.0      0.0  \n",
       "\n",
       "[5 rows x 167 columns]"
      ]
     },
     "execution_count": 30,
     "metadata": {},
     "output_type": "execute_result"
    }
   ],
   "source": [
    "MELTS=MELTS_FC['All']\n",
    "MELTS.head()"
   ]
  },
  {
   "cell_type": "code",
   "execution_count": 31,
   "id": "cce34efe",
   "metadata": {},
   "outputs": [
    {
     "data": {
      "text/plain": [
       "Text(0, 0.5, 'Mass Frac XH2O')"
      ]
     },
     "execution_count": 31,
     "metadata": {},
     "output_type": "execute_result"
    },
    {
     "data": {
      "image/png": "[encoded data removed]",
      "text/plain": [
       "<Figure size 640x480 with 1 Axes>"
      ]
     },
     "metadata": {},
     "output_type": "display_data"
    }
   ],
   "source": [
    "plt.plot(MELTS['SiO2_Liq'], MELTS['H2O_fluid1']/ (MELTS['H2O_fluid1']+MELTS['CO2_fluid1']), 'ok')\n",
    "plt.xlabel('SiO2')\n",
    "plt.ylabel('Mass Frac XH2O')"
   ]
  },
  {
   "cell_type": "code",
   "execution_count": 26,
   "id": "5a3f507b",
   "metadata": {},
   "outputs": [
    {
     "data": {
      "text/plain": [
       "Text(0.5, 0, 'SiO2')"
      ]
     },
     "execution_count": 26,
     "metadata": {},
     "output_type": "execute_result"
    },
    {
     "data": {
      "image/png": "[encoded data removed]",
      "text/plain": [
       "<Figure size 640x480 with 1 Axes>"
      ]
     },
     "metadata": {},
     "output_type": "display_data"
    }
   ],
   "source": [
    "plt.plot(MELTS['SiO2_Liq'], MELTS['H2O_Liq'], 'ok')\n",
    "plt.xlabel('SiO2')"
   ]
  },
  {
   "cell_type": "code",
   "execution_count": 27,
   "id": "11d7f76f",
   "metadata": {},
   "outputs": [
    {
     "data": {
      "text/plain": [
       "Text(0.5, 0, 'SiO2')"
      ]
     },
     "execution_count": 27,
     "metadata": {},
     "output_type": "execute_result"
    },
    {
     "data": {
      "image/png": "[encoded data removed]",
      "text/plain": [
       "<Figure size 640x480 with 1 Axes>"
      ]
     },
     "metadata": {},
     "output_type": "display_data"
    }
   ],
   "source": [
    "plt.plot(MELTS['SiO2_Liq'], MELTS['CO2_Liq'], 'ok')\n",
    "plt.xlabel('SiO2')"
   ]
  },
  {
   "cell_type": "markdown",
   "id": "482e8982-fdb1-40c8-8b75-3bbb5168fd6c",
   "metadata": {},
   "source": [
    "## Lets see what phases it crystallized.."
   ]
  },
  {
   "cell_type": "code",
   "execution_count": 15,
   "id": "389963be-fe73-41b1-a2f1-444ccd0e706e",
   "metadata": {},
   "outputs": [
    {
     "data": {
      "text/plain": [
       "Index(['SiO2_Liq', 'SiO2_Cpx', 'SiO2_Plag', 'SiO2_Cpx2', 'SiO2_clinopyroxene3',\n",
       "       'SiO2_Rhm', 'SiO2_Sp', 'SiO2_Ol', 'SiO2_whitlockite1'],\n",
       "      dtype='object')"
      ]
     },
     "execution_count": 15,
     "metadata": {},
     "output_type": "execute_result"
    }
   ],
   "source": [
    "# Lets see what phases we have!\n",
    "MELTS.columns[MELTS.columns.str.contains('SiO2')]"
   ]
  },
  {
   "cell_type": "markdown",
   "id": "91db853b-d5b8-4cd1-8fde-7274252472f3",
   "metadata": {},
   "source": [
    "## Calculate SCSS using Li and Zhang 2022"
   ]
  },
  {
   "cell_type": "code",
   "execution_count": 16,
   "id": "44a69904-92a4-4126-8cbe-4c8bf73ddf7c",
   "metadata": {},
   "outputs": [
    {
     "name": "stdout",
     "output_type": "stream",
     "text": [
      "Using inputted Fe_FeNiCu_Sulf ratio for calculations.\n",
      "replacing Fe3Fet_Liq in the original dataframe with that input into the function\n"
     ]
    },
    {
     "data": {
      "text/html": [
       "<div>\n",
       "<style scoped>\n",
       "    .dataframe tbody tr th:only-of-type {\n",
       "        vertical-align: middle;\n",
       "    }\n",
       "\n",
       "    .dataframe tbody tr th {\n",
       "        vertical-align: top;\n",
       "    }\n",
       "\n",
       "    .dataframe thead th {\n",
       "        text-align: right;\n",
       "    }\n",
       "</style>\n",
       "<table border=\"1\" class=\"dataframe\">\n",
       "  <thead>\n",
       "    <tr style=\"text-align: right;\">\n",
       "      <th></th>\n",
       "      <th>SCSS_Tot</th>\n",
       "      <th>T_C</th>\n",
       "      <th>P_bar</th>\n",
       "      <th>h</th>\n",
       "      <th>s</th>\n",
       "      <th>v</th>\n",
       "      <th>dvdp</th>\n",
       "      <th>logfO2</th>\n",
       "      <th>SiO2_Liq</th>\n",
       "      <th>TiO2_Liq</th>\n",
       "      <th>...</th>\n",
       "      <th>Al_cat</th>\n",
       "      <th>Fe_cat</th>\n",
       "      <th>Mn_cat</th>\n",
       "      <th>Mg_cat</th>\n",
       "      <th>Ca_cat</th>\n",
       "      <th>Na_cat</th>\n",
       "      <th>K_cat</th>\n",
       "      <th>P_cat</th>\n",
       "      <th>H_cat</th>\n",
       "      <th>Fe3_cat</th>\n",
       "    </tr>\n",
       "  </thead>\n",
       "  <tbody>\n",
       "    <tr>\n",
       "      <th>0</th>\n",
       "      <td>1104.020071</td>\n",
       "      <td>1179.700000</td>\n",
       "      <td>1000.0</td>\n",
       "      <td>-1.180676e+06</td>\n",
       "      <td>264.191326</td>\n",
       "      <td>36.590693</td>\n",
       "      <td>-0.000215</td>\n",
       "      <td>-9.490050</td>\n",
       "      <td>50.386348</td>\n",
       "      <td>2.038376</td>\n",
       "      <td>...</td>\n",
       "      <td>0.146193</td>\n",
       "      <td>0.094161</td>\n",
       "      <td>0.002000</td>\n",
       "      <td>0.092647</td>\n",
       "      <td>0.114037</td>\n",
       "      <td>0.045247</td>\n",
       "      <td>0.002953</td>\n",
       "      <td>0.001500</td>\n",
       "      <td>0.0</td>\n",
       "      <td>0.010448</td>\n",
       "    </tr>\n",
       "    <tr>\n",
       "      <th>1</th>\n",
       "      <td>1075.573818</td>\n",
       "      <td>1174.703488</td>\n",
       "      <td>1000.0</td>\n",
       "      <td>-1.182433e+06</td>\n",
       "      <td>262.979871</td>\n",
       "      <td>36.447230</td>\n",
       "      <td>-0.000177</td>\n",
       "      <td>-9.552640</td>\n",
       "      <td>50.364941</td>\n",
       "      <td>2.079988</td>\n",
       "      <td>...</td>\n",
       "      <td>0.148888</td>\n",
       "      <td>0.095228</td>\n",
       "      <td>0.002055</td>\n",
       "      <td>0.089173</td>\n",
       "      <td>0.111965</td>\n",
       "      <td>0.046377</td>\n",
       "      <td>0.003034</td>\n",
       "      <td>0.001541</td>\n",
       "      <td>0.0</td>\n",
       "      <td>0.010484</td>\n",
       "    </tr>\n",
       "    <tr>\n",
       "      <th>2</th>\n",
       "      <td>1090.295125</td>\n",
       "      <td>1169.706977</td>\n",
       "      <td>1000.0</td>\n",
       "      <td>-1.152237e+06</td>\n",
       "      <td>255.137742</td>\n",
       "      <td>35.448118</td>\n",
       "      <td>-0.000142</td>\n",
       "      <td>-9.604277</td>\n",
       "      <td>50.329109</td>\n",
       "      <td>2.182603</td>\n",
       "      <td>...</td>\n",
       "      <td>0.147465</td>\n",
       "      <td>0.098863</td>\n",
       "      <td>0.002176</td>\n",
       "      <td>0.087043</td>\n",
       "      <td>0.108845</td>\n",
       "      <td>0.047420</td>\n",
       "      <td>0.003201</td>\n",
       "      <td>0.001631</td>\n",
       "      <td>0.0</td>\n",
       "      <td>0.010803</td>\n",
       "    </tr>\n",
       "    <tr>\n",
       "      <th>3</th>\n",
       "      <td>1105.971498</td>\n",
       "      <td>1164.710465</td>\n",
       "      <td>1000.0</td>\n",
       "      <td>-1.085778e+06</td>\n",
       "      <td>241.015439</td>\n",
       "      <td>33.494277</td>\n",
       "      <td>-0.000138</td>\n",
       "      <td>-9.652070</td>\n",
       "      <td>50.283779</td>\n",
       "      <td>2.287906</td>\n",
       "      <td>...</td>\n",
       "      <td>0.146002</td>\n",
       "      <td>0.102486</td>\n",
       "      <td>0.002300</td>\n",
       "      <td>0.084862</td>\n",
       "      <td>0.105896</td>\n",
       "      <td>0.048407</td>\n",
       "      <td>0.003372</td>\n",
       "      <td>0.001724</td>\n",
       "      <td>0.0</td>\n",
       "      <td>0.011143</td>\n",
       "    </tr>\n",
       "    <tr>\n",
       "      <th>4</th>\n",
       "      <td>1122.831947</td>\n",
       "      <td>1159.713953</td>\n",
       "      <td>1000.0</td>\n",
       "      <td>-1.024749e+06</td>\n",
       "      <td>228.018965</td>\n",
       "      <td>31.695317</td>\n",
       "      <td>-0.000133</td>\n",
       "      <td>-9.696135</td>\n",
       "      <td>50.227892</td>\n",
       "      <td>2.397216</td>\n",
       "      <td>...</td>\n",
       "      <td>0.144479</td>\n",
       "      <td>0.106107</td>\n",
       "      <td>0.002430</td>\n",
       "      <td>0.082593</td>\n",
       "      <td>0.103140</td>\n",
       "      <td>0.049345</td>\n",
       "      <td>0.003548</td>\n",
       "      <td>0.001821</td>\n",
       "      <td>0.0</td>\n",
       "      <td>0.011508</td>\n",
       "    </tr>\n",
       "  </tbody>\n",
       "</table>\n",
       "<p>5 rows × 223 columns</p>\n",
       "</div>"
      ],
      "text/plain": [
       "      SCSS_Tot          T_C   P_bar             h           s          v  \\\n",
       "0  1104.020071  1179.700000  1000.0 -1.180676e+06  264.191326  36.590693   \n",
       "1  1075.573818  1174.703488  1000.0 -1.182433e+06  262.979871  36.447230   \n",
       "2  1090.295125  1169.706977  1000.0 -1.152237e+06  255.137742  35.448118   \n",
       "3  1105.971498  1164.710465  1000.0 -1.085778e+06  241.015439  33.494277   \n",
       "4  1122.831947  1159.713953  1000.0 -1.024749e+06  228.018965  31.695317   \n",
       "\n",
       "       dvdp    logfO2   SiO2_Liq  TiO2_Liq  ...    Al_cat    Fe_cat    Mn_cat  \\\n",
       "0 -0.000215 -9.490050  50.386348  2.038376  ...  0.146193  0.094161  0.002000   \n",
       "1 -0.000177 -9.552640  50.364941  2.079988  ...  0.148888  0.095228  0.002055   \n",
       "2 -0.000142 -9.604277  50.329109  2.182603  ...  0.147465  0.098863  0.002176   \n",
       "3 -0.000138 -9.652070  50.283779  2.287906  ...  0.146002  0.102486  0.002300   \n",
       "4 -0.000133 -9.696135  50.227892  2.397216  ...  0.144479  0.106107  0.002430   \n",
       "\n",
       "     Mg_cat    Ca_cat    Na_cat     K_cat     P_cat  H_cat   Fe3_cat  \n",
       "0  0.092647  0.114037  0.045247  0.002953  0.001500    0.0  0.010448  \n",
       "1  0.089173  0.111965  0.046377  0.003034  0.001541    0.0  0.010484  \n",
       "2  0.087043  0.108845  0.047420  0.003201  0.001631    0.0  0.010803  \n",
       "3  0.084862  0.105896  0.048407  0.003372  0.001724    0.0  0.011143  \n",
       "4  0.082593  0.103140  0.049345  0.003548  0.001821    0.0  0.011508  \n",
       "\n",
       "[5 rows x 223 columns]"
      ]
     },
     "execution_count": 16,
     "metadata": {},
     "output_type": "execute_result"
    }
   ],
   "source": [
    "LiZhang22=ss.calculate_LiZhang2022_SCSS(df=MELTS, T_K=MELTS['T_C']+273.15, \n",
    "P_kbar=P/1000, \n",
    "H2O_Liq=MELTS['H2O_Liq'], Fe_FeNiCu_Sulf=0.6, Fe3Fet_Liq=MELTS['Fe3Fet_Liq'])\n",
    "LiZhang22.head()"
   ]
  },
  {
   "cell_type": "markdown",
   "id": "6cb41036-6563-48be-bc00-3a3314c10607",
   "metadata": {},
   "source": [
    "## Smythe sulfide saturation model"
   ]
  },
  {
   "cell_type": "code",
   "execution_count": 17,
   "id": "a7342125-5ddc-4c2b-992c-9b76cfa770ad",
   "metadata": {},
   "outputs": [
    {
     "name": "stdout",
     "output_type": "stream",
     "text": [
      "Using inputted Fe_FeNiCu_Sulf ratio for calculations.\n",
      "no non ideal SCSS as no Cu/CuFeNiCu\n"
     ]
    },
    {
     "data": {
      "text/html": [
       "<div>\n",
       "<style scoped>\n",
       "    .dataframe tbody tr th:only-of-type {\n",
       "        vertical-align: middle;\n",
       "    }\n",
       "\n",
       "    .dataframe tbody tr th {\n",
       "        vertical-align: top;\n",
       "    }\n",
       "\n",
       "    .dataframe thead th {\n",
       "        text-align: right;\n",
       "    }\n",
       "</style>\n",
       "<table border=\"1\" class=\"dataframe\">\n",
       "  <thead>\n",
       "    <tr style=\"text-align: right;\">\n",
       "      <th></th>\n",
       "      <th>SCSS2_ppm_ideal_Smythe2017</th>\n",
       "      <th>SCSS2_ppm_ideal_Smythe2017_1sigma</th>\n",
       "      <th>T_Input_K</th>\n",
       "      <th>P_Input_kbar</th>\n",
       "      <th>Fe_FeNiCu_Sulf</th>\n",
       "      <th>Fe3Fet_Liq_input</th>\n",
       "      <th>Si_wt_atom</th>\n",
       "      <th>Ti_wt_atom</th>\n",
       "      <th>Al_wt_atom</th>\n",
       "      <th>Mg_wt_atom</th>\n",
       "      <th>...</th>\n",
       "      <th>K2O_whitlockite1</th>\n",
       "      <th>P2O5_whitlockite1</th>\n",
       "      <th>H2O_whitlockite1</th>\n",
       "      <th>CO2_whitlockite1</th>\n",
       "      <th>Fe3Fet_whitlockite1</th>\n",
       "      <th>h_whitlockite1</th>\n",
       "      <th>mass_whitlockite1</th>\n",
       "      <th>v_whitlockite1</th>\n",
       "      <th>rho_whitlockite1</th>\n",
       "      <th>Fe_FeNiCu_Sulf_calc</th>\n",
       "    </tr>\n",
       "  </thead>\n",
       "  <tbody>\n",
       "    <tr>\n",
       "      <th>0</th>\n",
       "      <td>1418.668555</td>\n",
       "      <td>387.537370</td>\n",
       "      <td>1452.850000</td>\n",
       "      <td>1.0</td>\n",
       "      <td>0.65</td>\n",
       "      <td>0.099881</td>\n",
       "      <td>0.473365</td>\n",
       "      <td>0.014401</td>\n",
       "      <td>0.145286</td>\n",
       "      <td>0.092073</td>\n",
       "      <td>...</td>\n",
       "      <td>NaN</td>\n",
       "      <td>NaN</td>\n",
       "      <td>NaN</td>\n",
       "      <td>NaN</td>\n",
       "      <td>NaN</td>\n",
       "      <td>0.0</td>\n",
       "      <td>0.0</td>\n",
       "      <td>0.0</td>\n",
       "      <td>0.0</td>\n",
       "      <td>0.65</td>\n",
       "    </tr>\n",
       "    <tr>\n",
       "      <th>1</th>\n",
       "      <td>1403.504696</td>\n",
       "      <td>383.395062</td>\n",
       "      <td>1447.853488</td>\n",
       "      <td>1.0</td>\n",
       "      <td>0.65</td>\n",
       "      <td>0.099173</td>\n",
       "      <td>0.473420</td>\n",
       "      <td>0.014703</td>\n",
       "      <td>0.147939</td>\n",
       "      <td>0.088606</td>\n",
       "      <td>...</td>\n",
       "      <td>NaN</td>\n",
       "      <td>NaN</td>\n",
       "      <td>NaN</td>\n",
       "      <td>NaN</td>\n",
       "      <td>NaN</td>\n",
       "      <td>0.0</td>\n",
       "      <td>0.0</td>\n",
       "      <td>0.0</td>\n",
       "      <td>0.0</td>\n",
       "      <td>0.65</td>\n",
       "    </tr>\n",
       "    <tr>\n",
       "      <th>2</th>\n",
       "      <td>1454.310353</td>\n",
       "      <td>397.273632</td>\n",
       "      <td>1442.856977</td>\n",
       "      <td>1.0</td>\n",
       "      <td>0.65</td>\n",
       "      <td>0.098508</td>\n",
       "      <td>0.473777</td>\n",
       "      <td>0.015451</td>\n",
       "      <td>0.146469</td>\n",
       "      <td>0.086456</td>\n",
       "      <td>...</td>\n",
       "      <td>NaN</td>\n",
       "      <td>NaN</td>\n",
       "      <td>NaN</td>\n",
       "      <td>NaN</td>\n",
       "      <td>NaN</td>\n",
       "      <td>0.0</td>\n",
       "      <td>0.0</td>\n",
       "      <td>0.0</td>\n",
       "      <td>0.0</td>\n",
       "      <td>0.65</td>\n",
       "    </tr>\n",
       "    <tr>\n",
       "      <th>3</th>\n",
       "      <td>1511.400867</td>\n",
       "      <td>412.869035</td>\n",
       "      <td>1437.860465</td>\n",
       "      <td>1.0</td>\n",
       "      <td>0.65</td>\n",
       "      <td>0.098064</td>\n",
       "      <td>0.474064</td>\n",
       "      <td>0.016221</td>\n",
       "      <td>0.144961</td>\n",
       "      <td>0.084258</td>\n",
       "      <td>...</td>\n",
       "      <td>NaN</td>\n",
       "      <td>NaN</td>\n",
       "      <td>NaN</td>\n",
       "      <td>NaN</td>\n",
       "      <td>NaN</td>\n",
       "      <td>0.0</td>\n",
       "      <td>0.0</td>\n",
       "      <td>0.0</td>\n",
       "      <td>0.0</td>\n",
       "      <td>0.65</td>\n",
       "    </tr>\n",
       "    <tr>\n",
       "      <th>4</th>\n",
       "      <td>1575.725176</td>\n",
       "      <td>430.440492</td>\n",
       "      <td>1432.863953</td>\n",
       "      <td>1.0</td>\n",
       "      <td>0.65</td>\n",
       "      <td>0.097842</td>\n",
       "      <td>0.474277</td>\n",
       "      <td>0.017022</td>\n",
       "      <td>0.143391</td>\n",
       "      <td>0.081972</td>\n",
       "      <td>...</td>\n",
       "      <td>NaN</td>\n",
       "      <td>NaN</td>\n",
       "      <td>NaN</td>\n",
       "      <td>NaN</td>\n",
       "      <td>NaN</td>\n",
       "      <td>0.0</td>\n",
       "      <td>0.0</td>\n",
       "      <td>0.0</td>\n",
       "      <td>0.0</td>\n",
       "      <td>0.65</td>\n",
       "    </tr>\n",
       "  </tbody>\n",
       "</table>\n",
       "<p>5 rows × 228 columns</p>\n",
       "</div>"
      ],
      "text/plain": [
       "   SCSS2_ppm_ideal_Smythe2017  SCSS2_ppm_ideal_Smythe2017_1sigma    T_Input_K  \\\n",
       "0                 1418.668555                         387.537370  1452.850000   \n",
       "1                 1403.504696                         383.395062  1447.853488   \n",
       "2                 1454.310353                         397.273632  1442.856977   \n",
       "3                 1511.400867                         412.869035  1437.860465   \n",
       "4                 1575.725176                         430.440492  1432.863953   \n",
       "\n",
       "   P_Input_kbar  Fe_FeNiCu_Sulf  Fe3Fet_Liq_input  Si_wt_atom  Ti_wt_atom  \\\n",
       "0           1.0            0.65          0.099881    0.473365    0.014401   \n",
       "1           1.0            0.65          0.099173    0.473420    0.014703   \n",
       "2           1.0            0.65          0.098508    0.473777    0.015451   \n",
       "3           1.0            0.65          0.098064    0.474064    0.016221   \n",
       "4           1.0            0.65          0.097842    0.474277    0.017022   \n",
       "\n",
       "   Al_wt_atom  Mg_wt_atom  ...  K2O_whitlockite1  P2O5_whitlockite1  \\\n",
       "0    0.145286    0.092073  ...               NaN                NaN   \n",
       "1    0.147939    0.088606  ...               NaN                NaN   \n",
       "2    0.146469    0.086456  ...               NaN                NaN   \n",
       "3    0.144961    0.084258  ...               NaN                NaN   \n",
       "4    0.143391    0.081972  ...               NaN                NaN   \n",
       "\n",
       "   H2O_whitlockite1  CO2_whitlockite1  Fe3Fet_whitlockite1  h_whitlockite1  \\\n",
       "0               NaN               NaN                  NaN             0.0   \n",
       "1               NaN               NaN                  NaN             0.0   \n",
       "2               NaN               NaN                  NaN             0.0   \n",
       "3               NaN               NaN                  NaN             0.0   \n",
       "4               NaN               NaN                  NaN             0.0   \n",
       "\n",
       "   mass_whitlockite1  v_whitlockite1  rho_whitlockite1  Fe_FeNiCu_Sulf_calc  \n",
       "0                0.0             0.0               0.0                 0.65  \n",
       "1                0.0             0.0               0.0                 0.65  \n",
       "2                0.0             0.0               0.0                 0.65  \n",
       "3                0.0             0.0               0.0                 0.65  \n",
       "4                0.0             0.0               0.0                 0.65  \n",
       "\n",
       "[5 rows x 228 columns]"
      ]
     },
     "execution_count": 17,
     "metadata": {},
     "output_type": "execute_result"
    }
   ],
   "source": [
    "Smythe_CalcSulf=ss.calculate_S2017_SCSS(df=MELTS, \n",
    "T_K=MELTS['T_C']+273.15, \n",
    "P_kbar=P/1000, Fe_FeNiCu_Sulf=0.65,\n",
    "Fe3Fet_Liq=MELTS['Fe3Fet_Liq'])\n",
    "\n",
    "Smythe_CalcSulf.head()"
   ]
  },
  {
   "cell_type": "code",
   "execution_count": 18,
   "id": "0e921099-8edf-4866-a20f-f3d12a6ce811",
   "metadata": {},
   "outputs": [
    {
     "data": {
      "text/plain": [
       "Text(0, 0.5, 'SCSS (Smythe, ppm)')"
      ]
     },
     "execution_count": 18,
     "metadata": {},
     "output_type": "execute_result"
    },
    {
     "data": {
      "image/png": "[encoded data removed]",
      "text/plain": [
       "<Figure size 640x480 with 1 Axes>"
      ]
     },
     "metadata": {},
     "output_type": "display_data"
    }
   ],
   "source": [
    "plt.plot(MELTS['MgO_Liq'], Smythe_CalcSulf['SCSS2_ppm_ideal_Smythe2017'],\n",
    "         '-r')\n",
    "plt.xlabel('Liq MgO (wt%)')\n",
    "plt.ylabel('SCSS (Smythe, ppm)')"
   ]
  },
  {
   "cell_type": "code",
   "execution_count": 17,
   "id": "63059fc1",
   "metadata": {},
   "outputs": [
    {
     "data": {
      "text/plain": [
       "Text(0, 0.5, 'Liq FeO (wt%)')"
      ]
     },
     "execution_count": 17,
     "metadata": {},
     "output_type": "execute_result"
    },
    {
     "data": {
      "image/png": "[encoded data removed]",
      "text/plain": [
       "<Figure size 640x480 with 1 Axes>"
      ]
     },
     "metadata": {},
     "output_type": "display_data"
    }
   ],
   "source": [
    "plt.plot( MELTS['MgO_Liq'],MELTS['FeOt_Liq'],\n",
    "         '-r')\n",
    "plt.xlabel('Liq MgO (wt%)')\n",
    "plt.ylabel('Liq FeO (wt%)')"
   ]
  },
  {
   "cell_type": "code",
   "execution_count": 19,
   "id": "c7fd54af-4d57-4967-adf9-31ab632f1482",
   "metadata": {},
   "outputs": [
    {
     "data": {
      "text/plain": [
       "Text(0, 0.5, 'Liq FeO (wt%)')"
      ]
     },
     "execution_count": 19,
     "metadata": {},
     "output_type": "execute_result"
    },
    {
     "data": {
      "image/png": "[encoded data removed]",
      "text/plain": [
       "<Figure size 640x480 with 1 Axes>"
      ]
     },
     "metadata": {},
     "output_type": "display_data"
    }
   ],
   "source": [
    "plt.plot( MELTS['MgO_Liq'],MELTS['FeOt_Liq'],\n",
    "         '-r')\n",
    "plt.xlabel('Liq MgO (wt%)')\n",
    "plt.ylabel('Liq FeO (wt%)')"
   ]
  },
  {
   "cell_type": "markdown",
   "id": "e4d51d2d-e1df-4e5c-a982-c3c18900b99a",
   "metadata": {},
   "source": [
    "## Using Oneill"
   ]
  },
  {
   "cell_type": "code",
   "execution_count": 20,
   "id": "67503197-023b-4c02-8226-cfff3d56c941",
   "metadata": {},
   "outputs": [
    {
     "name": "stdout",
     "output_type": "stream",
     "text": [
      "Using inputted Fe_FeNiCu_Sulf ratio for calculations.\n"
     ]
    },
    {
     "data": {
      "text/html": [
       "<div>\n",
       "<style scoped>\n",
       "    .dataframe tbody tr th:only-of-type {\n",
       "        vertical-align: middle;\n",
       "    }\n",
       "\n",
       "    .dataframe tbody tr th {\n",
       "        vertical-align: top;\n",
       "    }\n",
       "\n",
       "    .dataframe thead th {\n",
       "        text-align: right;\n",
       "    }\n",
       "</style>\n",
       "<table border=\"1\" class=\"dataframe\">\n",
       "  <thead>\n",
       "    <tr style=\"text-align: right;\">\n",
       "      <th></th>\n",
       "      <th>SCSS2_ppm</th>\n",
       "      <th>LnS</th>\n",
       "      <th>Ln_a_FeO</th>\n",
       "      <th>Ln_a_FeS</th>\n",
       "      <th>DeltaG</th>\n",
       "      <th>LnCS2_calc</th>\n",
       "      <th>T_C</th>\n",
       "      <th>P_bar</th>\n",
       "      <th>h</th>\n",
       "      <th>s</th>\n",
       "      <th>...</th>\n",
       "      <th>K2O_whitlockite1</th>\n",
       "      <th>P2O5_whitlockite1</th>\n",
       "      <th>H2O_whitlockite1</th>\n",
       "      <th>CO2_whitlockite1</th>\n",
       "      <th>Fe3Fet_whitlockite1</th>\n",
       "      <th>h_whitlockite1</th>\n",
       "      <th>mass_whitlockite1</th>\n",
       "      <th>v_whitlockite1</th>\n",
       "      <th>rho_whitlockite1</th>\n",
       "      <th>Fe_FeNiCu_Sulf_calc</th>\n",
       "    </tr>\n",
       "  </thead>\n",
       "  <tbody>\n",
       "    <tr>\n",
       "      <th>0</th>\n",
       "      <td>1369.766307</td>\n",
       "      <td>7.222395</td>\n",
       "      <td>-2.088187</td>\n",
       "      <td>-0.514565</td>\n",
       "      <td>7.809078</td>\n",
       "      <td>-2.160304</td>\n",
       "      <td>1179.700000</td>\n",
       "      <td>1000.0</td>\n",
       "      <td>-1.180676e+06</td>\n",
       "      <td>264.191326</td>\n",
       "      <td>...</td>\n",
       "      <td>NaN</td>\n",
       "      <td>NaN</td>\n",
       "      <td>NaN</td>\n",
       "      <td>NaN</td>\n",
       "      <td>NaN</td>\n",
       "      <td>0.0</td>\n",
       "      <td>0.0</td>\n",
       "      <td>0.0</td>\n",
       "      <td>0.0</td>\n",
       "      <td>0.66</td>\n",
       "    </tr>\n",
       "    <tr>\n",
       "      <th>1</th>\n",
       "      <td>1343.739977</td>\n",
       "      <td>7.203212</td>\n",
       "      <td>-2.073514</td>\n",
       "      <td>-0.515750</td>\n",
       "      <td>7.844952</td>\n",
       "      <td>-2.199505</td>\n",
       "      <td>1174.703488</td>\n",
       "      <td>1000.0</td>\n",
       "      <td>-1.182433e+06</td>\n",
       "      <td>262.979871</td>\n",
       "      <td>...</td>\n",
       "      <td>NaN</td>\n",
       "      <td>NaN</td>\n",
       "      <td>NaN</td>\n",
       "      <td>NaN</td>\n",
       "      <td>NaN</td>\n",
       "      <td>0.0</td>\n",
       "      <td>0.0</td>\n",
       "      <td>0.0</td>\n",
       "      <td>0.0</td>\n",
       "      <td>0.66</td>\n",
       "    </tr>\n",
       "    <tr>\n",
       "      <th>2</th>\n",
       "      <td>1370.825448</td>\n",
       "      <td>7.223168</td>\n",
       "      <td>-2.043557</td>\n",
       "      <td>-0.519793</td>\n",
       "      <td>7.881088</td>\n",
       "      <td>-2.181683</td>\n",
       "      <td>1169.706977</td>\n",
       "      <td>1000.0</td>\n",
       "      <td>-1.152237e+06</td>\n",
       "      <td>255.137742</td>\n",
       "      <td>...</td>\n",
       "      <td>NaN</td>\n",
       "      <td>NaN</td>\n",
       "      <td>NaN</td>\n",
       "      <td>NaN</td>\n",
       "      <td>NaN</td>\n",
       "      <td>0.0</td>\n",
       "      <td>0.0</td>\n",
       "      <td>0.0</td>\n",
       "      <td>0.0</td>\n",
       "      <td>0.66</td>\n",
       "    </tr>\n",
       "    <tr>\n",
       "      <th>3</th>\n",
       "      <td>1399.694219</td>\n",
       "      <td>7.244009</td>\n",
       "      <td>-2.015081</td>\n",
       "      <td>-0.523839</td>\n",
       "      <td>7.917487</td>\n",
       "      <td>-2.164719</td>\n",
       "      <td>1164.710465</td>\n",
       "      <td>1000.0</td>\n",
       "      <td>-1.085778e+06</td>\n",
       "      <td>241.015439</td>\n",
       "      <td>...</td>\n",
       "      <td>NaN</td>\n",
       "      <td>NaN</td>\n",
       "      <td>NaN</td>\n",
       "      <td>NaN</td>\n",
       "      <td>NaN</td>\n",
       "      <td>0.0</td>\n",
       "      <td>0.0</td>\n",
       "      <td>0.0</td>\n",
       "      <td>0.0</td>\n",
       "      <td>0.66</td>\n",
       "    </tr>\n",
       "    <tr>\n",
       "      <th>4</th>\n",
       "      <td>1430.732150</td>\n",
       "      <td>7.265942</td>\n",
       "      <td>-1.987881</td>\n",
       "      <td>-0.527901</td>\n",
       "      <td>7.954152</td>\n",
       "      <td>-2.148190</td>\n",
       "      <td>1159.713953</td>\n",
       "      <td>1000.0</td>\n",
       "      <td>-1.024749e+06</td>\n",
       "      <td>228.018965</td>\n",
       "      <td>...</td>\n",
       "      <td>NaN</td>\n",
       "      <td>NaN</td>\n",
       "      <td>NaN</td>\n",
       "      <td>NaN</td>\n",
       "      <td>NaN</td>\n",
       "      <td>0.0</td>\n",
       "      <td>0.0</td>\n",
       "      <td>0.0</td>\n",
       "      <td>0.0</td>\n",
       "      <td>0.66</td>\n",
       "    </tr>\n",
       "  </tbody>\n",
       "</table>\n",
       "<p>5 rows × 194 columns</p>\n",
       "</div>"
      ],
      "text/plain": [
       "     SCSS2_ppm       LnS  Ln_a_FeO  Ln_a_FeS    DeltaG  LnCS2_calc  \\\n",
       "0  1369.766307  7.222395 -2.088187 -0.514565  7.809078   -2.160304   \n",
       "1  1343.739977  7.203212 -2.073514 -0.515750  7.844952   -2.199505   \n",
       "2  1370.825448  7.223168 -2.043557 -0.519793  7.881088   -2.181683   \n",
       "3  1399.694219  7.244009 -2.015081 -0.523839  7.917487   -2.164719   \n",
       "4  1430.732150  7.265942 -1.987881 -0.527901  7.954152   -2.148190   \n",
       "\n",
       "           T_C   P_bar             h           s  ...  K2O_whitlockite1  \\\n",
       "0  1179.700000  1000.0 -1.180676e+06  264.191326  ...               NaN   \n",
       "1  1174.703488  1000.0 -1.182433e+06  262.979871  ...               NaN   \n",
       "2  1169.706977  1000.0 -1.152237e+06  255.137742  ...               NaN   \n",
       "3  1164.710465  1000.0 -1.085778e+06  241.015439  ...               NaN   \n",
       "4  1159.713953  1000.0 -1.024749e+06  228.018965  ...               NaN   \n",
       "\n",
       "   P2O5_whitlockite1  H2O_whitlockite1  CO2_whitlockite1  Fe3Fet_whitlockite1  \\\n",
       "0                NaN               NaN               NaN                  NaN   \n",
       "1                NaN               NaN               NaN                  NaN   \n",
       "2                NaN               NaN               NaN                  NaN   \n",
       "3                NaN               NaN               NaN                  NaN   \n",
       "4                NaN               NaN               NaN                  NaN   \n",
       "\n",
       "   h_whitlockite1  mass_whitlockite1  v_whitlockite1  rho_whitlockite1  \\\n",
       "0             0.0                0.0             0.0               0.0   \n",
       "1             0.0                0.0             0.0               0.0   \n",
       "2             0.0                0.0             0.0               0.0   \n",
       "3             0.0                0.0             0.0               0.0   \n",
       "4             0.0                0.0             0.0               0.0   \n",
       "\n",
       "   Fe_FeNiCu_Sulf_calc  \n",
       "0                 0.66  \n",
       "1                 0.66  \n",
       "2                 0.66  \n",
       "3                 0.66  \n",
       "4                 0.66  \n",
       "\n",
       "[5 rows x 194 columns]"
      ]
     },
     "execution_count": 20,
     "metadata": {},
     "output_type": "execute_result"
    }
   ],
   "source": [
    "ONeill_MeasSulf=ss.calculate_O2021_SCSS(df=MELTS, T_K=MELTS['T_C']+273.15, \n",
    "P_kbar=P/1000,\n",
    "Fe_FeNiCu_Sulf=0.66,\n",
    "Fe3Fet_Liq=MELTS['Fe3Fet_Liq'])\n",
    "ONeill_MeasSulf.head()"
   ]
  },
  {
   "cell_type": "code",
   "execution_count": null,
   "id": "22287981-eebe-4810-a5d7-7134bc1ac57c",
   "metadata": {},
   "outputs": [],
   "source": []
  },
  {
   "cell_type": "code",
   "execution_count": null,
   "id": "657180b1-3c72-423f-8cba-a2d100126092",
   "metadata": {},
   "outputs": [],
   "source": []
  },
  {
   "cell_type": "code",
   "execution_count": null,
   "id": "5f899df0-efe2-423f-982b-aeb669e03397",
   "metadata": {},
   "outputs": [],
   "source": []
  }
 ],
 "metadata": {
  "kernelspec": {
   "display_name": "Python 3 (ipykernel)",
   "language": "python",
   "name": "python3"
  },
  "language_info": {
   "codemirror_mode": {
    "name": "ipython",
    "version": 3
   },
   "file_extension": ".py",
   "mimetype": "text/x-python",
   "name": "python",
   "nbconvert_exporter": "python",
   "pygments_lexer": "ipython3",
   "version": "3.9.17"
  }
 },
 "nbformat": 4,
 "nbformat_minor": 5
}
