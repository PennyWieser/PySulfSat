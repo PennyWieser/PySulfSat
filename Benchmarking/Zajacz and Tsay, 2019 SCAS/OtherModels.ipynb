{
 "cells": [
  {
   "cell_type": "markdown",
   "id": "a4f9fa63-cc50-4530-8cbe-d87bfda425cd",
   "metadata": {},
   "source": [
    "## Zajacz and Tsay also include calculations of older models in the supporting data 1\n",
    "- We use this to benchmark our codes for these models"
   ]
  },
  {
   "cell_type": "code",
   "execution_count": 1,
   "id": "07213bb8-711e-4045-b8d4-c5f34e0bf233",
   "metadata": {},
   "outputs": [],
   "source": [
    "import Thermobar as pt\n",
    "import pandas as pd\n",
    "import numpy as np\n",
    "import matplotlib.pyplot as plt\n",
    "from pickle import dump\n",
    "import pickle\n",
    "import PySulfSat as ss"
   ]
  },
  {
   "cell_type": "code",
   "execution_count": 2,
   "id": "e7170110-e514-4aa0-85ce-e1f509220d03",
   "metadata": {},
   "outputs": [
    {
     "name": "stdout",
     "output_type": "stream",
     "text": [
      "We have replaced all missing liquid oxides and strings with zeros. \n"
     ]
    }
   ],
   "source": [
    "df=ss.import_data('Zajacz_other_models.xlsx',\n",
    "                  sheet_name='PySulfSat')"
   ]
  },
  {
   "cell_type": "code",
   "execution_count": 3,
   "id": "d8bd0b90-3450-4675-898c-85ec4814430d",
   "metadata": {},
   "outputs": [
    {
     "name": "stderr",
     "output_type": "stream",
     "text": [
      "g:\\my drive\\berkeley_new\\pysulfsat\\pysulfsat_structure\\src\\PySulfSat\\core_calcs.py:664: FutureWarning: Dropping of nuisance columns in DataFrame reductions (with 'numeric_only=None') is deprecated; in a future version this will raise TypeError.  Select only valid columns before calling the reduction.\n",
      "  Old_Sum=(100/liq_comps_c.drop(['Sample_ID_Liq'], axis=1).sum(axis=1))\n"
     ]
    }
   ],
   "source": [
    "conv=ss.convert_fo2_to_fe_partition(liq_comps=df, T_K=df['T_K'],\n",
    "                            P_kbar=df['P_kbar'],\n",
    "                 model=\"Kress1991\", fo2=10**(df['logfO2']))"
   ]
  },
  {
   "cell_type": "code",
   "execution_count": 4,
   "id": "97ae0b3e-a5e3-4938-a612-10b1813691a7",
   "metadata": {},
   "outputs": [],
   "source": [
    "Fe3Fet_Liq=conv['Fe3Fet_Liq'].fillna(0)"
   ]
  },
  {
   "cell_type": "code",
   "execution_count": 5,
   "id": "a7dbf26d-c6e2-44a3-b374-80a9d5879237",
   "metadata": {},
   "outputs": [],
   "source": [
    "df['FeO_Liq']=df['FeOt_Liq']*(1-Fe3Fet_Liq)\n",
    "df['Fe2O3_Liq']=df['FeOt_Liq']*(Fe3Fet_Liq)*1.1111\n",
    "df_noFet=df.drop(columns='FeOt_Liq')"
   ]
  },
  {
   "cell_type": "code",
   "execution_count": 6,
   "id": "0a8cc248-e127-4029-9680-40c72f599066",
   "metadata": {},
   "outputs": [],
   "source": [
    "\n",
    "an_mol_frac=ss.calculate_anhydrous_mol_fractions_liquid(liq_comps=df)"
   ]
  },
  {
   "cell_type": "code",
   "execution_count": 7,
   "id": "8957a948-435c-469f-9003-4f07e97aefea",
   "metadata": {},
   "outputs": [],
   "source": [
    "mol_frac=ss.calculate_hydrous_mol_fractions_liquid_redox(liq_comps=df_noFet)\n",
    "#mol_frac=ss.calculate_hydrous_mol_fractions_liquid(liq_comps=df)"
   ]
  },
  {
   "cell_type": "code",
   "execution_count": 8,
   "id": "8ef3f897-1124-4604-a735-54365f0a84fc",
   "metadata": {},
   "outputs": [],
   "source": [
    "cat_frac=ss.calculate_hydrous_cat_fractions_liquid_redox(liq_comps=df_noFet)\n",
    "cat_prop=ss.calculate_hydrous_cat_proportions_liquid_redox(liq_comps=df_noFet)"
   ]
  },
  {
   "cell_type": "markdown",
   "id": "5c05ae40-0fd6-47c4-b827-715c5db8fdb0",
   "metadata": {},
   "source": [
    "# Li and Ripley (2009)\n",
    "- Need to convert from mol fraction back to ppm...\n",
    "- HAve emailed to see if hydrous or anhydrous fractions"
   ]
  },
  {
   "cell_type": "code",
   "execution_count": 9,
   "id": "2f8e1b7a-5bb9-42ff-bdf7-e9e1b72865c8",
   "metadata": {},
   "outputs": [],
   "source": [
    "T_K=df['T_K']\n",
    "P_kbar=df['P_kbar']\n",
    "Fe3Fet_Liq=0\n",
    "lnXSCSS=(-1.76 -0.474*(10**4/T_K)\n",
    "-0.021*P_kbar +5.559* mol_frac['FeO_Liq_mol_frac']*(1-Fe3Fet_Liq)\n",
    "+2.5659* mol_frac['TiO2_Liq_mol_frac']\n",
    "+2.709*mol_frac['CaO_Liq_mol_frac']\n",
    "-3.192*mol_frac['SiO2_Liq_mol_frac']  \n",
    "-3.049*mol_frac['H2O_Liq_mol_frac'])\n"
   ]
  },
  {
   "cell_type": "markdown",
   "id": "16ff51af-cac0-4ee7-bace-6d7bf36f451b",
   "metadata": {},
   "source": [
    "## Baker and Moretti "
   ]
  },
  {
   "cell_type": "code",
   "execution_count": 10,
   "id": "0946af8e-6565-4631-9d06-00c8f7ba801f",
   "metadata": {},
   "outputs": [],
   "source": [
    "\n",
    "MFM=(cat_frac['Na_Liq_cat_frac']+cat_frac['K_Liq_cat_frac']\n",
    "     +2*(cat_frac['Ca_Liq_cat_frac']+cat_frac['Mg_Liq_cat_frac']\n",
    "         +cat_frac['Fe2_Liq_cat_frac'])/(cat_frac['Si_Liq_cat_frac']*\n",
    "        (cat_frac['Al_Liq_cat_frac']+cat_frac['Fe3_Liq_cat_frac'])))\n",
    "lnS=(23.53502 - 19073.8/T_K + 4055.8*(P_kbar/10)/T_K\n",
    "     +0.82637*np.log(MFM) -0.79932*MFM*mol_frac['H2O_Liq_mol_frac']\n",
    "     +0.81241*np.log(mol_frac['H2O_Liq_mol_frac'])\n",
    "     -0.21087*np.log(mol_frac['CaO_Liq_mol_frac']))\n",
    "S=np.exp(lnS)"
   ]
  },
  {
   "cell_type": "code",
   "execution_count": 11,
   "id": "0a2131ea-b0df-4b22-abb8-0974f51d58d1",
   "metadata": {},
   "outputs": [
    {
     "data": {
      "text/plain": [
       "0      1.048068e+04\n",
       "1      1.539915e+04\n",
       "2      2.412861e+04\n",
       "3      8.931346e+03\n",
       "4      7.652691e+03\n",
       "           ...     \n",
       "188    2.027492e+05\n",
       "189    1.047814e+03\n",
       "190    1.158212e+07\n",
       "191    1.055559e+07\n",
       "192    9.288889e+06\n",
       "Length: 193, dtype: float64"
      ]
     },
     "execution_count": 11,
     "metadata": {},
     "output_type": "execute_result"
    }
   ],
   "source": [
    "S"
   ]
  },
  {
   "cell_type": "code",
   "execution_count": 12,
   "id": "0ab8c090-4a8b-4313-bd11-a391fd16f071",
   "metadata": {},
   "outputs": [
    {
     "data": {
      "image/png": "[encoded data removed]",
      "text/plain": [
       "<Figure size 640x480 with 1 Axes>"
      ]
     },
     "metadata": {},
     "output_type": "display_data"
    }
   ],
   "source": [
    "plt.plot(S, df['Baker_Moretti'], 'or')\n",
    "plt.plot([0, 100000000], [0, 100000000], '-k')\n",
    "plt.yscale('log')\n",
    "plt.xscale('log')"
   ]
  },
  {
   "cell_type": "code",
   "execution_count": null,
   "id": "cf372cc2-6cc7-4c11-b65a-b959ec0351b0",
   "metadata": {},
   "outputs": [],
   "source": []
  }
 ],
 "metadata": {
  "kernelspec": {
   "display_name": "Python 3 (ipykernel)",
   "language": "python",
   "name": "python3"
  },
  "language_info": {
   "codemirror_mode": {
    "name": "ipython",
    "version": 3
   },
   "file_extension": ".py",
   "mimetype": "text/x-python",
   "name": "python",
   "nbconvert_exporter": "python",
   "pygments_lexer": "ipython3",
   "version": "3.9.13"
  }
 },
 "nbformat": 4,
 "nbformat_minor": 5
}
